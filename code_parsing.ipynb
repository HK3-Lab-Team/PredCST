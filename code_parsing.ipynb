{
 "cells": [
  {
   "cell_type": "code",
   "execution_count": 1,
   "metadata": {},
   "outputs": [],
   "source": [
    "from PredCST.frames.code_frame import CodeFrame\n",
    "import polars as pl\n",
    "from typing import Union, List, Optional\n",
    "\n"
   ]
  },
  {
   "cell_type": "code",
   "execution_count": 2,
   "metadata": {},
   "outputs": [
    {
     "name": "stdout",
     "output_type": "stream",
     "text": [
      "Skipping file with syntax error: /Users/hk3user/Documents/Dev/Cynde/cynde/functional/embed.py\n",
      "error: cannot format /Users/hk3user/Documents/Dev/Cynde/cynde/functional/embed.py: Cannot parse: 100:87:     df_out = pl.DataFrame({\"model\": models, \"input\": inputs, f\"{column_name}_{data[0][\"model\"]}_embedding\": embeddings})\n",
      "\n",
      "Oh no! 💥 💔 💥\n",
      "1 file failed to reformat.\n",
      "\n"
     ]
    }
   ],
   "source": [
    "code_repo = \"/Users/hk3user/Documents/Dev/Cynde\"\n",
    "mfp = CodeFrame.from_python(\n",
    "    directory_path=code_repo,\n",
    "    value_column=\"code\",\n",
    "    lint_code=True,\n",
    "    name=\"Cynde_frame\",\n",
    ")"
   ]
  },
  {
   "cell_type": "code",
   "execution_count": 3,
   "metadata": {},
   "outputs": [
    {
     "data": {
      "text/html": [
       "<div><style>\n",
       ".dataframe > thead > tr,\n",
       ".dataframe > tbody > tr {\n",
       "  text-align: right;\n",
       "  white-space: pre-wrap;\n",
       "}\n",
       "</style>\n",
       "<small>shape: (94, 3)</small><table border=\"1\" class=\"dataframe\"><thead><tr><th>code</th><th>libcst tree</th><th>filename</th></tr><tr><td>str</td><td>str</td><td>str</td></tr></thead><tbody><tr><td>&quot;\n",
       "\n",
       "def generate…</td><td>&quot;FunctionDef(\n",
       " …</td><td>&quot;/Users/hk3user…</td></tr><tr><td>&quot;\n",
       "\n",
       "def list_str…</td><td>&quot;FunctionDef(\n",
       " …</td><td>&quot;/Users/hk3user…</td></tr><tr><td>&quot;\n",
       "\n",
       "def get_embe…</td><td>&quot;FunctionDef(\n",
       " …</td><td>&quot;/Users/hk3user…</td></tr><tr><td>&quot;\n",
       "\n",
       "def get_embe…</td><td>&quot;FunctionDef(\n",
       " …</td><td>&quot;/Users/hk3user…</td></tr><tr><td>&quot;\n",
       "\n",
       "class Choice…</td><td>&quot;ClassDef(\n",
       "    …</td><td>&quot;/Users/hk3user…</td></tr><tr><td>&hellip;</td><td>&hellip;</td><td>&hellip;</td></tr><tr><td>&quot;\n",
       "\n",
       "def train_ne…</td><td>&quot;FunctionDef(\n",
       " …</td><td>&quot;/Users/hk3user…</td></tr><tr><td>&quot;\n",
       "\n",
       "def generate…</td><td>&quot;FunctionDef(\n",
       " …</td><td>&quot;/Users/hk3user…</td></tr><tr><td>&quot;\n",
       "\n",
       "def fit_mode…</td><td>&quot;FunctionDef(\n",
       " …</td><td>&quot;/Users/hk3user…</td></tr><tr><td>&quot;\n",
       "\n",
       "def train_ne…</td><td>&quot;FunctionDef(\n",
       " …</td><td>&quot;/Users/hk3user…</td></tr><tr><td>&quot;\n",
       "\n",
       "def prompt(\n",
       "…</td><td>&quot;FunctionDef(\n",
       " …</td><td>&quot;/Users/hk3user…</td></tr></tbody></table></div>"
      ],
      "text/plain": [
       "shape: (94, 3)\n",
       "┌─────────────────────────────────┬────────────────┬───────────────────────────────────┐\n",
       "│ code                            ┆ libcst tree    ┆ filename                          │\n",
       "│ ---                             ┆ ---            ┆ ---                               │\n",
       "│ str                             ┆ str            ┆ str                               │\n",
       "╞═════════════════════════════════╪════════════════╪═══════════════════════════════════╡\n",
       "│                                 ┆ FunctionDef(   ┆ /Users/hk3user/Documents/Dev/Cyn… │\n",
       "│                                 ┆     name=Name( ┆                                   │\n",
       "│ def generate_demo_df():         ┆     …          ┆                                   │\n",
       "│     df…                         ┆                ┆                                   │\n",
       "│                                 ┆ FunctionDef(   ┆ /Users/hk3user/Documents/Dev/Cyn… │\n",
       "│                                 ┆     name=Name( ┆                                   │\n",
       "│ def list_struct_to_string(col_… ┆     …          ┆                                   │\n",
       "│                                 ┆ FunctionDef(   ┆ /Users/hk3user/Documents/Dev/Cyn… │\n",
       "│                                 ┆     name=Name( ┆                                   │\n",
       "│ def get_embedding_single(       ┆     …          ┆                                   │\n",
       "│     …                           ┆                ┆                                   │\n",
       "│                                 ┆ FunctionDef(   ┆ /Users/hk3user/Documents/Dev/Cyn… │\n",
       "│                                 ┆     name=Name( ┆                                   │\n",
       "│ def get_embedding_list(         ┆     …          ┆                                   │\n",
       "│     te…                         ┆                ┆                                   │\n",
       "│                                 ┆ ClassDef(      ┆ /Users/hk3user/Documents/Dev/Cyn… │\n",
       "│                                 ┆     name=Name( ┆                                   │\n",
       "│ class Choice(OriginalChoice):   ┆        …       ┆                                   │\n",
       "│ …                               ┆                ┆                                   │\n",
       "│ …                               ┆ …              ┆ …                                 │\n",
       "│                                 ┆ FunctionDef(   ┆ /Users/hk3user/Documents/Dev/Cyn… │\n",
       "│                                 ┆     name=Name( ┆                                   │\n",
       "│ def train_nested_cv_simple(     ┆     …          ┆                                   │\n",
       "│   …                             ┆                ┆                                   │\n",
       "│                                 ┆ FunctionDef(   ┆ /Users/hk3user/Documents/Dev/Cyn… │\n",
       "│                                 ┆     name=Name( ┆                                   │\n",
       "│ def generate_folds_from_np(     ┆     …          ┆                                   │\n",
       "│   …                             ┆                ┆                                   │\n",
       "│                                 ┆ FunctionDef(   ┆ /Users/hk3user/Documents/Dev/Cyn… │\n",
       "│                                 ┆     name=Name( ┆                                   │\n",
       "│ def fit_models_from_np(         ┆     …          ┆                                   │\n",
       "│     mo…                         ┆                ┆                                   │\n",
       "│                                 ┆ FunctionDef(   ┆ /Users/hk3user/Documents/Dev/Cyn… │\n",
       "│                                 ┆     name=Name( ┆                                   │\n",
       "│ def train_nested_cv_from_np(    ┆     …          ┆                                   │\n",
       "│  …                              ┆                ┆                                   │\n",
       "│                                 ┆ FunctionDef(   ┆ /Users/hk3user/Documents/Dev/Cyn… │\n",
       "│                                 ┆     name=Name( ┆                                   │\n",
       "│ def prompt(                     ┆     …          ┆                                   │\n",
       "│     df: pl.DataFra…             ┆                ┆                                   │\n",
       "└─────────────────────────────────┴────────────────┴───────────────────────────────────┘"
      ]
     },
     "execution_count": 3,
     "metadata": {},
     "output_type": "execute_result"
    }
   ],
   "source": [
    "mfp.df"
   ]
  },
  {
   "cell_type": "code",
   "execution_count": 4,
   "metadata": {},
   "outputs": [],
   "source": [
    "mfp = mfp.count_node_types(\"code\")"
   ]
  },
  {
   "cell_type": "code",
   "execution_count": 8,
   "metadata": {},
   "outputs": [
    {
     "data": {
      "text/html": [
       "<div><style>\n",
       ".dataframe > thead > tr,\n",
       ".dataframe > tbody > tr {\n",
       "  text-align: right;\n",
       "  white-space: pre-wrap;\n",
       "}\n",
       "</style>\n",
       "<small>shape: (1, 72)</small><table border=\"1\" class=\"dataframe\"><thead><tr><th>code</th><th>libcst tree</th><th>filename</th><th>code_node_count|FunctionCallCounter</th><th>code_node_count|ArgumentTypeCounter</th><th>code_node_count|ImportCounter</th><th>code_node_count|IfStatementCounter</th><th>code_node_count|BaseCompoundStatementCounter</th><th>code_node_count|ForLoopCounter</th><th>code_node_count|WhileLoopCounter</th><th>code_node_count|TryExceptCounter</th><th>code_node_count|WithStatementCounter</th><th>code_node_count|LambdaFunctionCounter</th><th>code_node_count|GlobalStatementCounter</th><th>code_node_count|NonlocalStatementCounter</th><th>code_node_count|ListComprehensionCounter</th><th>code_node_count|DictComprehensionCounter</th><th>code_node_count|SetComprehensionCounter</th><th>code_node_count|GeneratorExpressionCounter</th><th>code_node_count|AwaitCounter</th><th>code_node_count|ReturnCounter</th><th>code_node_count|BreakCounter</th><th>code_node_count|ContinueCounter</th><th>code_node_count|RaiseCounter</th><th>code_node_count|AssertCounter</th><th>code_node_count|PassCounter</th><th>code_operator_count|BitInvertOperatorCounter</th><th>code_operator_count|MinusOperatorCounter</th><th>code_operator_count|NotOperatorCounter</th><th>code_operator_count|PlusOperatorCounter</th><th>code_operator_count|AndOperatorCounter</th><th>code_operator_count|OrOperatorCounter</th><th>code_operator_count|AddOperatorCounter</th><th>code_operator_count|BitAndOperatorCounter</th><th>code_operator_count|BitOrOperatorCounter</th><th>code_operator_count|BitXorOperatorCounter</th><th>code_operator_count|DivideOperatorCounter</th><th>code_operator_count|FloorDivideOperatorCounter</th><th>code_operator_count|LeftShiftOperatorCounter</th><th>code_operator_count|MatrixMultiplyOperatorCounter</th><th>code_operator_count|ModuloOperatorCounter</th><th>code_operator_count|MultiplyOperatorCounter</th><th>code_operator_count|PowerOperatorCounter</th><th>code_operator_count|RightShiftOperatorCounter</th><th>code_operator_count|SubtractOperatorCounter</th><th>code_operator_count|EqualOperatorCounter</th><th>code_operator_count|GreaterThanOperatorCounter</th><th>code_operator_count|GreaterThanEqualOperatorCounter</th><th>code_operator_count|InOperatorCounter</th><th>code_operator_count|IsOperatorCounter</th><th>code_operator_count|LessThanOperatorCounter</th><th>code_operator_count|LessThanEqualOperatorCounter</th><th>code_operator_count|NotEqualOperatorCounter</th><th>code_operator_count|IsNotOperatorCounter</th><th>code_operator_count|NotInOperatorCounter</th><th>code_operator_count|AddAssignOperatorCounter</th><th>code_operator_count|BitAndAssignOperatorCounter</th><th>code_operator_count|BitOrAssignOperatorCounter</th><th>code_operator_count|BitXorAssignOperatorCounter</th><th>code_operator_count|DivideAssignOperatorCounter</th><th>code_operator_count|FloorDivideAssignOperatorCounter</th><th>code_operator_count|LeftShiftAssignOperatorCounter</th><th>code_operator_count|MatrixMultiplyAssignOperatorCounter</th><th>code_operator_count|ModuloAssignOperatorCounter</th><th>code_operator_count|MultiplyAssignOperatorCounter</th><th>code_operator_count|PowerAssignOperatorCounter</th><th>code_operator_count|RightShiftAssignOperatorCounter</th><th>code_operator_count|SubtractAssignOperatorCounter</th><th>code_operator_count|AssignEqualOperatorCounter</th><th>code_operator_count|ColonOperatorCounter</th><th>code_operator_count|CommaOperatorCounter</th><th>code_operator_count|DotOperatorCounter</th></tr><tr><td>str</td><td>str</td><td>str</td><td>i64</td><td>i64</td><td>i64</td><td>i64</td><td>i64</td><td>i64</td><td>i64</td><td>i64</td><td>i64</td><td>i64</td><td>i64</td><td>i64</td><td>i64</td><td>i64</td><td>i64</td><td>i64</td><td>i64</td><td>i64</td><td>i64</td><td>i64</td><td>i64</td><td>i64</td><td>i64</td><td>i64</td><td>i64</td><td>i64</td><td>i64</td><td>i64</td><td>i64</td><td>i64</td><td>i64</td><td>i64</td><td>i64</td><td>i64</td><td>i64</td><td>i64</td><td>i64</td><td>i64</td><td>i64</td><td>i64</td><td>i64</td><td>i64</td><td>i64</td><td>i64</td><td>i64</td><td>i64</td><td>i64</td><td>i64</td><td>i64</td><td>i64</td><td>i64</td><td>i64</td><td>i64</td><td>i64</td><td>i64</td><td>i64</td><td>i64</td><td>i64</td><td>i64</td><td>i64</td><td>i64</td><td>i64</td><td>i64</td><td>i64</td><td>i64</td><td>i64</td><td>i64</td><td>i64</td><td>i64</td></tr></thead><tbody><tr><td>&quot;\n",
       "\n",
       "def generate…</td><td>&quot;FunctionDef(\n",
       " …</td><td>&quot;/Users/hk3user…</td><td>4</td><td>0</td><td>0</td><td>0</td><td>0</td><td>0</td><td>0</td><td>0</td><td>0</td><td>0</td><td>0</td><td>0</td><td>0</td><td>0</td><td>0</td><td>0</td><td>0</td><td>1</td><td>0</td><td>0</td><td>0</td><td>0</td><td>0</td><td>0</td><td>0</td><td>0</td><td>0</td><td>0</td><td>0</td><td>0</td><td>0</td><td>0</td><td>0</td><td>0</td><td>0</td><td>0</td><td>0</td><td>0</td><td>0</td><td>0</td><td>0</td><td>0</td><td>0</td><td>0</td><td>0</td><td>0</td><td>0</td><td>0</td><td>0</td><td>0</td><td>0</td><td>0</td><td>0</td><td>0</td><td>0</td><td>0</td><td>0</td><td>0</td><td>0</td><td>0</td><td>0</td><td>0</td><td>0</td><td>0</td><td>0</td><td>0</td><td>0</td><td>32</td><td>1</td></tr></tbody></table></div>"
      ],
      "text/plain": [
       "shape: (1, 72)\n",
       "┌───────────┬───────────┬───────────┬───────────┬───┬───────────┬───────────┬───────────┬──────────┐\n",
       "│ code      ┆ libcst    ┆ filename  ┆ code_node ┆ … ┆ code_oper ┆ code_oper ┆ code_oper ┆ code_ope │\n",
       "│ ---       ┆ tree      ┆ ---       ┆ _count|Fu ┆   ┆ ator_coun ┆ ator_coun ┆ ator_coun ┆ rator_co │\n",
       "│ str       ┆ ---       ┆ str       ┆ nctionCal ┆   ┆ t|AssignE ┆ t|ColonOp ┆ t|CommaOp ┆ unt|DotO │\n",
       "│           ┆ str       ┆           ┆ lCoun…    ┆   ┆ qualO…    ┆ erato…    ┆ erato…    ┆ peratorC │\n",
       "│           ┆           ┆           ┆ ---       ┆   ┆ ---       ┆ ---       ┆ ---       ┆ …        │\n",
       "│           ┆           ┆           ┆ i64       ┆   ┆ i64       ┆ i64       ┆ i64       ┆ ---      │\n",
       "│           ┆           ┆           ┆           ┆   ┆           ┆           ┆           ┆ i64      │\n",
       "╞═══════════╪═══════════╪═══════════╪═══════════╪═══╪═══════════╪═══════════╪═══════════╪══════════╡\n",
       "│           ┆ FunctionD ┆ /Users/hk ┆ 4         ┆ … ┆ 0         ┆ 0         ┆ 32        ┆ 1        │\n",
       "│           ┆ ef(       ┆ 3user/Doc ┆           ┆   ┆           ┆           ┆           ┆          │\n",
       "│ def gener ┆ name=Name ┆ uments/De ┆           ┆   ┆           ┆           ┆           ┆          │\n",
       "│ ate_demo_ ┆ (         ┆ v/Cyn…    ┆           ┆   ┆           ┆           ┆           ┆          │\n",
       "│ df():     ┆     …     ┆           ┆           ┆   ┆           ┆           ┆           ┆          │\n",
       "│     df…   ┆           ┆           ┆           ┆   ┆           ┆           ┆           ┆          │\n",
       "└───────────┴───────────┴───────────┴───────────┴───┴───────────┴───────────┴───────────┴──────────┘"
      ]
     },
     "execution_count": 8,
     "metadata": {},
     "output_type": "execute_result"
    }
   ],
   "source": [
    "mfp.df.head(1)"
   ]
  },
  {
   "cell_type": "code",
   "execution_count": 6,
   "metadata": {},
   "outputs": [],
   "source": [
    "mfp = mfp.count_operators(\"code\")"
   ]
  },
  {
   "cell_type": "code",
   "execution_count": 9,
   "metadata": {},
   "outputs": [
    {
     "data": {
      "text/html": [
       "<div><style>\n",
       ".dataframe > thead > tr,\n",
       ".dataframe > tbody > tr {\n",
       "  text-align: right;\n",
       "  white-space: pre-wrap;\n",
       "}\n",
       "</style>\n",
       "<small>shape: (1, 72)</small><table border=\"1\" class=\"dataframe\"><thead><tr><th>code</th><th>libcst tree</th><th>filename</th><th>code_node_count|FunctionCallCounter</th><th>code_node_count|ArgumentTypeCounter</th><th>code_node_count|ImportCounter</th><th>code_node_count|IfStatementCounter</th><th>code_node_count|BaseCompoundStatementCounter</th><th>code_node_count|ForLoopCounter</th><th>code_node_count|WhileLoopCounter</th><th>code_node_count|TryExceptCounter</th><th>code_node_count|WithStatementCounter</th><th>code_node_count|LambdaFunctionCounter</th><th>code_node_count|GlobalStatementCounter</th><th>code_node_count|NonlocalStatementCounter</th><th>code_node_count|ListComprehensionCounter</th><th>code_node_count|DictComprehensionCounter</th><th>code_node_count|SetComprehensionCounter</th><th>code_node_count|GeneratorExpressionCounter</th><th>code_node_count|AwaitCounter</th><th>code_node_count|ReturnCounter</th><th>code_node_count|BreakCounter</th><th>code_node_count|ContinueCounter</th><th>code_node_count|RaiseCounter</th><th>code_node_count|AssertCounter</th><th>code_node_count|PassCounter</th><th>code_operator_count|BitInvertOperatorCounter</th><th>code_operator_count|MinusOperatorCounter</th><th>code_operator_count|NotOperatorCounter</th><th>code_operator_count|PlusOperatorCounter</th><th>code_operator_count|AndOperatorCounter</th><th>code_operator_count|OrOperatorCounter</th><th>code_operator_count|AddOperatorCounter</th><th>code_operator_count|BitAndOperatorCounter</th><th>code_operator_count|BitOrOperatorCounter</th><th>code_operator_count|BitXorOperatorCounter</th><th>code_operator_count|DivideOperatorCounter</th><th>code_operator_count|FloorDivideOperatorCounter</th><th>code_operator_count|LeftShiftOperatorCounter</th><th>code_operator_count|MatrixMultiplyOperatorCounter</th><th>code_operator_count|ModuloOperatorCounter</th><th>code_operator_count|MultiplyOperatorCounter</th><th>code_operator_count|PowerOperatorCounter</th><th>code_operator_count|RightShiftOperatorCounter</th><th>code_operator_count|SubtractOperatorCounter</th><th>code_operator_count|EqualOperatorCounter</th><th>code_operator_count|GreaterThanOperatorCounter</th><th>code_operator_count|GreaterThanEqualOperatorCounter</th><th>code_operator_count|InOperatorCounter</th><th>code_operator_count|IsOperatorCounter</th><th>code_operator_count|LessThanOperatorCounter</th><th>code_operator_count|LessThanEqualOperatorCounter</th><th>code_operator_count|NotEqualOperatorCounter</th><th>code_operator_count|IsNotOperatorCounter</th><th>code_operator_count|NotInOperatorCounter</th><th>code_operator_count|AddAssignOperatorCounter</th><th>code_operator_count|BitAndAssignOperatorCounter</th><th>code_operator_count|BitOrAssignOperatorCounter</th><th>code_operator_count|BitXorAssignOperatorCounter</th><th>code_operator_count|DivideAssignOperatorCounter</th><th>code_operator_count|FloorDivideAssignOperatorCounter</th><th>code_operator_count|LeftShiftAssignOperatorCounter</th><th>code_operator_count|MatrixMultiplyAssignOperatorCounter</th><th>code_operator_count|ModuloAssignOperatorCounter</th><th>code_operator_count|MultiplyAssignOperatorCounter</th><th>code_operator_count|PowerAssignOperatorCounter</th><th>code_operator_count|RightShiftAssignOperatorCounter</th><th>code_operator_count|SubtractAssignOperatorCounter</th><th>code_operator_count|AssignEqualOperatorCounter</th><th>code_operator_count|ColonOperatorCounter</th><th>code_operator_count|CommaOperatorCounter</th><th>code_operator_count|DotOperatorCounter</th></tr><tr><td>str</td><td>str</td><td>str</td><td>i64</td><td>i64</td><td>i64</td><td>i64</td><td>i64</td><td>i64</td><td>i64</td><td>i64</td><td>i64</td><td>i64</td><td>i64</td><td>i64</td><td>i64</td><td>i64</td><td>i64</td><td>i64</td><td>i64</td><td>i64</td><td>i64</td><td>i64</td><td>i64</td><td>i64</td><td>i64</td><td>i64</td><td>i64</td><td>i64</td><td>i64</td><td>i64</td><td>i64</td><td>i64</td><td>i64</td><td>i64</td><td>i64</td><td>i64</td><td>i64</td><td>i64</td><td>i64</td><td>i64</td><td>i64</td><td>i64</td><td>i64</td><td>i64</td><td>i64</td><td>i64</td><td>i64</td><td>i64</td><td>i64</td><td>i64</td><td>i64</td><td>i64</td><td>i64</td><td>i64</td><td>i64</td><td>i64</td><td>i64</td><td>i64</td><td>i64</td><td>i64</td><td>i64</td><td>i64</td><td>i64</td><td>i64</td><td>i64</td><td>i64</td><td>i64</td><td>i64</td><td>i64</td><td>i64</td><td>i64</td></tr></thead><tbody><tr><td>&quot;\n",
       "\n",
       "def generate…</td><td>&quot;FunctionDef(\n",
       " …</td><td>&quot;/Users/hk3user…</td><td>4</td><td>0</td><td>0</td><td>0</td><td>0</td><td>0</td><td>0</td><td>0</td><td>0</td><td>0</td><td>0</td><td>0</td><td>0</td><td>0</td><td>0</td><td>0</td><td>0</td><td>1</td><td>0</td><td>0</td><td>0</td><td>0</td><td>0</td><td>0</td><td>0</td><td>0</td><td>0</td><td>0</td><td>0</td><td>0</td><td>0</td><td>0</td><td>0</td><td>0</td><td>0</td><td>0</td><td>0</td><td>0</td><td>0</td><td>0</td><td>0</td><td>0</td><td>0</td><td>0</td><td>0</td><td>0</td><td>0</td><td>0</td><td>0</td><td>0</td><td>0</td><td>0</td><td>0</td><td>0</td><td>0</td><td>0</td><td>0</td><td>0</td><td>0</td><td>0</td><td>0</td><td>0</td><td>0</td><td>0</td><td>0</td><td>0</td><td>0</td><td>32</td><td>1</td></tr></tbody></table></div>"
      ],
      "text/plain": [
       "shape: (1, 72)\n",
       "┌───────────┬───────────┬───────────┬───────────┬───┬───────────┬───────────┬───────────┬──────────┐\n",
       "│ code      ┆ libcst    ┆ filename  ┆ code_node ┆ … ┆ code_oper ┆ code_oper ┆ code_oper ┆ code_ope │\n",
       "│ ---       ┆ tree      ┆ ---       ┆ _count|Fu ┆   ┆ ator_coun ┆ ator_coun ┆ ator_coun ┆ rator_co │\n",
       "│ str       ┆ ---       ┆ str       ┆ nctionCal ┆   ┆ t|AssignE ┆ t|ColonOp ┆ t|CommaOp ┆ unt|DotO │\n",
       "│           ┆ str       ┆           ┆ lCoun…    ┆   ┆ qualO…    ┆ erato…    ┆ erato…    ┆ peratorC │\n",
       "│           ┆           ┆           ┆ ---       ┆   ┆ ---       ┆ ---       ┆ ---       ┆ …        │\n",
       "│           ┆           ┆           ┆ i64       ┆   ┆ i64       ┆ i64       ┆ i64       ┆ ---      │\n",
       "│           ┆           ┆           ┆           ┆   ┆           ┆           ┆           ┆ i64      │\n",
       "╞═══════════╪═══════════╪═══════════╪═══════════╪═══╪═══════════╪═══════════╪═══════════╪══════════╡\n",
       "│           ┆ FunctionD ┆ /Users/hk ┆ 4         ┆ … ┆ 0         ┆ 0         ┆ 32        ┆ 1        │\n",
       "│           ┆ ef(       ┆ 3user/Doc ┆           ┆   ┆           ┆           ┆           ┆          │\n",
       "│ def gener ┆ name=Name ┆ uments/De ┆           ┆   ┆           ┆           ┆           ┆          │\n",
       "│ ate_demo_ ┆ (         ┆ v/Cyn…    ┆           ┆   ┆           ┆           ┆           ┆          │\n",
       "│ df():     ┆     …     ┆           ┆           ┆   ┆           ┆           ┆           ┆          │\n",
       "│     df…   ┆           ┆           ┆           ┆   ┆           ┆           ┆           ┆          │\n",
       "└───────────┴───────────┴───────────┴───────────┴───┴───────────┴───────────┴───────────┴──────────┘"
      ]
     },
     "execution_count": 9,
     "metadata": {},
     "output_type": "execute_result"
    }
   ],
   "source": [
    "mfp.df.head(1)"
   ]
  },
  {
   "cell_type": "code",
   "execution_count": null,
   "metadata": {},
   "outputs": [],
   "source": []
  }
 ],
 "metadata": {
  "kernelspec": {
   "display_name": "pred_cst",
   "language": "python",
   "name": "python3"
  },
  "language_info": {
   "codemirror_mode": {
    "name": "ipython",
    "version": 3
   },
   "file_extension": ".py",
   "mimetype": "text/x-python",
   "name": "python",
   "nbconvert_exporter": "python",
   "pygments_lexer": "ipython3",
   "version": "3.12.1"
  }
 },
 "nbformat": 4,
 "nbformat_minor": 2
}
