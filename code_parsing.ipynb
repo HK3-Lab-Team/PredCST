{
 "cells": [
  {
   "cell_type": "markdown",
   "metadata": {},
   "source": [
    "### imports. "
   ]
  },
  {
   "cell_type": "code",
   "execution_count": 2,
   "metadata": {},
   "outputs": [],
   "source": [
    "from PredCST.frames.code_frame import CodeFrame\n",
    "from PredCST.utils.pythonparser import print_code_diff\n",
    "import polars as pl\n",
    "from typing import Union, List, Optional\n",
    "import tiktoken\n",
    "import matplotlib.pyplot as plt\n",
    "import os\n",
    "import sys\n",
    "sys.path.append('/Users/hk3user/Documents/Dev/Cynde')  \n",
    "import cynde.functional as cf\n",
    "import nest_asyncio\n",
    "\n",
    "nest_asyncio.apply()\n",
    "import seaborn as sns"
   ]
  },
  {
   "cell_type": "code",
   "execution_count": 21,
   "metadata": {},
   "outputs": [],
   "source": [
    "#get openaisecret\n",
    "openaisecret = os.environ.get('OPENAI_API_KEY')\n"
   ]
  },
  {
   "cell_type": "markdown",
   "metadata": {},
   "source": [
    "### Util functions. "
   ]
  },
  {
   "cell_type": "code",
   "execution_count": 4,
   "metadata": {},
   "outputs": [],
   "source": [
    "def add_token_count_and_drop_tokens(df, column_name):\n",
    "    encoding = tiktoken.get_encoding(\"cl100k_base\")\n",
    "    df = df.unique()\n",
    "    df = df.with_columns(\n",
    "        pl.col(column_name).map_elements(encoding.encode).alias('temp_encoded')\n",
    "    ).with_columns(\n",
    "        pl.col('temp_encoded').map_elements(len).alias(f'{column_name}_token_len')\n",
    "    ).drop('temp_encoded')\n",
    "    \n",
    "    return df\n",
    "\n",
    "def compute_embedding_percentage(df, column_name, limit=8191):\n",
    "    total_rows = df.shape[0]\n",
    "    within_limit_rows = df.filter(pl.col(column_name) <= limit).shape[0]\n",
    "    percentage = (within_limit_rows / total_rows) * 100\n",
    "    return percentage\n",
    "\n",
    "def plot_token_len_histograms(df:pl.DataFrame, data_set_name:str):\n",
    "    \"\"\"\n",
    "    Plots histograms for every column in the dataframe that ends with '_token_len'.\n",
    "    \n",
    "    Parameters:\n",
    "    - df: A Polars DataFrame containing the data.\n",
    "    \"\"\"\n",
    "    # Filter columns that end with '_token_len'\n",
    "    token_len_columns = [col for col in df.columns if col.endswith('_token_len')]\n",
    "    \n",
    "    # Set the aesthetics for the plots\n",
    "    sns.set(style=\"whitegrid\", palette=\"pastel\", color_codes=True)\n",
    "    \n",
    "    # Iterate through the filtered columns to plot histograms\n",
    "    for col in token_len_columns:\n",
    "        sns.histplot(df[col], kde=True, bins=30, alpha=0.6)\n",
    "        plt.title(f'Histogram of {col} for {data_set_name}', fontsize=16)\n",
    "        plt.xlabel(f'{col} Values', fontsize=14)\n",
    "        plt.ylabel('Frequency', fontsize=14)\n",
    "        plt.xticks(fontsize=12)\n",
    "        plt.yticks(fontsize=12)\n",
    "        plt.show()\n",
    "\n",
    "def compute_embedding_price(df, text_column, model=\"text-embedding-3-large\"):\n",
    "    # Define model prices per token\n",
    "    model_prices = {\n",
    "        \"text-embedding-3-small\": 0.02 / 1_000_000,\n",
    "        \"text-embedding-3-large\": 0.13 / 1_000_00,\n",
    "        \"ada v2\": 0.10 / 1_000_000,\n",
    "    }\n",
    "    price_per_token = model_prices[model]\n",
    "    # Ensure the model is supported\n",
    "    if model not in model_prices:\n",
    "        raise ValueError(f\"Model {model} not supported. Please choose from {list(model_prices.keys())}.\")\n",
    "    # Calculate price for each row\n",
    "    df = df.with_columns(\n",
    "        (pl.col(f'{text_column}_token_len') * price_per_token).alias('price_per_row')\n",
    "    )\n",
    "    \n",
    "    # Compute the total cost\n",
    "    total_cost = df.select(pl.sum(\"price_per_row\")).to_numpy()[0][0]\n",
    "    \n",
    "    return total_cost\n",
    "\n",
    "\n",
    "def count_python_packages(directory_path):\n",
    "    packages = 0\n",
    "    for root, dirs, files in os.walk(directory_path):\n",
    "        for dir in dirs:\n",
    "            if os.path.isdir(os.path.join(root, dir)) and \"__init__.py\" in os.listdir(os.path.join(root, dir)):\n",
    "                packages += 1\n",
    "    return packages\n",
    "\n",
    "def count_python_files(directory_path):\n",
    "    python_files = 0\n",
    "    for file in os.listdir(directory_path):\n",
    "        if file.endswith(\".py\"):\n",
    "            python_files += 1\n",
    "    return python_files\n"
   ]
  },
  {
   "cell_type": "markdown",
   "metadata": {},
   "source": [
    "### Load code frame "
   ]
  },
  {
   "cell_type": "code",
   "execution_count": 5,
   "metadata": {},
   "outputs": [
    {
     "name": "stdout",
     "output_type": "stream",
     "text": [
      "Error processing ./repo_list/standard_lib/test/test_grammar.py: Syntax Error @ 426:31.\n",
      "parser error: error at 425:30: expected one of !=, %, &, (, *, **, +, ,, -, ., /, //, ;, <, <<, <=, =, ==, >, >=, >>, @, NEWLINE, [, ^, and, if, in, is, not, or, |\n",
      "\n",
      "            print(no_such_global)\n",
      "                              ^\n",
      "Error processing ./repo_list/standard_lib/test/badsyntax_pep3120.py: 'utf-8' codec can't decode byte 0xf6 in position 8: invalid start byte\n",
      "Error processing ./repo_list/standard_lib/test/typinganndata/ann_module.py: Syntax Error @ 32:1.\n",
      "parser error: error at 31:8: expected one of !=, %, &, (, *, **, +, ,, -, ., /, //, ;, <, <<, <=, =, ==, >, >=, >>, @, NEWLINE, [, ^, and, if, in, is, not, or, |\n",
      "\n",
      "(pars): bool = True\n",
      "                  ^\n",
      "Error processing ./repo_list/standard_lib/test/tokenizedata/badsyntax_3131.py: Syntax Error @ 1:1.\n",
      "tokenizer error: \"€\" is not a valid identifier\n",
      "\n",
      "# -*- coding: utf-8 -*-\n",
      "^\n",
      "Error processing ./repo_list/standard_lib/test/encoded_modules/module_koi8_r.py: 'utf-8' codec can't decode byte 0xf0 in position 59: invalid continuation byte\n",
      "Error processing ./repo_list/standard_lib/test/encoded_modules/module_iso_8859_1.py: 'utf-8' codec can't decode byte 0xe9 in position 92: invalid continuation byte\n",
      "Error processing ./repo_list/standard_lib/test/test_lib2to3/data/different_encoding.py: Syntax Error @ 4:1.\n",
      "parser error: error at 3:71: expected one of !=, %, &, (, *, **, +, ,, -, ., /, //, :, ;, <, <<, <=, =, ==, >, >=, >>, @, NEWLINE, [, ^, and, if, in, is, not, or, |\n",
      "\n",
      "print u'ßàáâãäåæçèéêëìíîïðñòóôõöøùúûüýþÿÀÁÂÃÄÅÆÇÈÉÊËÌÍÎÏÐÑÒÓÔÕÖØÙÚÛÜÝÞ'\n",
      "                                                                      ^\n",
      "Error processing ./repo_list/standard_lib/test/test_lib2to3/data/false_encoding.py: Syntax Error @ 2:1.\n",
      "parser error: error at 2:17: expected one of !=, %, &, (, *, **, +, ,, -, ., /, //, :, ;, <, <<, <=, =, ==, >, >=, >>, @, NEWLINE, [, ^, and, if, in, is, not, or, |\n",
      "\n",
      "print '#coding=0'\n",
      "^\n",
      "Error processing ./repo_list/standard_lib/test/test_lib2to3/data/bom.py: Syntax Error @ 2:1.\n",
      "parser error: error at 2:17: expected one of !=, %, &, (, *, **, +, ,, -, ., /, //, :, ;, <, <<, <=, =, ==, >, >=, >>, @, NEWLINE, [, ^, and, if, in, is, not, or, |\n",
      "\n",
      "print \"BOM BOOM!\"\n",
      "^\n",
      "Error processing ./repo_list/standard_lib/test/test_lib2to3/data/py2_test_grammar.py: Syntax Error @ 1:1.\n",
      "tokenizer error: leading zeros in decimal integer literals are not permitted; use an 0o prefix for octal integers\n",
      "\n",
      "# Python test set -- part 1, grammar.\n",
      "^\n",
      "Error processing ./repo_list/standard_lib/test/test_lib2to3/data/crlf.py: Syntax Error @ 2:1.\n",
      "parser error: error at 1:10: expected one of !=, %, &, (, *, **, +, ,, -, ., /, //, :, ;, <, <<, <=, =, ==, >, >=, >>, @, NEWLINE, [, ^, and, if, in, is, not, or, |\n",
      "\n",
      "print \"hi\"\n",
      "         ^\n"
     ]
    },
    {
     "name": "stderr",
     "output_type": "stream",
     "text": [
      "Exception ignored in: <bound method IPythonKernel._clean_thread_parent_frames of <ipykernel.ipkernel.IPythonKernel object at 0x105f028a0>>\n",
      "Traceback (most recent call last):\n",
      "  File \"/Users/hk3user/.pyenv/versions/3.12.1/envs/pred_cst/lib/python3.12/site-packages/ipykernel/ipkernel.py\", line 770, in _clean_thread_parent_frames\n",
      "    def _clean_thread_parent_frames(\n",
      "\n",
      "KeyboardInterrupt: \n"
     ]
    },
    {
     "name": "stdout",
     "output_type": "stream",
     "text": [
      "Error processing ./repo_list/standard_lib/pydoc_data/topics.py: maximum recursion depth exceeded\n"
     ]
    }
   ],
   "source": [
    "code_repo = \"./repo_list/standard_lib\"\n",
    "mfp = CodeFrame.from_python(\n",
    "    directory_path=code_repo,\n",
    "    resolution=\"all\",\n",
    "    value_column=\"code\",\n",
    "    lint_code=False,\n",
    "    name=\"python_3_12_1_standard_lib_frame\",\n",
    ")\n",
    "mfp.df = pl.read_parquet(\"./saved_frames/python_3_12_1_standard_lib_base_frame\")\n",
    "mfp.modules = pl.read_parquet(\"./saved_frames/python_3_12_1_standard_lib_modules_frame\")\n",
    "mfp.functions = pl.read_parquet(\"./saved_frames/python_3_12_1_standard_lib_functions_frame\")\n",
    "mfp.classes = pl.read_parquet(\"./saved_frames/python_3_12_1_standard_lib_classes_frame\")"
   ]
  },
  {
   "cell_type": "code",
   "execution_count": 12,
   "metadata": {},
   "outputs": [
    {
     "name": "stdout",
     "output_type": "stream",
     "text": [
      "Number of Python packages: 163\n",
      "Number of Python files: 164\n"
     ]
    }
   ],
   "source": [
    "packages = count_python_packages(code_repo)\n",
    "pyfiles = count_python_files(code_repo)\n",
    "print(f\"Number of Python packages: {packages}\")\n",
    "print(f\"Number of Python files: {pyfiles}\")"
   ]
  },
  {
   "cell_type": "code",
   "execution_count": 17,
   "metadata": {},
   "outputs": [
    {
     "name": "stdout",
     "output_type": "stream",
     "text": [
      "99.50476889214967\n",
      "86.77680536631381\n"
     ]
    }
   ],
   "source": [
    "mfp.df = add_token_count_and_drop_tokens(mfp.df, 'code')\n",
    "mfp.df = add_token_count_and_drop_tokens(mfp.df, 'cst_tree')\n",
    "print(compute_embedding_percentage(mfp.df, 'code_token_len'))\n",
    "print(compute_embedding_percentage(mfp.df, 'cst_tree_token_len'))"
   ]
  },
  {
   "cell_type": "markdown",
   "metadata": {},
   "source": [
    "# modules. "
   ]
  },
  {
   "cell_type": "markdown",
   "metadata": {},
   "source": [
    "### Map licenses for Python Standard Lib. "
   ]
  },
  {
   "cell_type": "code",
   "execution_count": 5,
   "metadata": {},
   "outputs": [],
   "source": [
    "license_mapping = {\n",
    "    # Sockets module might use code from the WIDE Project\n",
    "    \"socket.py\": \"BSD-like License from WIDE Project\",\n",
    "    # Cookie management module\n",
    "    \"http/cookies.py\": \"MIT License by Timothy O'Malley\",\n",
    "    # Execution tracing might not directly map but relate to trace.py\n",
    "    \"trace.py\": \"PSF License with contributions under Python 2.2 license\",\n",
    "    # UUencode and UUdecode functions, directly applies to uu module\n",
    "    \"uu.py\": \"PSF License with acknowledgment to Lance Ellinghouse and modifications by Jack Jansen\",\n",
    "    # XML RPC client interface\n",
    "    \"xmlrpc/client.py\": \"MIT License by Secret Labs AB and Fredrik Lundh\",\n",
    "    # OpenSSL is used by several modules for encryption and security\n",
    "    \"ssl.py\": \"Apache License 2.0 (for OpenSSL components)\",\n",
    "    \"test/support/asynchat.py\":\"Copyright 1996 by Sam Rushing\",\n",
    "    \"test/support/asyncore.py\":\"Copyright 1996 by Sam Rushing\",\n",
    "    \"hashlib.py\": \"Apache License 2.0 (for OpenSSL components)\",\n",
    "    \"random.py\": \"Copyright (C) 1997 - 2002, Makoto Matsumoto and Takuji Nishimura\",\n",
    "    \"posixpath.py\": \"Apache License 2.0 (for OpenSSL components)\",\n",
    "    \"crypt.py\": \"Apache License 2.0 (for OpenSSL components)\",\n",
    "    # expat parser used in xml modules\n",
    "    \"xml/parsers/expat.py\": \"MIT License for included expat sources\",\n",
    "    # libmpdec is used by the decimal module\n",
    "    \"decimal.py\": \"BSD License for included libmpdec sources\",\n",
    "}\n"
   ]
  },
  {
   "cell_type": "code",
   "execution_count": 6,
   "metadata": {},
   "outputs": [
    {
     "name": "stdout",
     "output_type": "stream",
     "text": [
      "(2056, 9)\n"
     ]
    },
    {
     "data": {
      "text/html": [
       "<div><style>\n",
       ".dataframe > thead > tr,\n",
       ".dataframe > tbody > tr {\n",
       "  text-align: right;\n",
       "  white-space: pre-wrap;\n",
       "}\n",
       "</style>\n",
       "<small>shape: (2, 9)</small><table border=\"1\" class=\"dataframe\"><thead><tr><th>type</th><th>code</th><th>cst_tree</th><th>file_name</th><th>modules</th><th>version</th><th>code_token_len</th><th>cst_tree_token_len</th><th>license</th></tr><tr><td>str</td><td>str</td><td>str</td><td>str</td><td>str</td><td>str</td><td>i64</td><td>i64</td><td>str</td></tr></thead><tbody><tr><td>&quot;module&quot;</td><td>&quot;# SPDX-License…</td><td>&quot;Module(\n",
       "    bo…</td><td>&quot;./repo_list/st…</td><td>&quot;test/test_toml…</td><td>&quot;3.12.1&quot;</td><td>480</td><td>15040</td><td>&quot;Python Softwar…</td></tr><tr><td>&quot;module&quot;</td><td>&quot;&quot;&quot;&quot;\n",
       "Correct sy…</td><td>&quot;Module(\n",
       "    bo…</td><td>&quot;./repo_list/st…</td><td>&quot;test/typingann…</td><td>&quot;3.12.1&quot;</td><td>130</td><td>3482</td><td>&quot;Python Softwar…</td></tr></tbody></table></div>"
      ],
      "text/plain": [
       "shape: (2, 9)\n",
       "┌────────┬────────────┬────────────┬────────────┬───┬─────────┬────────────┬───────────┬───────────┐\n",
       "│ type   ┆ code       ┆ cst_tree   ┆ file_name  ┆ … ┆ version ┆ code_token ┆ cst_tree_ ┆ license   │\n",
       "│ ---    ┆ ---        ┆ ---        ┆ ---        ┆   ┆ ---     ┆ _len       ┆ token_len ┆ ---       │\n",
       "│ str    ┆ str        ┆ str        ┆ str        ┆   ┆ str     ┆ ---        ┆ ---       ┆ str       │\n",
       "│        ┆            ┆            ┆            ┆   ┆         ┆ i64        ┆ i64       ┆           │\n",
       "╞════════╪════════════╪════════════╪════════════╪═══╪═════════╪════════════╪═══════════╪═══════════╡\n",
       "│ module ┆ # SPDX-Lic ┆ Module(    ┆ ./repo_lis ┆ … ┆ 3.12.1  ┆ 480        ┆ 15040     ┆ Python    │\n",
       "│        ┆ ense-Ident ┆     body=[ ┆ t/standard ┆   ┆         ┆            ┆           ┆ Software  │\n",
       "│        ┆ ifier: MIT ┆ Simpl…     ┆ _lib/test/ ┆   ┆         ┆            ┆           ┆ Foundatio │\n",
       "│        ┆ #…         ┆            ┆ te…        ┆   ┆         ┆            ┆           ┆ n Licen…  │\n",
       "│ module ┆ \"\"\"        ┆ Module(    ┆ ./repo_lis ┆ … ┆ 3.12.1  ┆ 130        ┆ 3482      ┆ Python    │\n",
       "│        ┆ Correct    ┆     body=[ ┆ t/standard ┆   ┆         ┆            ┆           ┆ Software  │\n",
       "│        ┆ syntax for ┆ Simpl…     ┆ _lib/test/ ┆   ┆         ┆            ┆           ┆ Foundatio │\n",
       "│        ┆ variable … ┆            ┆ ty…        ┆   ┆         ┆            ┆           ┆ n Licen…  │\n",
       "└────────┴────────────┴────────────┴────────────┴───┴─────────┴────────────┴───────────┴───────────┘"
      ]
     },
     "execution_count": 6,
     "metadata": {},
     "output_type": "execute_result"
    }
   ],
   "source": [
    "mfp.modules = (\n",
    "    mfp.modules\n",
    "    .with_columns(modules = pl.col(\"file_name\").str.replace('./repo_list/standard_lib/', \"\", literal=True))\n",
    "\n",
    "\n",
    ")\n",
    "lics = ['Python Software Foundation License'] * mfp.modules.shape[0]\n",
    "version =['3.12.1'] * mfp.modules.shape[0]\n",
    "mfp.modules = mfp.modules.with_columns(pl.Series(name=\"license\", values=lics))\n",
    "mfp.modules = mfp.modules.with_columns(pl.Series(name=\"version\", values=version))\n",
    "\n",
    "for module_path, license_name in license_mapping.items():\n",
    "    mfp.modules = mfp.modules.with_columns(\n",
    "        pl.when(pl.col(\"modules\") == module_path)\n",
    "        .then(pl.lit(license_name))\n",
    "        .otherwise(pl.col(\"license\"))\n",
    "        .alias(\"license_temp\")\n",
    "    )\n",
    "    # Swap the temporary column to 'license' and drop the old 'license'\n",
    "    mfp.modules = mfp.modules.drop(\"license\").rename({\"license_temp\": \"license\"})\n",
    "print(mfp.modules.shape)\n",
    "mfp.modules.head(2)"
   ]
  },
  {
   "cell_type": "code",
   "execution_count": 7,
   "metadata": {},
   "outputs": [
    {
     "name": "stdout",
     "output_type": "stream",
     "text": [
      "The percentage of modules under the 'Python Software Foundation License' is: 99.32%\n"
     ]
    }
   ],
   "source": [
    "total_modules = mfp.modules.shape[0]\n",
    "psf_modules = mfp.modules.filter(pl.col('license') == 'Python Software Foundation License').shape[0]\n",
    "psf_percentage = (psf_modules / total_modules) * 100\n",
    "print(f\"The percentage of modules under the 'Python Software Foundation License' is: {psf_percentage:.2f}%\")\n"
   ]
  },
  {
   "cell_type": "markdown",
   "metadata": {},
   "source": [
    "### token counter. "
   ]
  },
  {
   "cell_type": "code",
   "execution_count": 20,
   "metadata": {},
   "outputs": [],
   "source": [
    "mfp.modules = add_token_count_and_drop_tokens(mfp.modules, 'code')\n",
    "mfp.modules = add_token_count_and_drop_tokens(mfp.modules, 'cst_tree')\n"
   ]
  },
  {
   "cell_type": "code",
   "execution_count": 24,
   "metadata": {},
   "outputs": [
    {
     "name": "stdout",
     "output_type": "stream",
     "text": [
      "9,118,446\n",
      "239,306,272\n"
     ]
    }
   ],
   "source": [
    "print(f\"{mfp.modules.select(pl.col('code_token_len').sum())[0, 'code_token_len']:,}\")\n",
    "print(f\"{mfp.modules.select(pl.col('cst_tree_token_len').sum())[0, 'cst_tree_token_len']:,}\")\n"
   ]
  },
  {
   "cell_type": "markdown",
   "metadata": {},
   "source": [
    "### analysis. "
   ]
  },
  {
   "cell_type": "code",
   "execution_count": 27,
   "metadata": {},
   "outputs": [
    {
     "name": "stdout",
     "output_type": "stream",
     "text": [
      "85.84630350194551\n",
      "20.379377431906615\n"
     ]
    }
   ],
   "source": [
    "print(compute_embedding_percentage(mfp.modules, 'code_token_len'))\n",
    "print(compute_embedding_percentage(mfp.modules, 'cst_tree_token_len'))"
   ]
  },
  {
   "cell_type": "code",
   "execution_count": 17,
   "metadata": {},
   "outputs": [
    {
     "name": "stdout",
     "output_type": "stream",
     "text": [
      "11.85\n",
      "311.10\n"
     ]
    }
   ],
   "source": [
    "print(f'{compute_embedding_price(mfp.modules, \"code\"):.2f}')\n",
    "print(f'{compute_embedding_price(mfp.modules, \"cst_tree\"):.2f}')\n"
   ]
  },
  {
   "cell_type": "code",
   "execution_count": 16,
   "metadata": {},
   "outputs": [
    {
     "data": {
      "image/png": "[encoded data removed]",
      "text/plain": [
       "<Figure size 640x480 with 1 Axes>"
      ]
     },
     "metadata": {},
     "output_type": "display_data"
    },
    {
     "data": {
      "image/png": "[encoded data removed]",
      "text/plain": [
       "<Figure size 640x480 with 1 Axes>"
      ]
     },
     "metadata": {},
     "output_type": "display_data"
    }
   ],
   "source": [
    "plot_token_len_histograms(mfp.modules, \"Python Standard Lib Modules\")"
   ]
  },
  {
   "cell_type": "markdown",
   "metadata": {},
   "source": [
    "### Embedding"
   ]
  },
  {
   "cell_type": "code",
   "execution_count": 11,
   "metadata": {},
   "outputs": [],
   "source": [
    "modules = mfp.modules.filter(pl.col(\"code_token_len\") <8191).filter(pl.col(\"code_token_len\") >5)"
   ]
  },
  {
   "cell_type": "code",
   "execution_count": null,
   "metadata": {},
   "outputs": [],
   "source": [
    "embedded_df = cf.embed_columns(df=modules, column_names=[\"code\"],models=[\"text-embedding-3-small\"],api_key=openaisecret)"
   ]
  },
  {
   "cell_type": "code",
   "execution_count": null,
   "metadata": {},
   "outputs": [],
   "source": [
    "embedded_df = embedded_df.unique(subset='code')\n",
    "embedded_df2 = cf.embed_columns(df=embedded_df, column_names=[\"code\"],models=[\"text-embedding-3-large\"],api_key=openaisecret).unique(subset='code')"
   ]
  },
  {
   "cell_type": "code",
   "execution_count": 21,
   "metadata": {},
   "outputs": [],
   "source": [
    "embedded_df2.write_parquet(\"./saved_frames/python_3_12_1_standard_lib_modules_embedded_code.parquet\")"
   ]
  },
  {
   "cell_type": "code",
   "execution_count": 29,
   "metadata": {},
   "outputs": [],
   "source": [
    "embedded_df2 = pl.read_parquet(\"./saved_frames/python_3_12_1_standard_lib_modules_embedded_code.parquet\")"
   ]
  },
  {
   "cell_type": "code",
   "execution_count": 22,
   "metadata": {},
   "outputs": [
    {
     "name": "stdout",
     "output_type": "stream",
     "text": [
      "generate_embedding_batched_payloads_from_column took 0.08388216700404882 minutes/seconds\n"
     ]
    },
    {
     "name": "stderr",
     "output_type": "stream",
     "text": [
      "INFO:root:Starting request #0\n",
      "INFO:root:Starting request #1\n",
      "INFO:root:Starting request #2\n",
      "INFO:root:Starting request #3\n",
      "INFO:root:Starting request #4\n",
      "INFO:root:Parallel processing complete. Results saved to /Users/hk3user/Documents/Dev/Cynde/output/cst_tree_text-embedding-3-small_results.jsonl\n"
     ]
    },
    {
     "name": "stdout",
     "output_type": "stream",
     "text": [
      "process_api_requests_from_file took 14.720407249871641 minutes/seconds\n",
      "load_openai_batched_emb_results_jsonl took 0.09958487516269088 minutes/seconds\n",
      "merge_df_with_openai_emb_results took 0.01447783294133842 minutes/seconds\n",
      "Embeddings for column 'cst_tree' with model 'text-embedding-3-small' have been merged into the DataFrame.\n"
     ]
    }
   ],
   "source": [
    "cst_modules = mfp.modules.filter(pl.col(\"cst_tree_token_len\") <8191).filter(pl.col(\"cst_tree_token_len\") >5)\n",
    "embedded_cst = cf.embed_columns(df=cst_modules, column_names=[\"cst_tree\"],models=[\"text-embedding-3-small\"],api_key=openaisecret)"
   ]
  },
  {
   "cell_type": "code",
   "execution_count": 25,
   "metadata": {},
   "outputs": [],
   "source": [
    "embedded_cst = embedded_cst.unique(subset='cst_tree')"
   ]
  },
  {
   "cell_type": "code",
   "execution_count": 38,
   "metadata": {},
   "outputs": [],
   "source": [
    "cst_embs = embedded_df2.join(embedded_cst, on=\"code\", how=\"left\")['cst_tree_text-embedding-3-small_embedding'].to_list()\n",
    "\n",
    "embedded_df2.with_columns(pl.Series(name=\"cst_tree_text-embedding-3-small_embedding\", values=cst_embs)).write_parquet(\"python_3_12_1_standard_lib_modules_all_embs.parquet\")"
   ]
  },
  {
   "cell_type": "code",
   "execution_count": null,
   "metadata": {},
   "outputs": [],
   "source": [
    "embedded_df2"
   ]
  },
  {
   "cell_type": "code",
   "execution_count": 24,
   "metadata": {},
   "outputs": [],
   "source": [
    "modules = pl.read_parquet(\"./saved_frames/python_3_12_1_standard_lib_modules_all_embs.parquet\")\n",
    "leftovers = mfp.modules.filter(pl.col(\"cst_tree_token_len\") >8191)\n",
    "nons = [None for i in range(leftovers.shape[0])]\n",
    "leftovers = (\n",
    "    leftovers\n",
    "    .with_columns(pl.Series(name=\"code_text-embedding-3-small_embedding\", values=nons))\n",
    "\n",
    "    .with_columns(pl.Series(name=\"code_text-embedding-3-large_embedding\", values=nons))\n",
    "    .with_columns(pl.Series(name=\"cst_tree_text-embedding-3-small_embedding\", values=nons))\n",
    "\n",
    ")\n",
    "c = leftovers.columns\n",
    "leftovers= leftovers.select(c)\n",
    "modules=modules.select(c)\n",
    "pl.concat([modules, leftovers]).write_parquet(\"python_3_12_1_standard_lib_modules_all.parquet\")"
   ]
  },
  {
   "cell_type": "markdown",
   "metadata": {},
   "source": [
    "# functions. "
   ]
  },
  {
   "cell_type": "markdown",
   "metadata": {},
   "source": [
    "### Map licenses for Python Standard Lib. "
   ]
  },
  {
   "cell_type": "code",
   "execution_count": 39,
   "metadata": {},
   "outputs": [
    {
     "name": "stdout",
     "output_type": "stream",
     "text": [
      "(61009, 9)\n"
     ]
    },
    {
     "data": {
      "text/html": [
       "<div><style>\n",
       ".dataframe > thead > tr,\n",
       ".dataframe > tbody > tr {\n",
       "  text-align: right;\n",
       "  white-space: pre-wrap;\n",
       "}\n",
       "</style>\n",
       "<small>shape: (2, 9)</small><table border=\"1\" class=\"dataframe\"><thead><tr><th>type</th><th>code</th><th>cst_tree</th><th>file_name</th><th>modules</th><th>version</th><th>code_token_len</th><th>cst_tree_token_len</th><th>license</th></tr><tr><td>str</td><td>str</td><td>str</td><td>str</td><td>str</td><td>str</td><td>i64</td><td>i64</td><td>str</td></tr></thead><tbody><tr><td>&quot;function&quot;</td><td>&quot;\n",
       "def __init__(…</td><td>&quot;FunctionDef(\n",
       " …</td><td>&quot;./repo_list/st…</td><td>&quot;tempfile.py&quot;</td><td>&quot;3.12.1&quot;</td><td>47</td><td>1743</td><td>&quot;Python Softwar…</td></tr><tr><td>&quot;function&quot;</td><td>&quot;\n",
       "# The underly…</td><td>&quot;FunctionDef(\n",
       " …</td><td>&quot;./repo_list/st…</td><td>&quot;tempfile.py&quot;</td><td>&quot;3.12.1&quot;</td><td>42</td><td>841</td><td>&quot;Python Softwar…</td></tr></tbody></table></div>"
      ],
      "text/plain": [
       "shape: (2, 9)\n",
       "┌──────────┬────────────┬────────────┬───────────┬───┬─────────┬───────────┬───────────┬───────────┐\n",
       "│ type     ┆ code       ┆ cst_tree   ┆ file_name ┆ … ┆ version ┆ code_toke ┆ cst_tree_ ┆ license   │\n",
       "│ ---      ┆ ---        ┆ ---        ┆ ---       ┆   ┆ ---     ┆ n_len     ┆ token_len ┆ ---       │\n",
       "│ str      ┆ str        ┆ str        ┆ str       ┆   ┆ str     ┆ ---       ┆ ---       ┆ str       │\n",
       "│          ┆            ┆            ┆           ┆   ┆         ┆ i64       ┆ i64       ┆           │\n",
       "╞══════════╪════════════╪════════════╪═══════════╪═══╪═════════╪═══════════╪═══════════╪═══════════╡\n",
       "│ function ┆            ┆ FunctionDe ┆ ./repo_li ┆ … ┆ 3.12.1  ┆ 47        ┆ 1743      ┆ Python    │\n",
       "│          ┆ def __init ┆ f(         ┆ st/standa ┆   ┆         ┆           ┆           ┆ Software  │\n",
       "│          ┆ __(self,   ┆ name=Name( ┆ rd_lib/te ┆   ┆         ┆           ┆           ┆ Foundatio │\n",
       "│          ┆ file,      ┆     …      ┆ mpfil…    ┆   ┆         ┆           ┆           ┆ n Licen…  │\n",
       "│          ┆ name, …    ┆            ┆           ┆   ┆         ┆           ┆           ┆           │\n",
       "│ function ┆            ┆ FunctionDe ┆ ./repo_li ┆ … ┆ 3.12.1  ┆ 42        ┆ 841       ┆ Python    │\n",
       "│          ┆ # The      ┆ f(         ┆ st/standa ┆   ┆         ┆           ┆           ┆ Software  │\n",
       "│          ┆ underlying ┆ name=Name( ┆ rd_lib/te ┆   ┆         ┆           ┆           ┆ Foundatio │\n",
       "│          ┆ __enter__  ┆     …      ┆ mpfil…    ┆   ┆         ┆           ┆           ┆ n Licen…  │\n",
       "│          ┆ meth…      ┆            ┆           ┆   ┆         ┆           ┆           ┆           │\n",
       "└──────────┴────────────┴────────────┴───────────┴───┴─────────┴───────────┴───────────┴───────────┘"
      ]
     },
     "execution_count": 39,
     "metadata": {},
     "output_type": "execute_result"
    }
   ],
   "source": [
    "mfp.functions = (\n",
    "    mfp.functions\n",
    "    .with_columns(modules = pl.col(\"file_name\").str.replace('./repo_list/standard_lib/', \"\", literal=True))\n",
    "\n",
    "\n",
    ")\n",
    "lics = ['Python Software Foundation License'] * mfp.functions.shape[0]\n",
    "version =['3.12.1'] * mfp.functions.shape[0]\n",
    "mfp.functions = mfp.functions.with_columns(pl.Series(name=\"license\", values=lics))\n",
    "mfp.functions = mfp.functions.with_columns(pl.Series(name=\"version\", values=version))\n",
    "\n",
    "for module_path, license_name in license_mapping.items():\n",
    "    mfp.functions = mfp.functions.with_columns(\n",
    "        pl.when(pl.col(\"modules\") == module_path)\n",
    "        .then(pl.lit(license_name))\n",
    "        .otherwise(pl.col(\"license\"))\n",
    "        .alias(\"license_temp\")\n",
    "    )\n",
    "    # Swap the temporary column to 'license' and drop the old 'license'\n",
    "    mfp.functions = mfp.functions.drop(\"license\").rename({\"license_temp\": \"license\"})\n",
    "print(mfp.functions.shape)\n",
    "mfp.functions.head(2)"
   ]
  },
  {
   "cell_type": "markdown",
   "metadata": {},
   "source": [
    "### token counter. "
   ]
  },
  {
   "cell_type": "code",
   "execution_count": 21,
   "metadata": {},
   "outputs": [],
   "source": [
    "mfp.functions = add_token_count_and_drop_tokens(mfp.functions, 'code')\n",
    "mfp.functions = add_token_count_and_drop_tokens(mfp.functions, 'cst_tree')\n"
   ]
  },
  {
   "cell_type": "code",
   "execution_count": 25,
   "metadata": {},
   "outputs": [
    {
     "name": "stdout",
     "output_type": "stream",
     "text": [
      "6,977,330\n",
      "210,537,222\n"
     ]
    }
   ],
   "source": [
    "print(f\"{mfp.functions.select(pl.col('code_token_len').sum())[0, 'code_token_len']:,}\")\n",
    "print(f\"{mfp.functions.select(pl.col('cst_tree_token_len').sum())[0, 'cst_tree_token_len']:,}\")"
   ]
  },
  {
   "cell_type": "markdown",
   "metadata": {},
   "source": [
    "### Analysis. "
   ]
  },
  {
   "cell_type": "code",
   "execution_count": 26,
   "metadata": {},
   "outputs": [
    {
     "name": "stdout",
     "output_type": "stream",
     "text": [
      "100.0\n",
      "91.87333016440198\n"
     ]
    }
   ],
   "source": [
    "print(compute_embedding_percentage(mfp.functions, 'code_token_len'))\n",
    "print(compute_embedding_percentage(mfp.functions, 'cst_tree_token_len'))"
   ]
  },
  {
   "cell_type": "code",
   "execution_count": 18,
   "metadata": {},
   "outputs": [
    {
     "name": "stdout",
     "output_type": "stream",
     "text": [
      "9.07\n",
      "273.70\n"
     ]
    }
   ],
   "source": [
    "print(f'{compute_embedding_price(mfp.functions, \"code\"):.2f}')\n",
    "print(f'{compute_embedding_price(mfp.functions, \"cst_tree\"):.2f}')"
   ]
  },
  {
   "cell_type": "code",
   "execution_count": 17,
   "metadata": {},
   "outputs": [
    {
     "data": {
      "image/png": "[encoded data removed]",
      "text/plain": [
       "<Figure size 640x480 with 1 Axes>"
      ]
     },
     "metadata": {},
     "output_type": "display_data"
    },
    {
     "data": {
      "image/png": "[encoded data removed]",
      "text/plain": [
       "<Figure size 640x480 with 1 Axes>"
      ]
     },
     "metadata": {},
     "output_type": "display_data"
    }
   ],
   "source": [
    "plot_token_len_histograms(mfp.functions,\"Python Standard Lib Functions\")"
   ]
  },
  {
   "cell_type": "markdown",
   "metadata": {},
   "source": [
    "### Embedding"
   ]
  },
  {
   "cell_type": "code",
   "execution_count": 42,
   "metadata": {},
   "outputs": [],
   "source": [
    "functions = mfp.functions.filter(pl.col(\"code_token_len\") <8191).filter(pl.col(\"code_token_len\") >5)"
   ]
  },
  {
   "cell_type": "code",
   "execution_count": 46,
   "metadata": {},
   "outputs": [
    {
     "data": {
      "text/html": [
       "<div><style>\n",
       ".dataframe > thead > tr,\n",
       ".dataframe > tbody > tr {\n",
       "  text-align: right;\n",
       "  white-space: pre-wrap;\n",
       "}\n",
       "</style>\n",
       "<small>shape: (60_999, 9)</small><table border=\"1\" class=\"dataframe\"><thead><tr><th>type</th><th>code</th><th>cst_tree</th><th>file_name</th><th>modules</th><th>version</th><th>code_token_len</th><th>cst_tree_token_len</th><th>license</th></tr><tr><td>str</td><td>str</td><td>str</td><td>str</td><td>str</td><td>str</td><td>i64</td><td>i64</td><td>str</td></tr></thead><tbody><tr><td>&quot;function&quot;</td><td>&quot;\n",
       "def __init__(…</td><td>&quot;FunctionDef(\n",
       " …</td><td>&quot;./repo_list/st…</td><td>&quot;tempfile.py&quot;</td><td>&quot;3.12.1&quot;</td><td>47</td><td>1743</td><td>&quot;Python Softwar…</td></tr><tr><td>&quot;function&quot;</td><td>&quot;\n",
       "# The underly…</td><td>&quot;FunctionDef(\n",
       " …</td><td>&quot;./repo_list/st…</td><td>&quot;tempfile.py&quot;</td><td>&quot;3.12.1&quot;</td><td>42</td><td>841</td><td>&quot;Python Softwar…</td></tr><tr><td>&quot;function&quot;</td><td>&quot;\n",
       "def close(sel…</td><td>&quot;FunctionDef(\n",
       " …</td><td>&quot;./repo_list/st…</td><td>&quot;tempfile.py&quot;</td><td>&quot;3.12.1&quot;</td><td>26</td><td>731</td><td>&quot;Python Softwar…</td></tr><tr><td>&quot;function&quot;</td><td>&quot;\n",
       "def _check(se…</td><td>&quot;FunctionDef(\n",
       " …</td><td>&quot;./repo_list/st…</td><td>&quot;tempfile.py&quot;</td><td>&quot;3.12.1&quot;</td><td>44</td><td>1557</td><td>&quot;Python Softwar…</td></tr><tr><td>&quot;function&quot;</td><td>&quot;\n",
       "@property\n",
       "def…</td><td>&quot;FunctionDef(\n",
       " …</td><td>&quot;./repo_list/st…</td><td>&quot;tempfile.py&quot;</td><td>&quot;3.12.1&quot;</td><td>14</td><td>675</td><td>&quot;Python Softwar…</td></tr><tr><td>&hellip;</td><td>&hellip;</td><td>&hellip;</td><td>&hellip;</td><td>&hellip;</td><td>&hellip;</td><td>&hellip;</td><td>&hellip;</td><td>&hellip;</td></tr><tr><td>&quot;function&quot;</td><td>&quot;\n",
       "def getEventT…</td><td>&quot;FunctionDef(\n",
       " …</td><td>&quot;./repo_list/st…</td><td>&quot;logging/handle…</td><td>&quot;3.12.1&quot;</td><td>123</td><td>1263</td><td>&quot;Python Softwar…</td></tr><tr><td>&quot;function&quot;</td><td>&quot;\n",
       "\n",
       "def get_msg_…</td><td>&quot;FunctionDef(\n",
       " …</td><td>&quot;./repo_list/st…</td><td>&quot;email/_header_…</td><td>&quot;3.12.1&quot;</td><td>638</td><td>17332</td><td>&quot;Python Softwar…</td></tr><tr><td>&quot;function&quot;</td><td>&quot;\n",
       "\n",
       "#\n",
       "# Header f…</td><td>&quot;FunctionDef(\n",
       " …</td><td>&quot;./repo_list/st…</td><td>&quot;email/_header_…</td><td>&quot;3.12.1&quot;</td><td>193</td><td>3520</td><td>&quot;Python Softwar…</td></tr><tr><td>&quot;function&quot;</td><td>&quot;\n",
       "def keys(self…</td><td>&quot;FunctionDef(\n",
       " …</td><td>&quot;./repo_list/st…</td><td>&quot;email/message.…</td><td>&quot;3.12.1&quot;</td><td>81</td><td>959</td><td>&quot;Python Softwar…</td></tr><tr><td>&quot;function&quot;</td><td>&quot;\n",
       "def add_alter…</td><td>&quot;FunctionDef(\n",
       " …</td><td>&quot;./repo_list/st…</td><td>&quot;email/message.…</td><td>&quot;3.12.1&quot;</td><td>28</td><td>1048</td><td>&quot;Python Softwar…</td></tr></tbody></table></div>"
      ],
      "text/plain": [
       "shape: (60_999, 9)\n",
       "┌──────────┬────────────┬────────────┬───────────┬───┬─────────┬───────────┬───────────┬───────────┐\n",
       "│ type     ┆ code       ┆ cst_tree   ┆ file_name ┆ … ┆ version ┆ code_toke ┆ cst_tree_ ┆ license   │\n",
       "│ ---      ┆ ---        ┆ ---        ┆ ---       ┆   ┆ ---     ┆ n_len     ┆ token_len ┆ ---       │\n",
       "│ str      ┆ str        ┆ str        ┆ str       ┆   ┆ str     ┆ ---       ┆ ---       ┆ str       │\n",
       "│          ┆            ┆            ┆           ┆   ┆         ┆ i64       ┆ i64       ┆           │\n",
       "╞══════════╪════════════╪════════════╪═══════════╪═══╪═════════╪═══════════╪═══════════╪═══════════╡\n",
       "│ function ┆            ┆ FunctionDe ┆ ./repo_li ┆ … ┆ 3.12.1  ┆ 47        ┆ 1743      ┆ Python    │\n",
       "│          ┆ def __init ┆ f(         ┆ st/standa ┆   ┆         ┆           ┆           ┆ Software  │\n",
       "│          ┆ __(self,   ┆ name=Name( ┆ rd_lib/te ┆   ┆         ┆           ┆           ┆ Foundatio │\n",
       "│          ┆ file,      ┆     …      ┆ mpfil…    ┆   ┆         ┆           ┆           ┆ n Licen…  │\n",
       "│          ┆ name, …    ┆            ┆           ┆   ┆         ┆           ┆           ┆           │\n",
       "│ function ┆            ┆ FunctionDe ┆ ./repo_li ┆ … ┆ 3.12.1  ┆ 42        ┆ 841       ┆ Python    │\n",
       "│          ┆ # The      ┆ f(         ┆ st/standa ┆   ┆         ┆           ┆           ┆ Software  │\n",
       "│          ┆ underlying ┆ name=Name( ┆ rd_lib/te ┆   ┆         ┆           ┆           ┆ Foundatio │\n",
       "│          ┆ __enter__  ┆     …      ┆ mpfil…    ┆   ┆         ┆           ┆           ┆ n Licen…  │\n",
       "│          ┆ meth…      ┆            ┆           ┆   ┆         ┆           ┆           ┆           │\n",
       "│ function ┆            ┆ FunctionDe ┆ ./repo_li ┆ … ┆ 3.12.1  ┆ 26        ┆ 731       ┆ Python    │\n",
       "│          ┆ def close( ┆ f(         ┆ st/standa ┆   ┆         ┆           ┆           ┆ Software  │\n",
       "│          ┆ self):     ┆ name=Name( ┆ rd_lib/te ┆   ┆         ┆           ┆           ┆ Foundatio │\n",
       "│          ┆     \"\"\"    ┆     …      ┆ mpfil…    ┆   ┆         ┆           ┆           ┆ n Licen…  │\n",
       "│          ┆       …    ┆            ┆           ┆   ┆         ┆           ┆           ┆           │\n",
       "│ function ┆            ┆ FunctionDe ┆ ./repo_li ┆ … ┆ 3.12.1  ┆ 44        ┆ 1557      ┆ Python    │\n",
       "│          ┆ def _check ┆ f(         ┆ st/standa ┆   ┆         ┆           ┆           ┆ Software  │\n",
       "│          ┆ (self,     ┆ name=Name( ┆ rd_lib/te ┆   ┆         ┆           ┆           ┆ Foundatio │\n",
       "│          ┆ file):     ┆     …      ┆ mpfil…    ┆   ┆         ┆           ┆           ┆ n Licen…  │\n",
       "│          ┆     if …   ┆            ┆           ┆   ┆         ┆           ┆           ┆           │\n",
       "│ function ┆            ┆ FunctionDe ┆ ./repo_li ┆ … ┆ 3.12.1  ┆ 14        ┆ 675       ┆ Python    │\n",
       "│          ┆ @property  ┆ f(         ┆ st/standa ┆   ┆         ┆           ┆           ┆ Software  │\n",
       "│          ┆ def encodi ┆ name=Name( ┆ rd_lib/te ┆   ┆         ┆           ┆           ┆ Foundatio │\n",
       "│          ┆ ng(self):  ┆     …      ┆ mpfil…    ┆   ┆         ┆           ┆           ┆ n Licen…  │\n",
       "│          ┆  …         ┆            ┆           ┆   ┆         ┆           ┆           ┆           │\n",
       "│ …        ┆ …          ┆ …          ┆ …         ┆ … ┆ …       ┆ …         ┆ …         ┆ …         │\n",
       "│ function ┆            ┆ FunctionDe ┆ ./repo_li ┆ … ┆ 3.12.1  ┆ 123       ┆ 1263      ┆ Python    │\n",
       "│          ┆ def getEve ┆ f(         ┆ st/standa ┆   ┆         ┆           ┆           ┆ Software  │\n",
       "│          ┆ ntType(sel ┆ name=Name( ┆ rd_lib/lo ┆   ┆         ┆           ┆           ┆ Foundatio │\n",
       "│          ┆ f,         ┆     …      ┆ gging…    ┆   ┆         ┆           ┆           ┆ n Licen…  │\n",
       "│          ┆ record):…  ┆            ┆           ┆   ┆         ┆           ┆           ┆           │\n",
       "│ function ┆            ┆ FunctionDe ┆ ./repo_li ┆ … ┆ 3.12.1  ┆ 638       ┆ 17332     ┆ Python    │\n",
       "│          ┆            ┆ f(         ┆ st/standa ┆   ┆         ┆           ┆           ┆ Software  │\n",
       "│          ┆ def get_ms ┆ name=Name( ┆ rd_lib/em ┆   ┆         ┆           ┆           ┆ Foundatio │\n",
       "│          ┆ g_id(value ┆     …      ┆ ail/_…    ┆   ┆         ┆           ┆           ┆ n Licen…  │\n",
       "│          ┆ ):         ┆            ┆           ┆   ┆         ┆           ┆           ┆           │\n",
       "│          ┆     \"\"\"…   ┆            ┆           ┆   ┆         ┆           ┆           ┆           │\n",
       "│ function ┆            ┆ FunctionDe ┆ ./repo_li ┆ … ┆ 3.12.1  ┆ 193       ┆ 3520      ┆ Python    │\n",
       "│          ┆            ┆ f(         ┆ st/standa ┆   ┆         ┆           ┆           ┆ Software  │\n",
       "│          ┆ #          ┆ name=Name( ┆ rd_lib/em ┆   ┆         ┆           ┆           ┆ Foundatio │\n",
       "│          ┆ # Header   ┆     …      ┆ ail/_…    ┆   ┆         ┆           ┆           ┆ n Licen…  │\n",
       "│          ┆ folding    ┆            ┆           ┆   ┆         ┆           ┆           ┆           │\n",
       "│          ┆ #          ┆            ┆           ┆   ┆         ┆           ┆           ┆           │\n",
       "│          ┆ # Header … ┆            ┆           ┆   ┆         ┆           ┆           ┆           │\n",
       "│ function ┆            ┆ FunctionDe ┆ ./repo_li ┆ … ┆ 3.12.1  ┆ 81        ┆ 959       ┆ Python    │\n",
       "│          ┆ def keys(s ┆ f(         ┆ st/standa ┆   ┆         ┆           ┆           ┆ Software  │\n",
       "│          ┆ elf):      ┆ name=Name( ┆ rd_lib/em ┆   ┆         ┆           ┆           ┆ Foundatio │\n",
       "│          ┆ \"\"\"Return  ┆     …      ┆ ail/m…    ┆   ┆         ┆           ┆           ┆ n Licen…  │\n",
       "│          ┆ a…         ┆            ┆           ┆   ┆         ┆           ┆           ┆           │\n",
       "│ function ┆            ┆ FunctionDe ┆ ./repo_li ┆ … ┆ 3.12.1  ┆ 28        ┆ 1048      ┆ Python    │\n",
       "│          ┆ def add_al ┆ f(         ┆ st/standa ┆   ┆         ┆           ┆           ┆ Software  │\n",
       "│          ┆ ternative( ┆ name=Name( ┆ rd_lib/em ┆   ┆         ┆           ┆           ┆ Foundatio │\n",
       "│          ┆ self,      ┆     …      ┆ ail/m…    ┆   ┆         ┆           ┆           ┆ n Licen…  │\n",
       "│          ┆ *args…     ┆            ┆           ┆   ┆         ┆           ┆           ┆           │\n",
       "└──────────┴────────────┴────────────┴───────────┴───┴─────────┴───────────┴───────────┴───────────┘"
      ]
     },
     "execution_count": 46,
     "metadata": {},
     "output_type": "execute_result"
    }
   ],
   "source": [
    "functions"
   ]
  },
  {
   "cell_type": "code",
   "execution_count": null,
   "metadata": {},
   "outputs": [],
   "source": [
    "embedded_df = cf.embed_columns(df=functions, column_names=[\"code\"],models=[\"text-embedding-3-small\"],api_key=openaisecret)"
   ]
  },
  {
   "cell_type": "code",
   "execution_count": null,
   "metadata": {},
   "outputs": [],
   "source": [
    "embedded_df = embedded_df.unique(subset='code')\n",
    "embedded_df"
   ]
  },
  {
   "cell_type": "code",
   "execution_count": null,
   "metadata": {},
   "outputs": [],
   "source": [
    "\n",
    "embedded_df2 = cf.embed_columns(df=embedded_df, column_names=[\"code\"],models=[\"text-embedding-3-large\"],api_key=openaisecret).unique(subset='code')"
   ]
  },
  {
   "cell_type": "code",
   "execution_count": 48,
   "metadata": {},
   "outputs": [],
   "source": [
    "embedded_df2.write_parquet(\"./saved_frames/python_3_12_1_standard_lib_functions_embedded_code.parquet\")"
   ]
  },
  {
   "cell_type": "code",
   "execution_count": null,
   "metadata": {},
   "outputs": [],
   "source": [
    "embedded_df2"
   ]
  },
  {
   "cell_type": "code",
   "execution_count": null,
   "metadata": {},
   "outputs": [],
   "source": [
    "cst_functions = mfp.functions.filter(pl.col(\"cst_tree_token_len\") <8191).filter(pl.col(\"cst_tree_token_len\") >5)\n",
    "embedded_cst = cf.embed_columns(df=cst_functions, column_names=[\"cst_tree\"],models=[\"text-embedding-3-small\"],api_key=openaisecret)\n",
    "embedded_cst = embedded_cst.unique(subset='cst_tree')"
   ]
  },
  {
   "cell_type": "code",
   "execution_count": 54,
   "metadata": {},
   "outputs": [],
   "source": [
    "cst_embs = embedded_df2.join(embedded_cst, on=\"code\", how=\"left\")['cst_tree_text-embedding-3-small_embedding'].to_list()\n",
    "\n",
    "embedded_df2.with_columns(pl.Series(name=\"cst_tree_text-embedding-3-small_embedding\", values=cst_embs)).write_parquet(\"python_3_12_1_standard_lib_functions_all_embs.parquet\")"
   ]
  },
  {
   "cell_type": "code",
   "execution_count": null,
   "metadata": {},
   "outputs": [],
   "source": [
    "embedded_df2.with_columns(pl.Series(name=\"cst_tree_text-embedding-3-small_embedding\", values=cst_embs))"
   ]
  },
  {
   "cell_type": "code",
   "execution_count": 22,
   "metadata": {},
   "outputs": [],
   "source": [
    "functions = pl.read_parquet(\"python_3_12_1_standard_lib_functions_all_embs.parquet\")\n",
    "leftovers = mfp.functions.filter(pl.col(\"cst_tree_token_len\") >8191)\n",
    "nons = [None for i in range(leftovers.shape[0])]\n",
    "leftovers = (\n",
    "    leftovers\n",
    "    .with_columns(pl.Series(name=\"code_text-embedding-3-small_embedding\", values=nons))\n",
    "\n",
    "    .with_columns(pl.Series(name=\"code_text-embedding-3-large_embedding\", values=nons))\n",
    "    .with_columns(pl.Series(name=\"cst_tree_text-embedding-3-small_embedding\", values=nons))\n",
    "\n",
    ")\n",
    "c = leftovers.columns\n",
    "leftovers= leftovers.select(c)\n",
    "functions=functions.select(c)\n",
    "pl.concat([functions, leftovers]).write_parquet(\"python_3_12_1_standard_lib_functions_all.parquet\")"
   ]
  },
  {
   "cell_type": "markdown",
   "metadata": {},
   "source": [
    "# classes. "
   ]
  },
  {
   "cell_type": "markdown",
   "metadata": {},
   "source": [
    "### mapping licenses for Python Standard Live. "
   ]
  },
  {
   "cell_type": "code",
   "execution_count": 56,
   "metadata": {},
   "outputs": [
    {
     "name": "stdout",
     "output_type": "stream",
     "text": [
      "(13263, 9)\n"
     ]
    },
    {
     "data": {
      "text/html": [
       "<div><style>\n",
       ".dataframe > thead > tr,\n",
       ".dataframe > tbody > tr {\n",
       "  text-align: right;\n",
       "  white-space: pre-wrap;\n",
       "}\n",
       "</style>\n",
       "<small>shape: (2, 9)</small><table border=\"1\" class=\"dataframe\"><thead><tr><th>type</th><th>code</th><th>cst_tree</th><th>file_name</th><th>modules</th><th>version</th><th>code_token_len</th><th>cst_tree_token_len</th><th>license</th></tr><tr><td>str</td><td>str</td><td>str</td><td>str</td><td>str</td><td>str</td><td>i64</td><td>i64</td><td>str</td></tr></thead><tbody><tr><td>&quot;class&quot;</td><td>&quot;\n",
       "class Windows…</td><td>&quot;ClassDef(\n",
       "    …</td><td>&quot;./repo_list/st…</td><td>&quot;webbrowser.py&quot;</td><td>&quot;3.12.1&quot;</td><td>82</td><td>2325</td><td>&quot;Python Softwar…</td></tr><tr><td>&quot;class&quot;</td><td>&quot;\n",
       "\n",
       "class NNTPPe…</td><td>&quot;ClassDef(\n",
       "    …</td><td>&quot;./repo_list/st…</td><td>&quot;nntplib.py&quot;</td><td>&quot;3.12.1&quot;</td><td>20</td><td>567</td><td>&quot;Python Softwar…</td></tr></tbody></table></div>"
      ],
      "text/plain": [
       "shape: (2, 9)\n",
       "┌───────┬────────────┬────────────┬────────────┬───┬─────────┬────────────┬────────────┬───────────┐\n",
       "│ type  ┆ code       ┆ cst_tree   ┆ file_name  ┆ … ┆ version ┆ code_token ┆ cst_tree_t ┆ license   │\n",
       "│ ---   ┆ ---        ┆ ---        ┆ ---        ┆   ┆ ---     ┆ _len       ┆ oken_len   ┆ ---       │\n",
       "│ str   ┆ str        ┆ str        ┆ str        ┆   ┆ str     ┆ ---        ┆ ---        ┆ str       │\n",
       "│       ┆            ┆            ┆            ┆   ┆         ┆ i64        ┆ i64        ┆           │\n",
       "╞═══════╪════════════╪════════════╪════════════╪═══╪═════════╪════════════╪════════════╪═══════════╡\n",
       "│ class ┆            ┆ ClassDef(  ┆ ./repo_lis ┆ … ┆ 3.12.1  ┆ 82         ┆ 2325       ┆ Python    │\n",
       "│       ┆ class Wind ┆ name=Name( ┆ t/standard ┆   ┆         ┆            ┆            ┆ Software  │\n",
       "│       ┆ owsDefault ┆        …   ┆ _lib/webbr ┆   ┆         ┆            ┆            ┆ Foundatio │\n",
       "│       ┆ (BaseBrows ┆            ┆ ow…        ┆   ┆         ┆            ┆            ┆ n Licen…  │\n",
       "│       ┆ e…         ┆            ┆            ┆   ┆         ┆            ┆            ┆           │\n",
       "│ class ┆            ┆ ClassDef(  ┆ ./repo_lis ┆ … ┆ 3.12.1  ┆ 20         ┆ 567        ┆ Python    │\n",
       "│       ┆            ┆ name=Name( ┆ t/standard ┆   ┆         ┆            ┆            ┆ Software  │\n",
       "│       ┆ class NNTP ┆        …   ┆ _lib/nntpl ┆   ┆         ┆            ┆            ┆ Foundatio │\n",
       "│       ┆ PermanentE ┆            ┆ ib…        ┆   ┆         ┆            ┆            ┆ n Licen…  │\n",
       "│       ┆ rror(NNTPE ┆            ┆            ┆   ┆         ┆            ┆            ┆           │\n",
       "│       ┆ …          ┆            ┆            ┆   ┆         ┆            ┆            ┆           │\n",
       "└───────┴────────────┴────────────┴────────────┴───┴─────────┴────────────┴────────────┴───────────┘"
      ]
     },
     "execution_count": 56,
     "metadata": {},
     "output_type": "execute_result"
    }
   ],
   "source": [
    "mfp.classes = (\n",
    "    mfp.classes\n",
    "    .with_columns(modules = pl.col(\"file_name\").str.replace('./repo_list/standard_lib/', \"\", literal=True))\n",
    "\n",
    "\n",
    ")\n",
    "lics = ['Python Software Foundation License'] * mfp.classes.shape[0]\n",
    "version =['3.12.1'] * mfp.classes.shape[0]\n",
    "mfp.classes = mfp.classes.with_columns(pl.Series(name=\"license\", values=lics))\n",
    "mfp.classes = mfp.classes.with_columns(pl.Series(name=\"version\", values=version))\n",
    "\n",
    "for module_path, license_name in license_mapping.items():\n",
    "    mfp.classes = mfp.classes.with_columns(\n",
    "        pl.when(pl.col(\"modules\") == module_path)\n",
    "        .then(pl.lit(license_name))\n",
    "        .otherwise(pl.col(\"license\"))\n",
    "        .alias(\"license_temp\")\n",
    "    )\n",
    "    # Swap the temporary column to 'license' and drop the old 'license'\n",
    "    mfp.classes = mfp.classes.drop(\"license\").rename({\"license_temp\": \"license\"})\n",
    "print(mfp.classes.shape)\n",
    "mfp.classes.head(2)"
   ]
  },
  {
   "cell_type": "markdown",
   "metadata": {},
   "source": [
    "### token counter. "
   ]
  },
  {
   "cell_type": "code",
   "execution_count": 19,
   "metadata": {},
   "outputs": [],
   "source": [
    "mfp.classes = add_token_count_and_drop_tokens(mfp.classes, 'code')\n",
    "mfp.classes = add_token_count_and_drop_tokens(mfp.classes, 'cst_tree')\n",
    "\n",
    "\n"
   ]
  },
  {
   "cell_type": "code",
   "execution_count": 26,
   "metadata": {},
   "outputs": [
    {
     "name": "stdout",
     "output_type": "stream",
     "text": [
      "6,273,348\n",
      "190,318,938\n"
     ]
    }
   ],
   "source": [
    "print(f\"{mfp.classes.select(pl.col('code_token_len').sum())[0, 'code_token_len']:,}\")\n",
    "print(f\"{mfp.classes.select(pl.col('cst_tree_token_len').sum())[0, 'cst_tree_token_len']:,}\")"
   ]
  },
  {
   "cell_type": "markdown",
   "metadata": {},
   "source": [
    "### Analysis. "
   ]
  },
  {
   "cell_type": "code",
   "execution_count": 25,
   "metadata": {},
   "outputs": [
    {
     "name": "stdout",
     "output_type": "stream",
     "text": [
      "99.33650003769885\n",
      "73.62587649852973\n"
     ]
    }
   ],
   "source": [
    "print(compute_embedding_percentage(mfp.classes, 'code_token_len'))\n",
    "print(compute_embedding_percentage(mfp.classes, 'cst_tree_token_len'))\n"
   ]
  },
  {
   "cell_type": "code",
   "execution_count": 20,
   "metadata": {},
   "outputs": [
    {
     "name": "stdout",
     "output_type": "stream",
     "text": [
      "8.15\n",
      "247.21\n"
     ]
    }
   ],
   "source": [
    "print(f'{compute_embedding_price(mfp.classes, \"code\"):.2f}')\n",
    "print(f'{compute_embedding_price(mfp.classes, \"cst_tree\"):.2f}')"
   ]
  },
  {
   "cell_type": "code",
   "execution_count": 18,
   "metadata": {},
   "outputs": [
    {
     "data": {
      "image/png": "[encoded data removed]",
      "text/plain": [
       "<Figure size 640x480 with 1 Axes>"
      ]
     },
     "metadata": {},
     "output_type": "display_data"
    },
    {
     "data": {
      "image/png": "[encoded data removed]",
      "text/plain": [
       "<Figure size 640x480 with 1 Axes>"
      ]
     },
     "metadata": {},
     "output_type": "display_data"
    }
   ],
   "source": [
    "plot_token_len_histograms(mfp.functions,\"Python Standard Lib Classes\")\n"
   ]
  },
  {
   "cell_type": "markdown",
   "metadata": {},
   "source": [
    "### Embedding"
   ]
  },
  {
   "cell_type": "code",
   "execution_count": 57,
   "metadata": {},
   "outputs": [],
   "source": [
    "classes = mfp.classes.filter(pl.col(\"code_token_len\") <8191).filter(pl.col(\"code_token_len\") >5)"
   ]
  },
  {
   "cell_type": "code",
   "execution_count": 58,
   "metadata": {},
   "outputs": [
    {
     "data": {
      "text/html": [
       "<div><style>\n",
       ".dataframe > thead > tr,\n",
       ".dataframe > tbody > tr {\n",
       "  text-align: right;\n",
       "  white-space: pre-wrap;\n",
       "}\n",
       "</style>\n",
       "<small>shape: (13_153, 9)</small><table border=\"1\" class=\"dataframe\"><thead><tr><th>type</th><th>code</th><th>cst_tree</th><th>file_name</th><th>modules</th><th>version</th><th>code_token_len</th><th>cst_tree_token_len</th><th>license</th></tr><tr><td>str</td><td>str</td><td>str</td><td>str</td><td>str</td><td>str</td><td>i64</td><td>i64</td><td>str</td></tr></thead><tbody><tr><td>&quot;class&quot;</td><td>&quot;\n",
       "class Windows…</td><td>&quot;ClassDef(\n",
       "    …</td><td>&quot;./repo_list/st…</td><td>&quot;webbrowser.py&quot;</td><td>&quot;3.12.1&quot;</td><td>82</td><td>2325</td><td>&quot;Python Softwar…</td></tr><tr><td>&quot;class&quot;</td><td>&quot;\n",
       "\n",
       "class NNTPPe…</td><td>&quot;ClassDef(\n",
       "    …</td><td>&quot;./repo_list/st…</td><td>&quot;nntplib.py&quot;</td><td>&quot;3.12.1&quot;</td><td>20</td><td>567</td><td>&quot;Python Softwar…</td></tr><tr><td>&quot;class&quot;</td><td>&quot;\n",
       "\n",
       "class Statis…</td><td>&quot;ClassDef(\n",
       "    …</td><td>&quot;./repo_list/st…</td><td>&quot;tracemalloc.py…</td><td>&quot;3.12.1&quot;</td><td>277</td><td>9840</td><td>&quot;Python Softwar…</td></tr><tr><td>&quot;class&quot;</td><td>&quot;\n",
       "\n",
       "class Error(…</td><td>&quot;ClassDef(\n",
       "    …</td><td>&quot;./repo_list/st…</td><td>&quot;uu.py&quot;</td><td>&quot;3.12.1&quot;</td><td>8</td><td>429</td><td>&quot;PSF License wi…</td></tr><tr><td>&quot;class&quot;</td><td>&quot;\n",
       "\n",
       "class NodeTr…</td><td>&quot;ClassDef(\n",
       "    …</td><td>&quot;./repo_list/st…</td><td>&quot;ast.py&quot;</td><td>&quot;3.12.1&quot;</td><td>431</td><td>6546</td><td>&quot;Python Softwar…</td></tr><tr><td>&hellip;</td><td>&hellip;</td><td>&hellip;</td><td>&hellip;</td><td>&hellip;</td><td>&hellip;</td><td>&hellip;</td><td>&hellip;</td><td>&hellip;</td></tr><tr><td>&quot;class&quot;</td><td>&quot;\n",
       "\n",
       "class Remote…</td><td>&quot;ClassDef(\n",
       "    …</td><td>&quot;./repo_list/st…</td><td>&quot;idlelib/rpc.py…</td><td>&quot;3.12.1&quot;</td><td>21</td><td>938</td><td>&quot;Python Softwar…</td></tr><tr><td>&quot;class&quot;</td><td>&quot;\n",
       "\n",
       "class FileLi…</td><td>&quot;ClassDef(\n",
       "    …</td><td>&quot;./repo_list/st…</td><td>&quot;idlelib/idle_t…</td><td>&quot;3.12.1&quot;</td><td>135</td><td>6115</td><td>&quot;Python Softwar…</td></tr><tr><td>&quot;class&quot;</td><td>&quot;\n",
       "class Dummy_M…</td><td>&quot;ClassDef(\n",
       "    …</td><td>&quot;./repo_list/st…</td><td>&quot;idlelib/idle_t…</td><td>&quot;3.12.1&quot;</td><td>74</td><td>2701</td><td>&quot;Python Softwar…</td></tr><tr><td>&quot;class&quot;</td><td>&quot;class NoCall:\n",
       "…</td><td>&quot;ClassDef(\n",
       "    …</td><td>&quot;./repo_list/st…</td><td>&quot;idlelib/idle_t…</td><td>&quot;3.12.1&quot;</td><td>28</td><td>737</td><td>&quot;Python Softwar…</td></tr><tr><td>&quot;class&quot;</td><td>&quot;\n",
       "\n",
       "class Stream…</td><td>&quot;ClassDef(\n",
       "    …</td><td>&quot;./repo_list/st…</td><td>&quot;asyncio/stream…</td><td>&quot;3.12.1&quot;</td><td>771</td><td>21795</td><td>&quot;Python Softwar…</td></tr></tbody></table></div>"
      ],
      "text/plain": [
       "shape: (13_153, 9)\n",
       "┌───────┬────────────┬────────────┬────────────┬───┬─────────┬────────────┬────────────┬───────────┐\n",
       "│ type  ┆ code       ┆ cst_tree   ┆ file_name  ┆ … ┆ version ┆ code_token ┆ cst_tree_t ┆ license   │\n",
       "│ ---   ┆ ---        ┆ ---        ┆ ---        ┆   ┆ ---     ┆ _len       ┆ oken_len   ┆ ---       │\n",
       "│ str   ┆ str        ┆ str        ┆ str        ┆   ┆ str     ┆ ---        ┆ ---        ┆ str       │\n",
       "│       ┆            ┆            ┆            ┆   ┆         ┆ i64        ┆ i64        ┆           │\n",
       "╞═══════╪════════════╪════════════╪════════════╪═══╪═════════╪════════════╪════════════╪═══════════╡\n",
       "│ class ┆            ┆ ClassDef(  ┆ ./repo_lis ┆ … ┆ 3.12.1  ┆ 82         ┆ 2325       ┆ Python    │\n",
       "│       ┆ class Wind ┆ name=Name( ┆ t/standard ┆   ┆         ┆            ┆            ┆ Software  │\n",
       "│       ┆ owsDefault ┆        …   ┆ _lib/webbr ┆   ┆         ┆            ┆            ┆ Foundatio │\n",
       "│       ┆ (BaseBrows ┆            ┆ ow…        ┆   ┆         ┆            ┆            ┆ n Licen…  │\n",
       "│       ┆ e…         ┆            ┆            ┆   ┆         ┆            ┆            ┆           │\n",
       "│ class ┆            ┆ ClassDef(  ┆ ./repo_lis ┆ … ┆ 3.12.1  ┆ 20         ┆ 567        ┆ Python    │\n",
       "│       ┆            ┆ name=Name( ┆ t/standard ┆   ┆         ┆            ┆            ┆ Software  │\n",
       "│       ┆ class NNTP ┆        …   ┆ _lib/nntpl ┆   ┆         ┆            ┆            ┆ Foundatio │\n",
       "│       ┆ PermanentE ┆            ┆ ib…        ┆   ┆         ┆            ┆            ┆ n Licen…  │\n",
       "│       ┆ rror(NNTPE ┆            ┆            ┆   ┆         ┆            ┆            ┆           │\n",
       "│       ┆ …          ┆            ┆            ┆   ┆         ┆            ┆            ┆           │\n",
       "│ class ┆            ┆ ClassDef(  ┆ ./repo_lis ┆ … ┆ 3.12.1  ┆ 277        ┆ 9840       ┆ Python    │\n",
       "│       ┆            ┆ name=Name( ┆ t/standard ┆   ┆         ┆            ┆            ┆ Software  │\n",
       "│       ┆ class      ┆        …   ┆ _lib/trace ┆   ┆         ┆            ┆            ┆ Foundatio │\n",
       "│       ┆ Statistic: ┆            ┆ ma…        ┆   ┆         ┆            ┆            ┆ n Licen…  │\n",
       "│       ┆     \"\"\"    ┆            ┆            ┆   ┆         ┆            ┆            ┆           │\n",
       "│       ┆     S…     ┆            ┆            ┆   ┆         ┆            ┆            ┆           │\n",
       "│ class ┆            ┆ ClassDef(  ┆ ./repo_lis ┆ … ┆ 3.12.1  ┆ 8          ┆ 429        ┆ PSF       │\n",
       "│       ┆            ┆ name=Name( ┆ t/standard ┆   ┆         ┆            ┆            ┆ License   │\n",
       "│       ┆ class Erro ┆        …   ┆ _lib/uu.py ┆   ┆         ┆            ┆            ┆ with ackn │\n",
       "│       ┆ r(Exceptio ┆            ┆            ┆   ┆         ┆            ┆            ┆ owledgmen │\n",
       "│       ┆ n):        ┆            ┆            ┆   ┆         ┆            ┆            ┆ t …       │\n",
       "│       ┆     pa…    ┆            ┆            ┆   ┆         ┆            ┆            ┆           │\n",
       "│ class ┆            ┆ ClassDef(  ┆ ./repo_lis ┆ … ┆ 3.12.1  ┆ 431        ┆ 6546       ┆ Python    │\n",
       "│       ┆            ┆ name=Name( ┆ t/standard ┆   ┆         ┆            ┆            ┆ Software  │\n",
       "│       ┆ class Node ┆        …   ┆ _lib/ast.p ┆   ┆         ┆            ┆            ┆ Foundatio │\n",
       "│       ┆ Transforme ┆            ┆ y          ┆   ┆         ┆            ┆            ┆ n Licen…  │\n",
       "│       ┆ r(NodeVisi ┆            ┆            ┆   ┆         ┆            ┆            ┆           │\n",
       "│       ┆ …          ┆            ┆            ┆   ┆         ┆            ┆            ┆           │\n",
       "│ …     ┆ …          ┆ …          ┆ …          ┆ … ┆ …       ┆ …          ┆ …          ┆ …         │\n",
       "│ class ┆            ┆ ClassDef(  ┆ ./repo_lis ┆ … ┆ 3.12.1  ┆ 21         ┆ 938        ┆ Python    │\n",
       "│       ┆            ┆ name=Name( ┆ t/standard ┆   ┆         ┆            ┆            ┆ Software  │\n",
       "│       ┆ class Remo ┆        …   ┆ _lib/idlel ┆   ┆         ┆            ┆            ┆ Foundatio │\n",
       "│       ┆ teProxy:   ┆            ┆ ib…        ┆   ┆         ┆            ┆            ┆ n Licen…  │\n",
       "│       ┆            ┆            ┆            ┆   ┆         ┆            ┆            ┆           │\n",
       "│       ┆ def __…    ┆            ┆            ┆   ┆         ┆            ┆            ┆           │\n",
       "│ class ┆            ┆ ClassDef(  ┆ ./repo_lis ┆ … ┆ 3.12.1  ┆ 135        ┆ 6115       ┆ Python    │\n",
       "│       ┆            ┆ name=Name( ┆ t/standard ┆   ┆         ┆            ┆            ┆ Software  │\n",
       "│       ┆ class File ┆        …   ┆ _lib/idlel ┆   ┆         ┆            ┆            ┆ Foundatio │\n",
       "│       ┆ ListTest(u ┆            ┆ ib…        ┆   ┆         ┆            ┆            ┆ n Licen…  │\n",
       "│       ┆ nittest.Te ┆            ┆            ┆   ┆         ┆            ┆            ┆           │\n",
       "│       ┆ …          ┆            ┆            ┆   ┆         ┆            ┆            ┆           │\n",
       "│ class ┆            ┆ ClassDef(  ┆ ./repo_lis ┆ … ┆ 3.12.1  ┆ 74         ┆ 2701       ┆ Python    │\n",
       "│       ┆ class Dumm ┆ name=Name( ┆ t/standard ┆   ┆         ┆            ┆            ┆ Software  │\n",
       "│       ┆ y_ModuleNa ┆        …   ┆ _lib/idlel ┆   ┆         ┆            ┆            ┆ Foundatio │\n",
       "│       ┆ me:        ┆            ┆ ib…        ┆   ┆         ┆            ┆            ┆ n Licen…  │\n",
       "│       ┆     ent…   ┆            ┆            ┆   ┆         ┆            ┆            ┆           │\n",
       "│ class ┆ class      ┆ ClassDef(  ┆ ./repo_lis ┆ … ┆ 3.12.1  ┆ 28         ┆ 737        ┆ Python    │\n",
       "│       ┆ NoCall:    ┆ name=Name( ┆ t/standard ┆   ┆         ┆            ┆            ┆ Software  │\n",
       "│       ┆ def __geta ┆        …   ┆ _lib/idlel ┆   ┆         ┆            ┆            ┆ Foundatio │\n",
       "│       ┆ ttr_…      ┆            ┆ ib…        ┆   ┆         ┆            ┆            ┆ n Licen…  │\n",
       "│ class ┆            ┆ ClassDef(  ┆ ./repo_lis ┆ … ┆ 3.12.1  ┆ 771        ┆ 21795      ┆ Python    │\n",
       "│       ┆            ┆ name=Name( ┆ t/standard ┆   ┆         ┆            ┆            ┆ Software  │\n",
       "│       ┆ class Stre ┆        …   ┆ _lib/async ┆   ┆         ┆            ┆            ┆ Foundatio │\n",
       "│       ┆ amWriter:  ┆            ┆ io…        ┆   ┆         ┆            ┆            ┆ n Licen…  │\n",
       "│       ┆ \"\"\"Wra…    ┆            ┆            ┆   ┆         ┆            ┆            ┆           │\n",
       "└───────┴────────────┴────────────┴────────────┴───┴─────────┴────────────┴────────────┴───────────┘"
      ]
     },
     "execution_count": 58,
     "metadata": {},
     "output_type": "execute_result"
    }
   ],
   "source": [
    "classes"
   ]
  },
  {
   "cell_type": "code",
   "execution_count": null,
   "metadata": {},
   "outputs": [],
   "source": [
    "embedded_df = cf.embed_columns(df=classes, column_names=[\"code\"],models=[\"text-embedding-3-small\"],api_key=openaisecret)"
   ]
  },
  {
   "cell_type": "code",
   "execution_count": 60,
   "metadata": {},
   "outputs": [
    {
     "data": {
      "text/html": [
       "<div><style>\n",
       ".dataframe > thead > tr,\n",
       ".dataframe > tbody > tr {\n",
       "  text-align: right;\n",
       "  white-space: pre-wrap;\n",
       "}\n",
       "</style>\n",
       "<small>shape: (12_424, 10)</small><table border=\"1\" class=\"dataframe\"><thead><tr><th>type</th><th>code</th><th>cst_tree</th><th>file_name</th><th>modules</th><th>version</th><th>code_token_len</th><th>cst_tree_token_len</th><th>license</th><th>code_text-embedding-3-small_embedding</th></tr><tr><td>str</td><td>str</td><td>str</td><td>str</td><td>str</td><td>str</td><td>i64</td><td>i64</td><td>str</td><td>list[f64]</td></tr></thead><tbody><tr><td>&quot;class&quot;</td><td>&quot;\n",
       "class Foo:\n",
       "\n",
       " …</td><td>&quot;ClassDef(\n",
       "    …</td><td>&quot;./repo_list/st…</td><td>&quot;test/test_unit…</td><td>&quot;3.12.1&quot;</td><td>30</td><td>1240</td><td>&quot;Python Softwar…</td><td>[0.036396, -0.020463, … -0.014968]</td></tr><tr><td>&quot;class&quot;</td><td>&quot;\n",
       "\n",
       "class TestMu…</td><td>&quot;ClassDef(\n",
       "    …</td><td>&quot;./repo_list/st…</td><td>&quot;test/test_argp…</td><td>&quot;3.12.1&quot;</td><td>283</td><td>7192</td><td>&quot;Python Softwar…</td><td>[-0.000494, -0.009976, … -0.000209]</td></tr><tr><td>&quot;class&quot;</td><td>&quot;\n",
       "\n",
       "class PyThre…</td><td>&quot;ClassDef(\n",
       "    …</td><td>&quot;./repo_list/st…</td><td>&quot;test/test_deci…</td><td>&quot;3.12.1&quot;</td><td>19</td><td>688</td><td>&quot;Python Softwar…</td><td>[0.024091, -0.003451, … 0.009699]</td></tr><tr><td>&quot;class&quot;</td><td>&quot;\n",
       "class A1(obje…</td><td>&quot;ClassDef(\n",
       "    …</td><td>&quot;./repo_list/st…</td><td>&quot;test/test_desc…</td><td>&quot;3.12.1&quot;</td><td>14</td><td>539</td><td>&quot;Python Softwar…</td><td>[0.057802, 0.011978, … -0.007552]</td></tr><tr><td>&quot;class&quot;</td><td>&quot;\n",
       "\n",
       "class TestVa…</td><td>&quot;ClassDef(\n",
       "    …</td><td>&quot;./repo_list/st…</td><td>&quot;test/test_dequ…</td><td>&quot;3.12.1&quot;</td><td>225</td><td>9565</td><td>&quot;Python Softwar…</td><td>[0.040787, -0.008066, … -0.012988]</td></tr><tr><td>&hellip;</td><td>&hellip;</td><td>&hellip;</td><td>&hellip;</td><td>&hellip;</td><td>&hellip;</td><td>&hellip;</td><td>&hellip;</td><td>&hellip;</td><td>&hellip;</td></tr><tr><td>&quot;class&quot;</td><td>&quot;\n",
       "\n",
       "class MockPa…</td><td>&quot;ClassDef(\n",
       "    …</td><td>&quot;./repo_list/st…</td><td>&quot;test/test_asyn…</td><td>&quot;3.12.1&quot;</td><td>84</td><td>1789</td><td>&quot;Python Softwar…</td><td>[0.000729, 0.014911, … -0.026392]</td></tr><tr><td>&quot;class&quot;</td><td>&quot;\n",
       "@runtime_chec…</td><td>&quot;ClassDef(\n",
       "    …</td><td>&quot;./repo_list/st…</td><td>&quot;test/test_typi…</td><td>&quot;3.12.1&quot;</td><td>19</td><td>898</td><td>&quot;Python Softwar…</td><td>[0.014074, 0.014906, … 0.014701]</td></tr><tr><td>&quot;class&quot;</td><td>&quot;\n",
       "class Special…</td><td>&quot;ClassDef(\n",
       "    …</td><td>&quot;./repo_list/st…</td><td>&quot;test/test_desc…</td><td>&quot;3.12.1&quot;</td><td>50</td><td>2280</td><td>&quot;Python Softwar…</td><td>[0.072527, 0.059348, … -0.029974]</td></tr><tr><td>&quot;class&quot;</td><td>&quot;\n",
       "\n",
       "class WavePC…</td><td>&quot;ClassDef(\n",
       "    …</td><td>&quot;./repo_list/st…</td><td>&quot;test/test_wave…</td><td>&quot;3.12.1&quot;</td><td>609</td><td>3474</td><td>&quot;Python Softwar…</td><td>[0.026978, 0.024046, … -0.021339]</td></tr><tr><td>&quot;class&quot;</td><td>&quot;\n",
       "\n",
       "class TestLo…</td><td>&quot;ClassDef(\n",
       "    …</td><td>&quot;./repo_list/st…</td><td>&quot;test/test_opca…</td><td>&quot;3.12.1&quot;</td><td>1148</td><td>45834</td><td>&quot;Python Softwar…</td><td>[0.021474, 0.018676, … -0.028517]</td></tr></tbody></table></div>"
      ],
      "text/plain": [
       "shape: (12_424, 10)\n",
       "┌───────┬────────────┬────────────┬────────────┬───┬───────────┬───────────┬───────────┬───────────┐\n",
       "│ type  ┆ code       ┆ cst_tree   ┆ file_name  ┆ … ┆ code_toke ┆ cst_tree_ ┆ license   ┆ code_text │\n",
       "│ ---   ┆ ---        ┆ ---        ┆ ---        ┆   ┆ n_len     ┆ token_len ┆ ---       ┆ -embeddin │\n",
       "│ str   ┆ str        ┆ str        ┆ str        ┆   ┆ ---       ┆ ---       ┆ str       ┆ g-3-small │\n",
       "│       ┆            ┆            ┆            ┆   ┆ i64       ┆ i64       ┆           ┆ _embe…    │\n",
       "│       ┆            ┆            ┆            ┆   ┆           ┆           ┆           ┆ ---       │\n",
       "│       ┆            ┆            ┆            ┆   ┆           ┆           ┆           ┆ list[f64] │\n",
       "╞═══════╪════════════╪════════════╪════════════╪═══╪═══════════╪═══════════╪═══════════╪═══════════╡\n",
       "│ class ┆            ┆ ClassDef(  ┆ ./repo_lis ┆ … ┆ 30        ┆ 1240      ┆ Python    ┆ [0.036396 │\n",
       "│       ┆ class Foo: ┆ name=Name( ┆ t/standard ┆   ┆           ┆           ┆ Software  ┆ , -0.0204 │\n",
       "│       ┆            ┆        …   ┆ _lib/test/ ┆   ┆           ┆           ┆ Foundatio ┆ 63, …     │\n",
       "│       ┆ def __geti ┆            ┆ te…        ┆   ┆           ┆           ┆ n Licen…  ┆ -0.01496… │\n",
       "│       ┆ tem__…     ┆            ┆            ┆   ┆           ┆           ┆           ┆           │\n",
       "│ class ┆            ┆ ClassDef(  ┆ ./repo_lis ┆ … ┆ 283       ┆ 7192      ┆ Python    ┆ [-0.00049 │\n",
       "│       ┆            ┆ name=Name( ┆ t/standard ┆   ┆           ┆           ┆ Software  ┆ 4, -0.009 │\n",
       "│       ┆ class Test ┆        …   ┆ _lib/test/ ┆   ┆           ┆           ┆ Foundatio ┆ 976, …    │\n",
       "│       ┆ MutuallyEx ┆            ┆ te…        ┆   ┆           ┆           ┆ n Licen…  ┆ -0.0002…  │\n",
       "│       ┆ clusiveSim ┆            ┆            ┆   ┆           ┆           ┆           ┆           │\n",
       "│       ┆ …          ┆            ┆            ┆   ┆           ┆           ┆           ┆           │\n",
       "│ class ┆            ┆ ClassDef(  ┆ ./repo_lis ┆ … ┆ 19        ┆ 688       ┆ Python    ┆ [0.024091 │\n",
       "│       ┆            ┆ name=Name( ┆ t/standard ┆   ┆           ┆           ┆ Software  ┆ , -0.0034 │\n",
       "│       ┆ class PyTh ┆        …   ┆ _lib/test/ ┆   ┆           ┆           ┆ Foundatio ┆ 51, …     │\n",
       "│       ┆ readingTes ┆            ┆ te…        ┆   ┆           ┆           ┆ n Licen…  ┆ 0.009699… │\n",
       "│       ┆ t(Threadin ┆            ┆            ┆   ┆           ┆           ┆           ┆           │\n",
       "│       ┆ …          ┆            ┆            ┆   ┆           ┆           ┆           ┆           │\n",
       "│ class ┆            ┆ ClassDef(  ┆ ./repo_lis ┆ … ┆ 14        ┆ 539       ┆ Python    ┆ [0.057802 │\n",
       "│       ┆ class      ┆ name=Name( ┆ t/standard ┆   ┆           ┆           ┆ Software  ┆ ,         │\n",
       "│       ┆ A1(object, ┆        …   ┆ _lib/test/ ┆   ┆           ┆           ┆ Foundatio ┆ 0.011978, │\n",
       "│       ┆ metaclass= ┆            ┆ te…        ┆   ┆           ┆           ┆ n Licen…  ┆ … -0.0075 │\n",
       "│       ┆ M1):…      ┆            ┆            ┆   ┆           ┆           ┆           ┆ 52…       │\n",
       "│ class ┆            ┆ ClassDef(  ┆ ./repo_lis ┆ … ┆ 225       ┆ 9565      ┆ Python    ┆ [0.040787 │\n",
       "│       ┆            ┆ name=Name( ┆ t/standard ┆   ┆           ┆           ┆ Software  ┆ , -0.0080 │\n",
       "│       ┆ class Test ┆        …   ┆ _lib/test/ ┆   ┆           ┆           ┆ Foundatio ┆ 66, …     │\n",
       "│       ┆ VariousIte ┆            ┆ te…        ┆   ┆           ┆           ┆ n Licen…  ┆ -0.01298… │\n",
       "│       ┆ ratorArgs( ┆            ┆            ┆   ┆           ┆           ┆           ┆           │\n",
       "│       ┆ …          ┆            ┆            ┆   ┆           ┆           ┆           ┆           │\n",
       "│ …     ┆ …          ┆ …          ┆ …          ┆ … ┆ …         ┆ …         ┆ …         ┆ …         │\n",
       "│ class ┆            ┆ ClassDef(  ┆ ./repo_lis ┆ … ┆ 84        ┆ 1789      ┆ Python    ┆ [0.000729 │\n",
       "│       ┆            ┆ name=Name( ┆ t/standard ┆   ┆           ┆           ┆ Software  ┆ ,         │\n",
       "│       ┆ class Mock ┆        …   ┆ _lib/test/ ┆   ┆           ┆           ┆ Foundatio ┆ 0.014911, │\n",
       "│       ┆ Pattern(st ┆            ┆ te…        ┆   ┆           ┆           ┆ n Licen…  ┆ … -0.0263 │\n",
       "│       ┆ r):        ┆            ┆            ┆   ┆           ┆           ┆           ┆ 92…       │\n",
       "│       ┆     \"\"…    ┆            ┆            ┆   ┆           ┆           ┆           ┆           │\n",
       "│ class ┆            ┆ ClassDef(  ┆ ./repo_lis ┆ … ┆ 19        ┆ 898       ┆ Python    ┆ [0.014074 │\n",
       "│       ┆ @runtime_c ┆ name=Name( ┆ t/standard ┆   ┆           ┆           ┆ Software  ┆ ,         │\n",
       "│       ┆ heckable   ┆        …   ┆ _lib/test/ ┆   ┆           ┆           ┆ Foundatio ┆ 0.014906, │\n",
       "│       ┆ class      ┆            ┆ te…        ┆   ┆           ┆           ┆ n Licen…  ┆ …         │\n",
       "│       ┆ Suppor…    ┆            ┆            ┆   ┆           ┆           ┆           ┆ 0.014701] │\n",
       "│ class ┆            ┆ ClassDef(  ┆ ./repo_lis ┆ … ┆ 50        ┆ 2280      ┆ Python    ┆ [0.072527 │\n",
       "│       ┆ class Spec ┆ name=Name( ┆ t/standard ┆   ┆           ┆           ┆ Software  ┆ ,         │\n",
       "│       ┆ ialDescr(o ┆        …   ┆ _lib/test/ ┆   ┆           ┆           ┆ Foundatio ┆ 0.059348, │\n",
       "│       ┆ bject):    ┆            ┆ te…        ┆   ┆           ┆           ┆ n Licen…  ┆ … -0.0299 │\n",
       "│       ┆    …       ┆            ┆            ┆   ┆           ┆           ┆           ┆ 74…       │\n",
       "│ class ┆            ┆ ClassDef(  ┆ ./repo_lis ┆ … ┆ 609       ┆ 3474      ┆ Python    ┆ [0.026978 │\n",
       "│       ┆            ┆ name=Name( ┆ t/standard ┆   ┆           ┆           ┆ Software  ┆ ,         │\n",
       "│       ┆ class Wave ┆        …   ┆ _lib/test/ ┆   ┆           ┆           ┆ Foundatio ┆ 0.024046, │\n",
       "│       ┆ PCM32Test( ┆            ┆ te…        ┆   ┆           ┆           ┆ n Licen…  ┆ … -0.0213 │\n",
       "│       ┆ WaveTest,  ┆            ┆            ┆   ┆           ┆           ┆           ┆ 39…       │\n",
       "│       ┆ …          ┆            ┆            ┆   ┆           ┆           ┆           ┆           │\n",
       "│ class ┆            ┆ ClassDef(  ┆ ./repo_lis ┆ … ┆ 1148      ┆ 45834     ┆ Python    ┆ [0.021474 │\n",
       "│       ┆            ┆ name=Name( ┆ t/standard ┆   ┆           ┆           ┆ Software  ┆ ,         │\n",
       "│       ┆ class Test ┆        …   ┆ _lib/test/ ┆   ┆           ┆           ┆ Foundatio ┆ 0.018676, │\n",
       "│       ┆ LoadAttrCa ┆            ┆ te…        ┆   ┆           ┆           ┆ n Licen…  ┆ … -0.0285 │\n",
       "│       ┆ che(unitte ┆            ┆            ┆   ┆           ┆           ┆           ┆ 17…       │\n",
       "│       ┆ …          ┆            ┆            ┆   ┆           ┆           ┆           ┆           │\n",
       "└───────┴────────────┴────────────┴────────────┴───┴───────────┴───────────┴───────────┴───────────┘"
      ]
     },
     "execution_count": 60,
     "metadata": {},
     "output_type": "execute_result"
    }
   ],
   "source": [
    "embedded_df = embedded_df.unique(subset='code')\n",
    "embedded_df"
   ]
  },
  {
   "cell_type": "code",
   "execution_count": null,
   "metadata": {},
   "outputs": [],
   "source": [
    "\n",
    "embedded_df2 = cf.embed_columns(df=embedded_df, column_names=[\"code\"],models=[\"text-embedding-3-large\"],api_key=openaisecret).unique(subset='code')"
   ]
  },
  {
   "cell_type": "code",
   "execution_count": 63,
   "metadata": {},
   "outputs": [],
   "source": [
    "embedded_df2.write_parquet(\"./saved_frames/python_3_12_1_standard_lib_classes_embedded_code.parquet\")\n"
   ]
  },
  {
   "cell_type": "code",
   "execution_count": null,
   "metadata": {},
   "outputs": [],
   "source": [
    "embedded_df2"
   ]
  },
  {
   "cell_type": "code",
   "execution_count": null,
   "metadata": {},
   "outputs": [],
   "source": [
    "cst_classes = mfp.classes.filter(pl.col(\"cst_tree_token_len\") <8191).filter(pl.col(\"cst_tree_token_len\") >60)\n",
    "embedded_cst = cf.embed_columns(df=cst_classes, column_names=[\"cst_tree\"],models=[\"text-embedding-3-small\"],api_key=openaisecret)\n",
    "embedded_cst = embedded_cst.unique(subset='cst_tree')"
   ]
  },
  {
   "cell_type": "code",
   "execution_count": null,
   "metadata": {},
   "outputs": [],
   "source": [
    "cst_embs = embedded_df2.join(embedded_cst, on=\"code\", how=\"left\")['cst_tree_text-embedding-3-small_embedding'].to_list()\n",
    "embedded_df2.with_columns(pl.Series(name=\"cst_tree_text-embedding-3-small_embedding\", values=cst_embs))"
   ]
  },
  {
   "cell_type": "code",
   "execution_count": 66,
   "metadata": {},
   "outputs": [],
   "source": [
    "embedded_df2.with_columns(pl.Series(name=\"cst_tree_text-embedding-3-small_embedding\", values=cst_embs)).write_parquet(\"python_3_12_1_standard_lib_classes_all_embs.parquet\")\n"
   ]
  },
  {
   "cell_type": "code",
   "execution_count": null,
   "metadata": {},
   "outputs": [],
   "source": [
    "embedded_df2.with_columns(pl.Series(name=\"cst_tree_text-embedding-3-small_embedding\", values=cst_embs))"
   ]
  },
  {
   "cell_type": "code",
   "execution_count": 6,
   "metadata": {},
   "outputs": [],
   "source": [
    "classes = pl.read_parquet(\"python_3_12_1_standard_lib_classes_all_embs.parquet\")\n",
    "leftovers = mfp.classes.filter(pl.col(\"cst_tree_token_len\") >8191)\n",
    "nons = [None for i in range(leftovers.shape[0])]\n",
    "leftovers = (\n",
    "    leftovers\n",
    "    .with_columns(pl.Series(name=\"code_text-embedding-3-small_embedding\", values=nons))\n",
    "\n",
    "    .with_columns(pl.Series(name=\"code_text-embedding-3-large_embedding\", values=nons))\n",
    "    .with_columns(pl.Series(name=\"cst_tree_text-embedding-3-small_embedding\", values=nons))\n",
    "\n",
    ")\n",
    "c = leftovers.columns\n",
    "leftovers= leftovers.select(c)\n",
    "classes=classes.select(c)\n",
    "pl.concat([classes, leftovers]).write_parquet(\"python_3_12_1_standard_lib_classes_all.parquet\")"
   ]
  },
  {
   "cell_type": "markdown",
   "metadata": {},
   "source": [
    "# All"
   ]
  },
  {
   "cell_type": "code",
   "execution_count": 6,
   "metadata": {},
   "outputs": [],
   "source": [
    "m = pl.read_parquet(\"python_3_12_1_standard_lib_modules_all.parquet\")\n",
    "f =pl.read_parquet(\"python_3_12_1_standard_lib_functions_all.parquet\")\n",
    "c =pl.read_parquet(\"python_3_12_1_standard_lib_classes_all.parquet\")\n"
   ]
  },
  {
   "cell_type": "code",
   "execution_count": 27,
   "metadata": {},
   "outputs": [],
   "source": [
    "a = pl.concat([m, f, c])"
   ]
  },
  {
   "cell_type": "code",
   "execution_count": null,
   "metadata": {},
   "outputs": [],
   "source": []
  },
  {
   "cell_type": "code",
   "execution_count": 29,
   "metadata": {},
   "outputs": [],
   "source": [
    "a.write_parquet(\"python_3_12_1_standard_lib_all.parquet\")"
   ]
  },
  {
   "cell_type": "code",
   "execution_count": 4,
   "metadata": {},
   "outputs": [],
   "source": [
    "mfp.df = pl.read_parquet(\"python_3_12_1_standard_lib_all.parquet\")\n",
    "mfp.modules = pl.read_parquet(\"python_3_12_1_standard_lib_modules_all.parquet\")\n",
    "mfp.functions = pl.read_parquet(\"python_3_12_1_standard_lib_functions_all.parquet\")\n",
    "mfp.classes = pl.read_parquet(\"python_3_12_1_standard_lib_classes_all.parquet\")"
   ]
  },
  {
   "cell_type": "markdown",
   "metadata": {},
   "source": [
    "# Counters"
   ]
  },
  {
   "cell_type": "code",
   "execution_count": 9,
   "metadata": {},
   "outputs": [
    {
     "data": {
      "text/html": [
       "<div><style>\n",
       ".dataframe > thead > tr,\n",
       ".dataframe > tbody > tr {\n",
       "  text-align: right;\n",
       "  white-space: pre-wrap;\n",
       "}\n",
       "</style>\n",
       "<small>shape: (1, 12)</small><table border=\"1\" class=\"dataframe\"><thead><tr><th>type</th><th>code</th><th>cst_tree</th><th>file_name</th><th>modules</th><th>version</th><th>license</th><th>code_token_len</th><th>cst_tree_token_len</th><th>code_text-embedding-3-small_embedding</th><th>code_text-embedding-3-large_embedding</th><th>cst_tree_text-embedding-3-small_embedding</th></tr><tr><td>str</td><td>str</td><td>str</td><td>str</td><td>str</td><td>str</td><td>str</td><td>i64</td><td>i64</td><td>list[f64]</td><td>list[f64]</td><td>list[f64]</td></tr></thead><tbody><tr><td>&quot;module&quot;</td><td>&quot;# Used by test…</td><td>&quot;Module(\n",
       "    bo…</td><td>&quot;./repo_list/st…</td><td>&quot;test/typingann…</td><td>&quot;3.12.1&quot;</td><td>&quot;Python Softwar…</td><td>49</td><td>1410</td><td>[0.010098, 0.009077, … 0.023405]</td><td>[-0.002089, 0.011562, … -0.009838]</td><td>[-0.00099, 0.013922, … -0.012896]</td></tr></tbody></table></div>"
      ],
      "text/plain": [
       "shape: (1, 12)\n",
       "┌────────┬────────────┬────────────┬───────────┬───┬───────────┬───────────┬───────────┬───────────┐\n",
       "│ type   ┆ code       ┆ cst_tree   ┆ file_name ┆ … ┆ cst_tree_ ┆ code_text ┆ code_text ┆ cst_tree_ │\n",
       "│ ---    ┆ ---        ┆ ---        ┆ ---       ┆   ┆ token_len ┆ -embeddin ┆ -embeddin ┆ text-embe │\n",
       "│ str    ┆ str        ┆ str        ┆ str       ┆   ┆ ---       ┆ g-3-small ┆ g-3-large ┆ dding-3-s │\n",
       "│        ┆            ┆            ┆           ┆   ┆ i64       ┆ _embe…    ┆ _embe…    ┆ mall_…    │\n",
       "│        ┆            ┆            ┆           ┆   ┆           ┆ ---       ┆ ---       ┆ ---       │\n",
       "│        ┆            ┆            ┆           ┆   ┆           ┆ list[f64] ┆ list[f64] ┆ list[f64] │\n",
       "╞════════╪════════════╪════════════╪═══════════╪═══╪═══════════╪═══════════╪═══════════╪═══════════╡\n",
       "│ module ┆ # Used by  ┆ Module(    ┆ ./repo_li ┆ … ┆ 1410      ┆ [0.010098 ┆ [-0.00208 ┆ [-0.00099 │\n",
       "│        ┆ test_typin ┆     body=[ ┆ st/standa ┆   ┆           ┆ ,         ┆ 9,        ┆ ,         │\n",
       "│        ┆ g to       ┆ Simpl…     ┆ rd_lib/te ┆   ┆           ┆ 0.009077, ┆ 0.011562, ┆ 0.013922, │\n",
       "│        ┆ verify …   ┆            ┆ st/ty…    ┆   ┆           ┆ …         ┆ …         ┆ … -0.0128 │\n",
       "│        ┆            ┆            ┆           ┆   ┆           ┆ 0.023405] ┆ -0.00983… ┆ 96…       │\n",
       "└────────┴────────────┴────────────┴───────────┴───┴───────────┴───────────┴───────────┴───────────┘"
      ]
     },
     "execution_count": 9,
     "metadata": {},
     "output_type": "execute_result"
    }
   ],
   "source": [
    "mfp.df.head(1)"
   ]
  },
  {
   "cell_type": "code",
   "execution_count": 5,
   "metadata": {},
   "outputs": [
    {
     "name": "stderr",
     "output_type": "stream",
     "text": [
      "Processing codes: 100%|██████████| 83708/83708 [05:41<00:00, 245.15it/s]\n"
     ]
    }
   ],
   "source": [
    "df = mfp.count_node_types(column_name=\"code\")"
   ]
  },
  {
   "cell_type": "code",
   "execution_count": 7,
   "metadata": {},
   "outputs": [],
   "source": [
    "mfp.df = df"
   ]
  },
  {
   "cell_type": "code",
   "execution_count": 8,
   "metadata": {},
   "outputs": [
    {
     "name": "stderr",
     "output_type": "stream",
     "text": [
      "Processing codes: 100%|██████████| 83708/83708 [05:33<00:00, 251.10it/s] \n"
     ]
    }
   ],
   "source": [
    "df2 = mfp.count_operators(\"code\")"
   ]
  },
  {
   "cell_type": "code",
   "execution_count": 11,
   "metadata": {},
   "outputs": [],
   "source": [
    "df2.write_parquet(\"python_3_12_1_standard_lib_all_with_counts.parquet\")"
   ]
  },
  {
   "cell_type": "code",
   "execution_count": null,
   "metadata": {},
   "outputs": [],
   "source": []
  },
  {
   "cell_type": "code",
   "execution_count": 3,
   "metadata": {},
   "outputs": [],
   "source": [
    "df = pl.read_parquet(\"saved_frames/python_3_12_1_standard_lib_all_with_counts.parquet\")"
   ]
  },
  {
   "cell_type": "code",
   "execution_count": 9,
   "metadata": {},
   "outputs": [
    {
     "data": {
      "text/html": [
       "<div><style>\n",
       ".dataframe > thead > tr,\n",
       ".dataframe > tbody > tr {\n",
       "  text-align: right;\n",
       "  white-space: pre-wrap;\n",
       "}\n",
       "</style>\n",
       "<small>shape: (9, 72)</small><table border=\"1\" class=\"dataframe\"><thead><tr><th>statistic</th><th>code_token_len</th><th>cst_tree_token_len</th><th>FunctionCall</th><th>Argument</th><th>Import</th><th>If</th><th>BaseCompoundStatement</th><th>For</th><th>While</th><th>Try</th><th>With</th><th>Lambda</th><th>Global</th><th>Nonlocal</th><th>ListComprehension</th><th>DictComprehension</th><th>SetComprehension</th><th>GeneratorExpression</th><th>Yield</th><th>Await</th><th>Return</th><th>Break</th><th>Continue</th><th>Raise</th><th>Assert</th><th>Pass</th><th>BitInvert</th><th>UnaryMinus</th><th>Not</th><th>UnaryPlus</th><th>And</th><th>Or</th><th>Add</th><th>BitAnd</th><th>BitOr</th><th>BitXor</th><th>Divide</th><th>FloorDivide</th><th>LeftShift</th><th>MatrixMultiply</th><th>Modulo</th><th>Multiply</th><th>Power</th><th>RightShift</th><th>Subtract</th><th>Equal</th><th>GreaterThan</th><th>GreaterThanEqual</th><th>In</th><th>Is</th><th>LessThan</th><th>LessThanEqual</th><th>NotEqual</th><th>IsNot</th><th>NotIn</th><th>AddAssign</th><th>SubtractAssign</th><th>MultiplyAssign</th><th>DivideAssign</th><th>ModuloAssign</th><th>AndAssign</th><th>OrAssign</th><th>XorAssign</th><th>LeftShiftAssign</th><th>RightShiftAssign</th><th>PowerAssign</th><th>FloorDivideAssign</th><th>MatrixMultiplyAssign</th><th>Colon</th><th>Comma</th><th>Dot</th></tr><tr><td>str</td><td>f64</td><td>f64</td><td>f64</td><td>f64</td><td>f64</td><td>f64</td><td>f64</td><td>f64</td><td>f64</td><td>f64</td><td>f64</td><td>f64</td><td>f64</td><td>f64</td><td>f64</td><td>f64</td><td>f64</td><td>f64</td><td>f64</td><td>f64</td><td>f64</td><td>f64</td><td>f64</td><td>f64</td><td>f64</td><td>f64</td><td>f64</td><td>f64</td><td>f64</td><td>f64</td><td>f64</td><td>f64</td><td>f64</td><td>f64</td><td>f64</td><td>f64</td><td>f64</td><td>f64</td><td>f64</td><td>f64</td><td>f64</td><td>f64</td><td>f64</td><td>f64</td><td>f64</td><td>f64</td><td>f64</td><td>f64</td><td>f64</td><td>f64</td><td>f64</td><td>f64</td><td>f64</td><td>f64</td><td>f64</td><td>f64</td><td>f64</td><td>f64</td><td>f64</td><td>f64</td><td>f64</td><td>f64</td><td>f64</td><td>f64</td><td>f64</td><td>f64</td><td>f64</td><td>f64</td><td>f64</td><td>f64</td><td>f64</td></tr></thead><tbody><tr><td>&quot;count&quot;</td><td>83708.0</td><td>83708.0</td><td>83708.0</td><td>83708.0</td><td>83708.0</td><td>83708.0</td><td>83708.0</td><td>83708.0</td><td>83708.0</td><td>83708.0</td><td>83708.0</td><td>83708.0</td><td>83708.0</td><td>83708.0</td><td>83708.0</td><td>83708.0</td><td>83708.0</td><td>83708.0</td><td>83708.0</td><td>83708.0</td><td>83708.0</td><td>83708.0</td><td>83708.0</td><td>83708.0</td><td>83708.0</td><td>83708.0</td><td>83708.0</td><td>83708.0</td><td>83708.0</td><td>83708.0</td><td>83708.0</td><td>83708.0</td><td>83708.0</td><td>83708.0</td><td>83708.0</td><td>83708.0</td><td>83708.0</td><td>83708.0</td><td>83708.0</td><td>83708.0</td><td>83708.0</td><td>83708.0</td><td>83708.0</td><td>83708.0</td><td>83708.0</td><td>83708.0</td><td>83708.0</td><td>83708.0</td><td>83708.0</td><td>83708.0</td><td>83708.0</td><td>83708.0</td><td>83708.0</td><td>83708.0</td><td>83708.0</td><td>83708.0</td><td>83708.0</td><td>83708.0</td><td>83708.0</td><td>83708.0</td><td>83708.0</td><td>83708.0</td><td>83708.0</td><td>83708.0</td><td>83708.0</td><td>83708.0</td><td>83708.0</td><td>83708.0</td><td>83708.0</td><td>83708.0</td><td>83708.0</td></tr><tr><td>&quot;null_count&quot;</td><td>0.0</td><td>0.0</td><td>0.0</td><td>0.0</td><td>0.0</td><td>0.0</td><td>0.0</td><td>0.0</td><td>0.0</td><td>0.0</td><td>0.0</td><td>0.0</td><td>0.0</td><td>0.0</td><td>0.0</td><td>0.0</td><td>0.0</td><td>0.0</td><td>0.0</td><td>0.0</td><td>0.0</td><td>0.0</td><td>0.0</td><td>0.0</td><td>0.0</td><td>0.0</td><td>0.0</td><td>0.0</td><td>0.0</td><td>0.0</td><td>0.0</td><td>0.0</td><td>0.0</td><td>0.0</td><td>0.0</td><td>0.0</td><td>0.0</td><td>0.0</td><td>0.0</td><td>0.0</td><td>0.0</td><td>0.0</td><td>0.0</td><td>0.0</td><td>0.0</td><td>0.0</td><td>0.0</td><td>0.0</td><td>0.0</td><td>0.0</td><td>0.0</td><td>0.0</td><td>0.0</td><td>0.0</td><td>0.0</td><td>0.0</td><td>0.0</td><td>0.0</td><td>0.0</td><td>0.0</td><td>0.0</td><td>0.0</td><td>0.0</td><td>0.0</td><td>0.0</td><td>0.0</td><td>0.0</td><td>0.0</td><td>0.0</td><td>0.0</td><td>0.0</td></tr><tr><td>&quot;mean&quot;</td><td>387.955488</td><td>11170.282494</td><td>17.859667</td><td>4.850851</td><td>0.329061</td><td>1.725176</td><td>0.0</td><td>0.554678</td><td>0.070603</td><td>0.34262</td><td>0.690472</td><td>0.095534</td><td>0.010095</td><td>0.019855</td><td>0.091067</td><td>0.008984</td><td>0.004671</td><td>0.055013</td><td>0.110527</td><td>0.089107</td><td>1.270775</td><td>0.055096</td><td>0.050234</td><td>0.352212</td><td>0.084066</td><td>0.274657</td><td>0.008673</td><td>0.0</td><td>0.307044</td><td>0.0</td><td>0.244158</td><td>0.138111</td><td>0.668263</td><td>0.037201</td><td>0.07151</td><td>0.008888</td><td>0.077627</td><td>0.029125</td><td>0.026819</td><td>0.000765</td><td>0.290056</td><td>0.272531</td><td>0.067604</td><td>0.007896</td><td>0.17972</td><td>0.440854</td><td>0.08354</td><td>0.053113</td><td>0.165349</td><td>0.21581</td><td>0.092309</td><td>0.055562</td><td>0.112976</td><td>0.16898</td><td>0.056566</td><td>0.0</td><td>0.0</td><td>0.0</td><td>0.0</td><td>0.0</td><td>0.0</td><td>0.0</td><td>0.0</td><td>0.0</td><td>0.0</td><td>0.0</td><td>0.0</td><td>0.0</td><td>0.393355</td><td>20.971747</td><td>20.721604</td></tr><tr><td>&quot;std&quot;</td><td>1676.998013</td><td>46675.925886</td><td>81.31761</td><td>18.417464</td><td>2.000057</td><td>8.692726</td><td>0.0</td><td>2.957306</td><td>0.504187</td><td>1.951573</td><td>4.806321</td><td>1.054768</td><td>0.167213</td><td>0.299589</td><td>0.72117</td><td>0.158663</td><td>0.103528</td><td>0.476422</td><td>1.407029</td><td>1.931955</td><td>6.065356</td><td>0.448873</td><td>0.435443</td><td>2.134467</td><td>1.500751</td><td>2.692056</td><td>0.363653</td><td>0.0</td><td>1.664999</td><td>0.0</td><td>2.016276</td><td>0.956159</td><td>4.40792</td><td>0.587685</td><td>1.538931</td><td>0.287676</td><td>1.495489</td><td>0.398832</td><td>0.565205</td><td>0.041469</td><td>2.009289</td><td>2.49476</td><td>1.340785</td><td>0.284763</td><td>1.59362</td><td>2.779895</td><td>0.694761</td><td>0.545359</td><td>1.095478</td><td>1.485811</td><td>0.776165</td><td>0.641437</td><td>0.77978</td><td>1.109792</td><td>0.445149</td><td>0.0</td><td>0.0</td><td>0.0</td><td>0.0</td><td>0.0</td><td>0.0</td><td>0.0</td><td>0.0</td><td>0.0</td><td>0.0</td><td>0.0</td><td>0.0</td><td>0.0</td><td>2.939913</td><td>141.451847</td><td>89.758329</td></tr><tr><td>&quot;min&quot;</td><td>6.0</td><td>92.0</td><td>0.0</td><td>0.0</td><td>0.0</td><td>0.0</td><td>0.0</td><td>0.0</td><td>0.0</td><td>0.0</td><td>0.0</td><td>0.0</td><td>0.0</td><td>0.0</td><td>0.0</td><td>0.0</td><td>0.0</td><td>0.0</td><td>0.0</td><td>0.0</td><td>0.0</td><td>0.0</td><td>0.0</td><td>0.0</td><td>0.0</td><td>0.0</td><td>0.0</td><td>0.0</td><td>0.0</td><td>0.0</td><td>0.0</td><td>0.0</td><td>0.0</td><td>0.0</td><td>0.0</td><td>0.0</td><td>0.0</td><td>0.0</td><td>0.0</td><td>0.0</td><td>0.0</td><td>0.0</td><td>0.0</td><td>0.0</td><td>0.0</td><td>0.0</td><td>0.0</td><td>0.0</td><td>0.0</td><td>0.0</td><td>0.0</td><td>0.0</td><td>0.0</td><td>0.0</td><td>0.0</td><td>0.0</td><td>0.0</td><td>0.0</td><td>0.0</td><td>0.0</td><td>0.0</td><td>0.0</td><td>0.0</td><td>0.0</td><td>0.0</td><td>0.0</td><td>0.0</td><td>0.0</td><td>0.0</td><td>0.0</td><td>0.0</td></tr><tr><td>&quot;25%&quot;</td><td>35.0</td><td>1189.0</td><td>1.0</td><td>1.0</td><td>0.0</td><td>0.0</td><td>0.0</td><td>0.0</td><td>0.0</td><td>0.0</td><td>0.0</td><td>0.0</td><td>0.0</td><td>0.0</td><td>0.0</td><td>0.0</td><td>0.0</td><td>0.0</td><td>0.0</td><td>0.0</td><td>0.0</td><td>0.0</td><td>0.0</td><td>0.0</td><td>0.0</td><td>0.0</td><td>0.0</td><td>0.0</td><td>0.0</td><td>0.0</td><td>0.0</td><td>0.0</td><td>0.0</td><td>0.0</td><td>0.0</td><td>0.0</td><td>0.0</td><td>0.0</td><td>0.0</td><td>0.0</td><td>0.0</td><td>0.0</td><td>0.0</td><td>0.0</td><td>0.0</td><td>0.0</td><td>0.0</td><td>0.0</td><td>0.0</td><td>0.0</td><td>0.0</td><td>0.0</td><td>0.0</td><td>0.0</td><td>0.0</td><td>0.0</td><td>0.0</td><td>0.0</td><td>0.0</td><td>0.0</td><td>0.0</td><td>0.0</td><td>0.0</td><td>0.0</td><td>0.0</td><td>0.0</td><td>0.0</td><td>0.0</td><td>0.0</td><td>1.0</td><td>1.0</td></tr><tr><td>&quot;50%&quot;</td><td>83.0</td><td>2632.0</td><td>4.0</td><td>1.0</td><td>0.0</td><td>0.0</td><td>0.0</td><td>0.0</td><td>0.0</td><td>0.0</td><td>0.0</td><td>0.0</td><td>0.0</td><td>0.0</td><td>0.0</td><td>0.0</td><td>0.0</td><td>0.0</td><td>0.0</td><td>0.0</td><td>0.0</td><td>0.0</td><td>0.0</td><td>0.0</td><td>0.0</td><td>0.0</td><td>0.0</td><td>0.0</td><td>0.0</td><td>0.0</td><td>0.0</td><td>0.0</td><td>0.0</td><td>0.0</td><td>0.0</td><td>0.0</td><td>0.0</td><td>0.0</td><td>0.0</td><td>0.0</td><td>0.0</td><td>0.0</td><td>0.0</td><td>0.0</td><td>0.0</td><td>0.0</td><td>0.0</td><td>0.0</td><td>0.0</td><td>0.0</td><td>0.0</td><td>0.0</td><td>0.0</td><td>0.0</td><td>0.0</td><td>0.0</td><td>0.0</td><td>0.0</td><td>0.0</td><td>0.0</td><td>0.0</td><td>0.0</td><td>0.0</td><td>0.0</td><td>0.0</td><td>0.0</td><td>0.0</td><td>0.0</td><td>0.0</td><td>3.0</td><td>4.0</td></tr><tr><td>&quot;75%&quot;</td><td>240.0</td><td>7457.0</td><td>12.0</td><td>3.0</td><td>0.0</td><td>1.0</td><td>0.0</td><td>0.0</td><td>0.0</td><td>0.0</td><td>0.0</td><td>0.0</td><td>0.0</td><td>0.0</td><td>0.0</td><td>0.0</td><td>0.0</td><td>0.0</td><td>0.0</td><td>0.0</td><td>1.0</td><td>0.0</td><td>0.0</td><td>0.0</td><td>0.0</td><td>0.0</td><td>0.0</td><td>0.0</td><td>0.0</td><td>0.0</td><td>0.0</td><td>0.0</td><td>0.0</td><td>0.0</td><td>0.0</td><td>0.0</td><td>0.0</td><td>0.0</td><td>0.0</td><td>0.0</td><td>0.0</td><td>0.0</td><td>0.0</td><td>0.0</td><td>0.0</td><td>0.0</td><td>0.0</td><td>0.0</td><td>0.0</td><td>0.0</td><td>0.0</td><td>0.0</td><td>0.0</td><td>0.0</td><td>0.0</td><td>0.0</td><td>0.0</td><td>0.0</td><td>0.0</td><td>0.0</td><td>0.0</td><td>0.0</td><td>0.0</td><td>0.0</td><td>0.0</td><td>0.0</td><td>0.0</td><td>0.0</td><td>0.0</td><td>11.0</td><td>14.0</td></tr><tr><td>&quot;max&quot;</td><td>113463.0</td><td>3.049745e6</td><td>4422.0</td><td>1028.0</td><td>66.0</td><td>650.0</td><td>0.0</td><td>227.0</td><td>27.0</td><td>112.0</td><td>474.0</td><td>95.0</td><td>12.0</td><td>24.0</td><td>44.0</td><td>14.0</td><td>9.0</td><td>36.0</td><td>146.0</td><td>217.0</td><td>567.0</td><td>22.0</td><td>21.0</td><td>109.0</td><td>320.0</td><td>332.0</td><td>54.0</td><td>0.0</td><td>88.0</td><td>0.0</td><td>275.0</td><td>65.0</td><td>297.0</td><td>31.0</td><td>198.0</td><td>26.0</td><td>231.0</td><td>34.0</td><td>69.0</td><td>3.0</td><td>122.0</td><td>207.0</td><td>140.0</td><td>50.0</td><td>176.0</td><td>320.0</td><td>46.0</td><td>42.0</td><td>66.0</td><td>117.0</td><td>66.0</td><td>46.0</td><td>44.0</td><td>69.0</td><td>28.0</td><td>0.0</td><td>0.0</td><td>0.0</td><td>0.0</td><td>0.0</td><td>0.0</td><td>0.0</td><td>0.0</td><td>0.0</td><td>0.0</td><td>0.0</td><td>0.0</td><td>0.0</td><td>247.0</td><td>22675.0</td><td>4736.0</td></tr></tbody></table></div>"
      ],
      "text/plain": [
       "shape: (9, 72)\n",
       "┌───────────┬───────────┬───────────┬───────────┬───┬───────────┬──────────┬───────────┬───────────┐\n",
       "│ statistic ┆ code_toke ┆ cst_tree_ ┆ FunctionC ┆ … ┆ MatrixMul ┆ Colon    ┆ Comma     ┆ Dot       │\n",
       "│ ---       ┆ n_len     ┆ token_len ┆ all       ┆   ┆ tiplyAssi ┆ ---      ┆ ---       ┆ ---       │\n",
       "│ str       ┆ ---       ┆ ---       ┆ ---       ┆   ┆ gn        ┆ f64      ┆ f64       ┆ f64       │\n",
       "│           ┆ f64       ┆ f64       ┆ f64       ┆   ┆ ---       ┆          ┆           ┆           │\n",
       "│           ┆           ┆           ┆           ┆   ┆ f64       ┆          ┆           ┆           │\n",
       "╞═══════════╪═══════════╪═══════════╪═══════════╪═══╪═══════════╪══════════╪═══════════╪═══════════╡\n",
       "│ count     ┆ 83708.0   ┆ 83708.0   ┆ 83708.0   ┆ … ┆ 83708.0   ┆ 83708.0  ┆ 83708.0   ┆ 83708.0   │\n",
       "│ null_coun ┆ 0.0       ┆ 0.0       ┆ 0.0       ┆ … ┆ 0.0       ┆ 0.0      ┆ 0.0       ┆ 0.0       │\n",
       "│ t         ┆           ┆           ┆           ┆   ┆           ┆          ┆           ┆           │\n",
       "│ mean      ┆ 387.95548 ┆ 11170.282 ┆ 17.859667 ┆ … ┆ 0.0       ┆ 0.393355 ┆ 20.971747 ┆ 20.721604 │\n",
       "│           ┆ 8         ┆ 494       ┆           ┆   ┆           ┆          ┆           ┆           │\n",
       "│ std       ┆ 1676.9980 ┆ 46675.925 ┆ 81.31761  ┆ … ┆ 0.0       ┆ 2.939913 ┆ 141.45184 ┆ 89.758329 │\n",
       "│           ┆ 13        ┆ 886       ┆           ┆   ┆           ┆          ┆ 7         ┆           │\n",
       "│ min       ┆ 6.0       ┆ 92.0      ┆ 0.0       ┆ … ┆ 0.0       ┆ 0.0      ┆ 0.0       ┆ 0.0       │\n",
       "│ 25%       ┆ 35.0      ┆ 1189.0    ┆ 1.0       ┆ … ┆ 0.0       ┆ 0.0      ┆ 1.0       ┆ 1.0       │\n",
       "│ 50%       ┆ 83.0      ┆ 2632.0    ┆ 4.0       ┆ … ┆ 0.0       ┆ 0.0      ┆ 3.0       ┆ 4.0       │\n",
       "│ 75%       ┆ 240.0     ┆ 7457.0    ┆ 12.0      ┆ … ┆ 0.0       ┆ 0.0      ┆ 11.0      ┆ 14.0      │\n",
       "│ max       ┆ 113463.0  ┆ 3.049745e ┆ 4422.0    ┆ … ┆ 0.0       ┆ 247.0    ┆ 22675.0   ┆ 4736.0    │\n",
       "│           ┆           ┆ 6         ┆           ┆   ┆           ┆          ┆           ┆           │\n",
       "└───────────┴───────────┴───────────┴───────────┴───┴───────────┴──────────┴───────────┴───────────┘"
      ]
     },
     "execution_count": 9,
     "metadata": {},
     "output_type": "execute_result"
    }
   ],
   "source": [
    "df.select(pl.col(pl.Int64)).describe()"
   ]
  },
  {
   "cell_type": "code",
   "execution_count": 51,
   "metadata": {},
   "outputs": [],
   "source": [
    "index = [i for i in range(df.shape[0])]\n",
    "df = df.with_columns(pl.Series(name=\"index\", values=index))"
   ]
  },
  {
   "cell_type": "code",
   "execution_count": 52,
   "metadata": {},
   "outputs": [
    {
     "name": "stdout",
     "output_type": "stream",
     "text": [
      "(83708, 82)\n"
     ]
    },
    {
     "data": {
      "text/html": [
       "<div><style>\n",
       ".dataframe > thead > tr,\n",
       ".dataframe > tbody > tr {\n",
       "  text-align: right;\n",
       "  white-space: pre-wrap;\n",
       "}\n",
       "</style>\n",
       "<small>shape: (0, 82)</small><table border=\"1\" class=\"dataframe\"><thead><tr><th>type</th><th>code</th><th>cst_tree</th><th>file_name</th><th>modules</th><th>version</th><th>license</th><th>code_token_len</th><th>cst_tree_token_len</th><th>code_text-embedding-3-small_embedding</th><th>code_text-embedding-3-large_embedding</th><th>cst_tree_text-embedding-3-small_embedding</th><th>FunctionCall</th><th>Argument</th><th>Import</th><th>If</th><th>BaseCompoundStatement</th><th>For</th><th>While</th><th>Try</th><th>With</th><th>Lambda</th><th>Global</th><th>Nonlocal</th><th>ListComprehension</th><th>DictComprehension</th><th>SetComprehension</th><th>GeneratorExpression</th><th>Yield</th><th>Await</th><th>Return</th><th>Break</th><th>Continue</th><th>Raise</th><th>Assert</th><th>Pass</th><th>BitInvert</th><th>&hellip;</th><th>BitXor</th><th>Divide</th><th>FloorDivide</th><th>LeftShift</th><th>MatrixMultiply</th><th>Modulo</th><th>Multiply</th><th>Power</th><th>RightShift</th><th>Subtract</th><th>Equal</th><th>GreaterThan</th><th>GreaterThanEqual</th><th>In</th><th>Is</th><th>LessThan</th><th>LessThanEqual</th><th>NotEqual</th><th>IsNot</th><th>NotIn</th><th>AddAssign</th><th>SubtractAssign</th><th>MultiplyAssign</th><th>DivideAssign</th><th>ModuloAssign</th><th>AndAssign</th><th>OrAssign</th><th>XorAssign</th><th>LeftShiftAssign</th><th>RightShiftAssign</th><th>PowerAssign</th><th>FloorDivideAssign</th><th>MatrixMultiplyAssign</th><th>Colon</th><th>Comma</th><th>Dot</th><th>index</th></tr><tr><td>str</td><td>str</td><td>str</td><td>str</td><td>str</td><td>str</td><td>str</td><td>i64</td><td>i64</td><td>list[f64]</td><td>list[f64]</td><td>list[f64]</td><td>i64</td><td>i64</td><td>i64</td><td>i64</td><td>i64</td><td>i64</td><td>i64</td><td>i64</td><td>i64</td><td>i64</td><td>i64</td><td>i64</td><td>i64</td><td>i64</td><td>i64</td><td>i64</td><td>i64</td><td>i64</td><td>i64</td><td>i64</td><td>i64</td><td>i64</td><td>i64</td><td>i64</td><td>i64</td><td>&hellip;</td><td>i64</td><td>i64</td><td>i64</td><td>i64</td><td>i64</td><td>i64</td><td>i64</td><td>i64</td><td>i64</td><td>i64</td><td>i64</td><td>i64</td><td>i64</td><td>i64</td><td>i64</td><td>i64</td><td>i64</td><td>i64</td><td>i64</td><td>i64</td><td>i64</td><td>i64</td><td>i64</td><td>i64</td><td>i64</td><td>i64</td><td>i64</td><td>i64</td><td>i64</td><td>i64</td><td>i64</td><td>i64</td><td>i64</td><td>i64</td><td>i64</td><td>i64</td><td>i64</td></tr></thead><tbody></tbody></table></div>"
      ],
      "text/plain": [
       "shape: (0, 82)\n",
       "┌──────┬──────┬──────────┬───────────┬───┬───────┬───────┬─────┬───────┐\n",
       "│ type ┆ code ┆ cst_tree ┆ file_name ┆ … ┆ Colon ┆ Comma ┆ Dot ┆ index │\n",
       "│ ---  ┆ ---  ┆ ---      ┆ ---       ┆   ┆ ---   ┆ ---   ┆ --- ┆ ---   │\n",
       "│ str  ┆ str  ┆ str      ┆ str       ┆   ┆ i64   ┆ i64   ┆ i64 ┆ i64   │\n",
       "╞══════╪══════╪══════════╪═══════════╪═══╪═══════╪═══════╪═════╪═══════╡\n",
       "└──────┴──────┴──────────┴───────────┴───┴───────┴───────┴─────┴───────┘"
      ]
     },
     "execution_count": 52,
     "metadata": {},
     "output_type": "execute_result"
    }
   ],
   "source": [
    "print(df.shape)\n",
    "df.head(0)"
   ]
  },
  {
   "cell_type": "code",
   "execution_count": 53,
   "metadata": {},
   "outputs": [],
   "source": [
    "count_list = []\n",
    "for col in df.columns:\n",
    "    if col in ['code_token_len', 'cst_tree_token_len']:\n",
    "        continue\n",
    "\n",
    "    if isinstance(df[col].dtype, pl.Int64):\n",
    "        prob = df[col].gt(0).sum() / len(df)\n",
    "        \n",
    "        #print(f\"Probability of non-zero count in column {col}: {prob}\")\n",
    "        #max_row = df.sort(pl.col(col)).tail(1)['code'].to_list()[0]\n",
    "        #print(max_row)\n",
    "        #print(f\"Probability of over 10 count in column {col}: {df[col].gt(10).sum() / len(df)}\")\n",
    "        #print(f\"Skewness of column {col}: {}\")\n",
    "        skew = df[col].skew()\n",
    "        count_list.append({'column':col, \"count\": df[col].gt(0).sum(),\"prob_of_non_zero\":prob, 'skew': skew})\n",
    "\n",
    "\n"
   ]
  },
  {
   "cell_type": "code",
   "execution_count": 54,
   "metadata": {},
   "outputs": [],
   "source": [
    "counts = pl.DataFrame(count_list)"
   ]
  },
  {
   "cell_type": "code",
   "execution_count": 6,
   "metadata": {},
   "outputs": [
    {
     "data": {
      "text/plain": [
       "polars.config.Config"
      ]
     },
     "execution_count": 6,
     "metadata": {},
     "output_type": "execute_result"
    }
   ],
   "source": [
    "pl.Config.set_tbl_rows(69)"
   ]
  },
  {
   "cell_type": "markdown",
   "metadata": {},
   "source": [
    "Okay, so essentially I want to be able to create a method that takes in the data frame and is able to create a data set for a given node type. So we're going to give a size of the data frame, for example, 6,000. And for half of that, 50% of that, we're going to sample from the node type, the target node type. For the other 50%, we're going to look through all the other columns that are above, say 2,000 count. And we're going to sample uniformly at first. then relative to the count later. nodes or rows from the different node types that do not include the target node. So for example if the target node type is if we sample 3,000 for the 50% of rows with the if node in it. Then for the other 3,000 we'll look say we go to the return type. We want to look for all we want to look for you know some uniform number save a hundred it's probably off but a hundred rows that have the return node in it that do not have if in it \n",
    "\n",
    "\n",
    "# Action Plan for Coding:\n",
    "1. Create a method that takes in the data frame and a size parameter.\n",
    "2. For the first half of the size, sample from the target node type.\n",
    "3. For the second half of the size, sample from all other columns with a count above a certain threshold.\n",
    "4. Initially, sample uniformly. Later, sample relative to the count.\n",
    "5. Exclude rows with the target node type from the second half of the size.\n",
    "6. For example, if the target node type is 'if', sample 50% of the rows with 'if' and 50% of the rows with other node types.\n",
    "7. For the second half of the size, sample a uniform number of rows from each node type that do not include the target node.\n",
    "8. The uniform number can be adjusted based on the count of each node type.\n",
    "9. This method will create a balanced dataset for the target node type and a diverse dataset for the other node types."
   ]
  },
  {
   "cell_type": "code",
   "execution_count": 55,
   "metadata": {},
   "outputs": [],
   "source": [
    "node_list = counts.filter(pl.col(\"count\").gt(1900))"
   ]
  },
  {
   "cell_type": "code",
   "execution_count": 56,
   "metadata": {},
   "outputs": [
    {
     "data": {
      "text/html": [
       "<div><style>\n",
       ".dataframe > thead > tr,\n",
       ".dataframe > tbody > tr {\n",
       "  text-align: right;\n",
       "  white-space: pre-wrap;\n",
       "}\n",
       "</style>\n",
       "<small>shape: (0, 82)</small><table border=\"1\" class=\"dataframe\"><thead><tr><th>type</th><th>code</th><th>cst_tree</th><th>file_name</th><th>modules</th><th>version</th><th>license</th><th>code_token_len</th><th>cst_tree_token_len</th><th>code_text-embedding-3-small_embedding</th><th>code_text-embedding-3-large_embedding</th><th>cst_tree_text-embedding-3-small_embedding</th><th>FunctionCall</th><th>Argument</th><th>Import</th><th>If</th><th>BaseCompoundStatement</th><th>For</th><th>While</th><th>Try</th><th>With</th><th>Lambda</th><th>Global</th><th>Nonlocal</th><th>ListComprehension</th><th>DictComprehension</th><th>SetComprehension</th><th>GeneratorExpression</th><th>Yield</th><th>Await</th><th>Return</th><th>Break</th><th>Continue</th><th>Raise</th><th>Assert</th><th>Pass</th><th>BitInvert</th><th>&hellip;</th><th>BitXor</th><th>Divide</th><th>FloorDivide</th><th>LeftShift</th><th>MatrixMultiply</th><th>Modulo</th><th>Multiply</th><th>Power</th><th>RightShift</th><th>Subtract</th><th>Equal</th><th>GreaterThan</th><th>GreaterThanEqual</th><th>In</th><th>Is</th><th>LessThan</th><th>LessThanEqual</th><th>NotEqual</th><th>IsNot</th><th>NotIn</th><th>AddAssign</th><th>SubtractAssign</th><th>MultiplyAssign</th><th>DivideAssign</th><th>ModuloAssign</th><th>AndAssign</th><th>OrAssign</th><th>XorAssign</th><th>LeftShiftAssign</th><th>RightShiftAssign</th><th>PowerAssign</th><th>FloorDivideAssign</th><th>MatrixMultiplyAssign</th><th>Colon</th><th>Comma</th><th>Dot</th><th>index</th></tr><tr><td>str</td><td>str</td><td>str</td><td>str</td><td>str</td><td>str</td><td>str</td><td>i64</td><td>i64</td><td>list[f64]</td><td>list[f64]</td><td>list[f64]</td><td>i64</td><td>i64</td><td>i64</td><td>i64</td><td>i64</td><td>i64</td><td>i64</td><td>i64</td><td>i64</td><td>i64</td><td>i64</td><td>i64</td><td>i64</td><td>i64</td><td>i64</td><td>i64</td><td>i64</td><td>i64</td><td>i64</td><td>i64</td><td>i64</td><td>i64</td><td>i64</td><td>i64</td><td>i64</td><td>&hellip;</td><td>i64</td><td>i64</td><td>i64</td><td>i64</td><td>i64</td><td>i64</td><td>i64</td><td>i64</td><td>i64</td><td>i64</td><td>i64</td><td>i64</td><td>i64</td><td>i64</td><td>i64</td><td>i64</td><td>i64</td><td>i64</td><td>i64</td><td>i64</td><td>i64</td><td>i64</td><td>i64</td><td>i64</td><td>i64</td><td>i64</td><td>i64</td><td>i64</td><td>i64</td><td>i64</td><td>i64</td><td>i64</td><td>i64</td><td>i64</td><td>i64</td><td>i64</td><td>i64</td></tr></thead><tbody></tbody></table></div>"
      ],
      "text/plain": [
       "shape: (0, 82)\n",
       "┌──────┬──────┬──────────┬───────────┬───┬───────┬───────┬─────┬───────┐\n",
       "│ type ┆ code ┆ cst_tree ┆ file_name ┆ … ┆ Colon ┆ Comma ┆ Dot ┆ index │\n",
       "│ ---  ┆ ---  ┆ ---      ┆ ---       ┆   ┆ ---   ┆ ---   ┆ --- ┆ ---   │\n",
       "│ str  ┆ str  ┆ str      ┆ str       ┆   ┆ i64   ┆ i64   ┆ i64 ┆ i64   │\n",
       "╞══════╪══════╪══════════╪═══════════╪═══╪═══════╪═══════╪═════╪═══════╡\n",
       "└──────┴──────┴──────────┴───────────┴───┴───────┴───────┴─────┴───────┘"
      ]
     },
     "execution_count": 56,
     "metadata": {},
     "output_type": "execute_result"
    }
   ],
   "source": [
    "df.head(0)"
   ]
  },
  {
   "cell_type": "code",
   "execution_count": null,
   "metadata": {},
   "outputs": [],
   "source": [
    "df2 = df.drop(['type', 'code', 'type',\n",
    "\n",
    " 'cst_tree',\n",
    " 'file_name',\n",
    " 'modules',\n",
    " 'version',\n",
    " 'license',\n",
    " 'code_token_len',\n",
    " 'cst_tree_token_len',\n",
    " 'code_text-embedding-3-small_embedding',\n",
    " 'code_text-embedding-3-large_embedding',\n",
    " 'cst_tree_text-embedding-3-small_embedding'])\n",
    "df2"
   ]
  },
  {
   "cell_type": "code",
   "execution_count": 58,
   "metadata": {},
   "outputs": [],
   "source": [
    "for column in df2.columns:\n",
    "    if isinstance(df2[column].dtype,pl.Int64) and column != 'index':\n",
    "        df2 = df2.with_columns((pl.col(column) > 0).alias(column))\n"
   ]
  },
  {
   "cell_type": "code",
   "execution_count": 86,
   "metadata": {},
   "outputs": [],
   "source": [
    "import polars as pl\n",
    "import math\n",
    "from time import perf_counter\n",
    "\n",
    "def create_dataset(df, ds_size, target_node, node_list):\n",
    "    \n",
    "    df_ = df.drop(['type', 'code', 'type',\n",
    "        'cst_tree',\n",
    "        'file_name',\n",
    "        'modules',\n",
    "        'version',\n",
    "        'license',\n",
    "        'code_token_len',\n",
    "        'cst_tree_token_len',\n",
    "        'code_text-embedding-3-small_embedding',\n",
    "        'code_text-embedding-3-large_embedding',\n",
    "        'cst_tree_text-embedding-3-small_embedding'])\n",
    "    for column in df_.columns:\n",
    "        if isinstance(df_[column].dtype,pl.Int64) and column != 'index':\n",
    "            df_ = df_.with_columns((pl.col(column) > 0).alias(column))\n",
    "\n",
    "    fifty_percent = ds_size/2\n",
    "    \n",
    "    target_rows = df_.filter(pl.col(target_node)==True)\n",
    "    if target_rows.shape[0] >fifty_percent:\n",
    "        target_rows = target_rows.sample(fifty_percent)\n",
    "\n",
    "    other = df_.filter(pl.col(target_node)==False)\n",
    "\n",
    "    node_list = node_list.filter(pl.col(\"column\") != target_node)\n",
    "    k_other = node_list.select(pl.col(\"column\")).unique()\n",
    "    k = len(k_other)\n",
    "    per_sample = math.floor(fifty_percent/k)\n",
    "\n",
    "    without = []\n",
    "    start_time_for = perf_counter()\n",
    "    for o_node in k_other['column'].to_list():\n",
    "        temp = other.filter(pl.col(o_node)==True)\n",
    "        try:\n",
    "            temp = temp.sample(per_sample)\n",
    "            without.append(temp)\n",
    "        except:\n",
    "            without.append(temp)\n",
    "            continue\n",
    "    train = pl.concat([target_rows] + without)\n",
    "    test = df_.join(train, on=\"index\", how=\"anti\")\n",
    "    train_indexes = train['index'].to_list()\n",
    "    test_indexes = test['index'].to_list()\n",
    "    train = df.filter(pl.col(\"index\").is_in(train_indexes))\n",
    "    test = df.filter(pl.col(\"index\").is_in(test_indexes))\n",
    "\n",
    "    print(f\"Total time for creating the for loop: {perf_counter() - start_time_for}\")\n",
    "    return train, test"
   ]
  },
  {
   "cell_type": "code",
   "execution_count": 87,
   "metadata": {},
   "outputs": [
    {
     "name": "stdout",
     "output_type": "stream",
     "text": [
      "Total time for creating the for loop: 2.8953338749706745\n"
     ]
    }
   ],
   "source": [
    "train, test = create_dataset(df, 6000, \"If\", node_list)"
   ]
  },
  {
   "cell_type": "code",
   "execution_count": null,
   "metadata": {},
   "outputs": [],
   "source": []
  },
  {
   "cell_type": "code",
   "execution_count": 20,
   "metadata": {},
   "outputs": [
    {
     "name": "stdout",
     "output_type": "stream",
     "text": [
      "Time for creating target node exists column: 0.0005096669774502516\n",
      "Total time for creating the for loop: 6.66599233308807\n"
     ]
    },
    {
     "data": {
      "text/plain": [
       "\"\\nfor node in node_list['column'].to_list():\\n    train, test = create_dataset(df, 6000, node, node_list)\\n    \\n    \\n    print(node, train.shape, test.shape)\\n\\n\""
      ]
     },
     "execution_count": 20,
     "metadata": {},
     "output_type": "execute_result"
    }
   ],
   "source": [
    "'''\n",
    "for node in node_list['column'].to_list():\n",
    "    train, test = create_dataset(df, 6000, node, node_list)\n",
    "    print(node, train.shape, test.shape)\n",
    "\n",
    "'''"
   ]
  },
  {
   "cell_type": "code",
   "execution_count": null,
   "metadata": {},
   "outputs": [],
   "source": [
    "test"
   ]
  },
  {
   "cell_type": "code",
   "execution_count": 18,
   "metadata": {},
   "outputs": [
    {
     "data": {
      "text/html": [
       "<div><style>\n",
       ".dataframe > thead > tr,\n",
       ".dataframe > tbody > tr {\n",
       "  text-align: right;\n",
       "  white-space: pre-wrap;\n",
       "}\n",
       "</style>\n",
       "<small>shape: (69, 4)</small><table border=\"1\" class=\"dataframe\"><thead><tr><th>column</th><th>count</th><th>prob_of_non_zero</th><th>skew</th></tr><tr><td>str</td><td>i64</td><td>f64</td><td>f64</td></tr></thead><tbody><tr><td>&quot;Argument&quot;</td><td>76483</td><td>0.913688</td><td>17.649019</td></tr><tr><td>&quot;Dot&quot;</td><td>72534</td><td>0.866512</td><td>20.85085</td></tr><tr><td>&quot;FunctionCall&quot;</td><td>71261</td><td>0.851305</td><td>21.528681</td></tr><tr><td>&quot;Comma&quot;</td><td>67827</td><td>0.810281</td><td>64.94071</td></tr><tr><td>&quot;Return&quot;</td><td>31313</td><td>0.374074</td><td>27.293962</td></tr><tr><td>&quot;If&quot;</td><td>23618</td><td>0.282147</td><td>21.923819</td></tr><tr><td>&quot;For&quot;</td><td>15322</td><td>0.183041</td><td>25.2805</td></tr><tr><td>&quot;With&quot;</td><td>14078</td><td>0.16818</td><td>32.650432</td></tr><tr><td>&quot;Add&quot;</td><td>12217</td><td>0.145948</td><td>25.193614</td></tr><tr><td>&quot;Try&quot;</td><td>11118</td><td>0.132819</td><td>20.56014</td></tr><tr><td>&quot;Equal&quot;</td><td>11102</td><td>0.132628</td><td>40.432047</td></tr><tr><td>&quot;Raise&quot;</td><td>10480</td><td>0.125197</td><td>19.586741</td></tr><tr><td>&quot;Pass&quot;</td><td>9859</td><td>0.117778</td><td>69.375286</td></tr><tr><td>&quot;Not&quot;</td><td>9146</td><td>0.109261</td><td>16.044146</td></tr><tr><td>&quot;Colon&quot;</td><td>8494</td><td>0.101472</td><td>29.078677</td></tr><tr><td>&quot;Modulo&quot;</td><td>7367</td><td>0.088008</td><td>21.574941</td></tr><tr><td>&quot;Is&quot;</td><td>7225</td><td>0.086312</td><td>29.4543</td></tr><tr><td>&quot;And&quot;</td><td>6762</td><td>0.080781</td><td>68.245393</td></tr><tr><td>&quot;Import&quot;</td><td>5818</td><td>0.069504</td><td>11.562671</td></tr><tr><td>&quot;Multiply&quot;</td><td>5760</td><td>0.068811</td><td>32.567855</td></tr><tr><td>&quot;IsNot&quot;</td><td>5631</td><td>0.06727</td><td>19.069556</td></tr><tr><td>&quot;In&quot;</td><td>5394</td><td>0.064438</td><td>17.98337</td></tr><tr><td>&quot;Or&quot;</td><td>5033</td><td>0.060126</td><td>22.798506</td></tr><tr><td>&quot;Subtract&quot;</td><td>4752</td><td>0.056769</td><td>39.626028</td></tr><tr><td>&quot;NotEqual&quot;</td><td>4505</td><td>0.053818</td><td>19.484909</td></tr><tr><td>&quot;ListComprehens…</td><td>3520</td><td>0.042051</td><td>21.303372</td></tr><tr><td>&quot;GreaterThan&quot;</td><td>3352</td><td>0.040044</td><td>25.03184</td></tr><tr><td>&quot;LessThan&quot;</td><td>3313</td><td>0.039578</td><td>24.417649</td></tr><tr><td>&quot;While&quot;</td><td>3295</td><td>0.039363</td><td>15.513347</td></tr><tr><td>&quot;Yield&quot;</td><td>2921</td><td>0.034895</td><td>48.664443</td></tr><tr><td>&quot;Lambda&quot;</td><td>2791</td><td>0.033342</td><td>32.981848</td></tr><tr><td>&quot;NotIn&quot;</td><td>2721</td><td>0.032506</td><td>19.731146</td></tr><tr><td>&quot;Assert&quot;</td><td>2717</td><td>0.032458</td><td>129.714753</td></tr><tr><td>&quot;GeneratorExpre…</td><td>2518</td><td>0.030081</td><td>24.036007</td></tr><tr><td>&quot;Break&quot;</td><td>2456</td><td>0.02934</td><td>16.027284</td></tr><tr><td>&quot;GreaterThanEqu…</td><td>2229</td><td>0.026628</td><td>27.740123</td></tr><tr><td>&quot;Continue&quot;</td><td>2168</td><td>0.0259</td><td>19.106696</td></tr><tr><td>&quot;Divide&quot;</td><td>1983</td><td>0.023689</td><td>81.892586</td></tr><tr><td>&quot;LessThanEqual&quot;</td><td>1876</td><td>0.022411</td><td>29.554642</td></tr><tr><td>&quot;Await&quot;</td><td>1578</td><td>0.018851</td><td>55.415556</td></tr><tr><td>&quot;BitOr&quot;</td><td>1479</td><td>0.017669</td><td>86.397118</td></tr><tr><td>&quot;Power&quot;</td><td>1278</td><td>0.015267</td><td>56.803603</td></tr><tr><td>&quot;FloorDivide&quot;</td><td>1041</td><td>0.012436</td><td>32.37501</td></tr><tr><td>&quot;BitAnd&quot;</td><td>1036</td><td>0.012376</td><td>31.538594</td></tr><tr><td>&quot;Nonlocal&quot;</td><td>953</td><td>0.011385</td><td>38.400513</td></tr><tr><td>&quot;LeftShift&quot;</td><td>739</td><td>0.008828</td><td>60.129356</td></tr><tr><td>&quot;Global&quot;</td><td>545</td><td>0.006511</td><td>31.459999</td></tr><tr><td>&quot;DictComprehens…</td><td>501</td><td>0.005985</td><td>44.736285</td></tr><tr><td>&quot;RightShift&quot;</td><td>296</td><td>0.003536</td><td>128.478887</td></tr><tr><td>&quot;SetComprehensi…</td><td>260</td><td>0.003106</td><td>37.665228</td></tr><tr><td>&quot;BitInvert&quot;</td><td>243</td><td>0.002903</td><td>96.55728</td></tr><tr><td>&quot;BitXor&quot;</td><td>221</td><td>0.00264</td><td>53.749248</td></tr><tr><td>&quot;MatrixMultiply…</td><td>32</td><td>0.000382</td><td>58.910974</td></tr><tr><td>&quot;BaseCompoundSt…</td><td>0</td><td>0.0</td><td>NaN</td></tr><tr><td>&quot;UnaryMinus&quot;</td><td>0</td><td>0.0</td><td>NaN</td></tr><tr><td>&quot;UnaryPlus&quot;</td><td>0</td><td>0.0</td><td>NaN</td></tr><tr><td>&quot;AddAssign&quot;</td><td>0</td><td>0.0</td><td>NaN</td></tr><tr><td>&quot;SubtractAssign…</td><td>0</td><td>0.0</td><td>NaN</td></tr><tr><td>&quot;MultiplyAssign…</td><td>0</td><td>0.0</td><td>NaN</td></tr><tr><td>&quot;DivideAssign&quot;</td><td>0</td><td>0.0</td><td>NaN</td></tr><tr><td>&quot;ModuloAssign&quot;</td><td>0</td><td>0.0</td><td>NaN</td></tr><tr><td>&quot;AndAssign&quot;</td><td>0</td><td>0.0</td><td>NaN</td></tr><tr><td>&quot;OrAssign&quot;</td><td>0</td><td>0.0</td><td>NaN</td></tr><tr><td>&quot;XorAssign&quot;</td><td>0</td><td>0.0</td><td>NaN</td></tr><tr><td>&quot;LeftShiftAssig…</td><td>0</td><td>0.0</td><td>NaN</td></tr><tr><td>&quot;RightShiftAssi…</td><td>0</td><td>0.0</td><td>NaN</td></tr><tr><td>&quot;PowerAssign&quot;</td><td>0</td><td>0.0</td><td>NaN</td></tr><tr><td>&quot;FloorDivideAss…</td><td>0</td><td>0.0</td><td>NaN</td></tr><tr><td>&quot;MatrixMultiply…</td><td>0</td><td>0.0</td><td>NaN</td></tr></tbody></table></div>"
      ],
      "text/plain": [
       "shape: (69, 4)\n",
       "┌───────────────────────┬───────┬──────────────────┬────────────┐\n",
       "│ column                ┆ count ┆ prob_of_non_zero ┆ skew       │\n",
       "│ ---                   ┆ ---   ┆ ---              ┆ ---        │\n",
       "│ str                   ┆ i64   ┆ f64              ┆ f64        │\n",
       "╞═══════════════════════╪═══════╪══════════════════╪════════════╡\n",
       "│ Argument              ┆ 76483 ┆ 0.913688         ┆ 17.649019  │\n",
       "│ Dot                   ┆ 72534 ┆ 0.866512         ┆ 20.85085   │\n",
       "│ FunctionCall          ┆ 71261 ┆ 0.851305         ┆ 21.528681  │\n",
       "│ Comma                 ┆ 67827 ┆ 0.810281         ┆ 64.94071   │\n",
       "│ Return                ┆ 31313 ┆ 0.374074         ┆ 27.293962  │\n",
       "│ If                    ┆ 23618 ┆ 0.282147         ┆ 21.923819  │\n",
       "│ For                   ┆ 15322 ┆ 0.183041         ┆ 25.2805    │\n",
       "│ With                  ┆ 14078 ┆ 0.16818          ┆ 32.650432  │\n",
       "│ Add                   ┆ 12217 ┆ 0.145948         ┆ 25.193614  │\n",
       "│ Try                   ┆ 11118 ┆ 0.132819         ┆ 20.56014   │\n",
       "│ Equal                 ┆ 11102 ┆ 0.132628         ┆ 40.432047  │\n",
       "│ Raise                 ┆ 10480 ┆ 0.125197         ┆ 19.586741  │\n",
       "│ Pass                  ┆ 9859  ┆ 0.117778         ┆ 69.375286  │\n",
       "│ Not                   ┆ 9146  ┆ 0.109261         ┆ 16.044146  │\n",
       "│ Colon                 ┆ 8494  ┆ 0.101472         ┆ 29.078677  │\n",
       "│ Modulo                ┆ 7367  ┆ 0.088008         ┆ 21.574941  │\n",
       "│ Is                    ┆ 7225  ┆ 0.086312         ┆ 29.4543    │\n",
       "│ And                   ┆ 6762  ┆ 0.080781         ┆ 68.245393  │\n",
       "│ Import                ┆ 5818  ┆ 0.069504         ┆ 11.562671  │\n",
       "│ Multiply              ┆ 5760  ┆ 0.068811         ┆ 32.567855  │\n",
       "│ IsNot                 ┆ 5631  ┆ 0.06727          ┆ 19.069556  │\n",
       "│ In                    ┆ 5394  ┆ 0.064438         ┆ 17.98337   │\n",
       "│ Or                    ┆ 5033  ┆ 0.060126         ┆ 22.798506  │\n",
       "│ Subtract              ┆ 4752  ┆ 0.056769         ┆ 39.626028  │\n",
       "│ NotEqual              ┆ 4505  ┆ 0.053818         ┆ 19.484909  │\n",
       "│ ListComprehension     ┆ 3520  ┆ 0.042051         ┆ 21.303372  │\n",
       "│ GreaterThan           ┆ 3352  ┆ 0.040044         ┆ 25.03184   │\n",
       "│ LessThan              ┆ 3313  ┆ 0.039578         ┆ 24.417649  │\n",
       "│ While                 ┆ 3295  ┆ 0.039363         ┆ 15.513347  │\n",
       "│ Yield                 ┆ 2921  ┆ 0.034895         ┆ 48.664443  │\n",
       "│ Lambda                ┆ 2791  ┆ 0.033342         ┆ 32.981848  │\n",
       "│ NotIn                 ┆ 2721  ┆ 0.032506         ┆ 19.731146  │\n",
       "│ Assert                ┆ 2717  ┆ 0.032458         ┆ 129.714753 │\n",
       "│ GeneratorExpression   ┆ 2518  ┆ 0.030081         ┆ 24.036007  │\n",
       "│ Break                 ┆ 2456  ┆ 0.02934          ┆ 16.027284  │\n",
       "│ GreaterThanEqual      ┆ 2229  ┆ 0.026628         ┆ 27.740123  │\n",
       "│ Continue              ┆ 2168  ┆ 0.0259           ┆ 19.106696  │\n",
       "│ Divide                ┆ 1983  ┆ 0.023689         ┆ 81.892586  │\n",
       "│ LessThanEqual         ┆ 1876  ┆ 0.022411         ┆ 29.554642  │\n",
       "│ Await                 ┆ 1578  ┆ 0.018851         ┆ 55.415556  │\n",
       "│ BitOr                 ┆ 1479  ┆ 0.017669         ┆ 86.397118  │\n",
       "│ Power                 ┆ 1278  ┆ 0.015267         ┆ 56.803603  │\n",
       "│ FloorDivide           ┆ 1041  ┆ 0.012436         ┆ 32.37501   │\n",
       "│ BitAnd                ┆ 1036  ┆ 0.012376         ┆ 31.538594  │\n",
       "│ Nonlocal              ┆ 953   ┆ 0.011385         ┆ 38.400513  │\n",
       "│ LeftShift             ┆ 739   ┆ 0.008828         ┆ 60.129356  │\n",
       "│ Global                ┆ 545   ┆ 0.006511         ┆ 31.459999  │\n",
       "│ DictComprehension     ┆ 501   ┆ 0.005985         ┆ 44.736285  │\n",
       "│ RightShift            ┆ 296   ┆ 0.003536         ┆ 128.478887 │\n",
       "│ SetComprehension      ┆ 260   ┆ 0.003106         ┆ 37.665228  │\n",
       "│ BitInvert             ┆ 243   ┆ 0.002903         ┆ 96.55728   │\n",
       "│ BitXor                ┆ 221   ┆ 0.00264          ┆ 53.749248  │\n",
       "│ MatrixMultiply        ┆ 32    ┆ 0.000382         ┆ 58.910974  │\n",
       "│ BaseCompoundStatement ┆ 0     ┆ 0.0              ┆ NaN        │\n",
       "│ UnaryMinus            ┆ 0     ┆ 0.0              ┆ NaN        │\n",
       "│ UnaryPlus             ┆ 0     ┆ 0.0              ┆ NaN        │\n",
       "│ AddAssign             ┆ 0     ┆ 0.0              ┆ NaN        │\n",
       "│ SubtractAssign        ┆ 0     ┆ 0.0              ┆ NaN        │\n",
       "│ MultiplyAssign        ┆ 0     ┆ 0.0              ┆ NaN        │\n",
       "│ DivideAssign          ┆ 0     ┆ 0.0              ┆ NaN        │\n",
       "│ ModuloAssign          ┆ 0     ┆ 0.0              ┆ NaN        │\n",
       "│ AndAssign             ┆ 0     ┆ 0.0              ┆ NaN        │\n",
       "│ OrAssign              ┆ 0     ┆ 0.0              ┆ NaN        │\n",
       "│ XorAssign             ┆ 0     ┆ 0.0              ┆ NaN        │\n",
       "│ LeftShiftAssign       ┆ 0     ┆ 0.0              ┆ NaN        │\n",
       "│ RightShiftAssign      ┆ 0     ┆ 0.0              ┆ NaN        │\n",
       "│ PowerAssign           ┆ 0     ┆ 0.0              ┆ NaN        │\n",
       "│ FloorDivideAssign     ┆ 0     ┆ 0.0              ┆ NaN        │\n",
       "│ MatrixMultiplyAssign  ┆ 0     ┆ 0.0              ┆ NaN        │\n",
       "└───────────────────────┴───────┴──────────────────┴────────────┘"
      ]
     },
     "execution_count": 18,
     "metadata": {},
     "output_type": "execute_result"
    }
   ],
   "source": [
    "counts.sort(pl.col(\"prob_of_non_zero\"), descending=True)"
   ]
  },
  {
   "cell_type": "code",
   "execution_count": 31,
   "metadata": {},
   "outputs": [
    {
     "data": {
      "image/png": "[encoded data removed]",
      "text/plain": [
       "<Figure size 640x480 with 1 Axes>"
      ]
     },
     "metadata": {},
     "output_type": "display_data"
    },
    {
     "data": {
      "image/png": "[encoded data removed]",
      "text/plain": [
       "<Figure size 640x480 with 1 Axes>"
      ]
     },
     "metadata": {},
     "output_type": "display_data"
    },
    {
     "data": {
      "image/png": "[encoded data removed]",
      "text/plain": [
       "<Figure size 640x480 with 1 Axes>"
      ]
     },
     "metadata": {},
     "output_type": "display_data"
    },
    {
     "data": {
      "image/png": "[encoded data removed]",
      "text/plain": [
       "<Figure size 640x480 with 1 Axes>"
      ]
     },
     "metadata": {},
     "output_type": "display_data"
    },
    {
     "name": "stderr",
     "output_type": "stream",
     "text": [
      "Exception ignored in: <bound method IPythonKernel._clean_thread_parent_frames of <ipykernel.ipkernel.IPythonKernel object at 0x105812bd0>>\n",
      "Traceback (most recent call last):\n",
      "  File \"/Users/hk3user/.pyenv/versions/3.12.1/envs/pred_cst/lib/python3.12/site-packages/ipykernel/ipkernel.py\", line 770, in _clean_thread_parent_frames\n",
      "    def _clean_thread_parent_frames(\n",
      "\n",
      "KeyboardInterrupt: \n"
     ]
    }
   ],
   "source": [
    "import matplotlib.pyplot as plt\n",
    "index = [i for i in range(df.shape[0])]\n",
    "df = df.with_columns(pl.Series(name=\"index\", values=index))\n",
    "for col in df.columns:\n",
    "    if col in ['code_token_len', 'cst_tree_token_len']:\n",
    "        continue\n",
    "\n",
    "    if isinstance(df[col].dtype, pl.Int64):\n",
    "\n",
    "        \n",
    "        # Create a bar histogram\n",
    "        plt.figure()\n",
    "        plt.bar( df['index'],df[col])\n",
    "        plt.title(f'Histogram of {col}')\n",
    "        plt.xlabel(col)\n",
    "        plt.ylabel('Count')\n",
    "        plt.show()"
   ]
  },
  {
   "cell_type": "code",
   "execution_count": null,
   "metadata": {},
   "outputs": [],
   "source": []
  }
 ],
 "metadata": {
  "kernelspec": {
   "display_name": "pred_cst",
   "language": "python",
   "name": "python3"
  },
  "language_info": {
   "codemirror_mode": {
    "name": "ipython",
    "version": 3
   },
   "file_extension": ".py",
   "mimetype": "text/x-python",
   "name": "python",
   "nbconvert_exporter": "python",
   "pygments_lexer": "ipython3",
   "version": "3.12.1"
  }
 },
 "nbformat": 4,
 "nbformat_minor": 2
}
