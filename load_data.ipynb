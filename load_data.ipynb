{
 "cells": [
  {
   "cell_type": "code",
   "execution_count": 1,
   "metadata": {},
   "outputs": [],
   "source": [
    "import polars as pl\n",
    "from PredCST.utils.dataset_creation import create_dataset\n",
    "from typing import List, Tuple, Optional\n",
    "import cynde.functional as cf\n",
    "import math"
   ]
  },
  {
   "cell_type": "code",
   "execution_count": 2,
   "metadata": {},
   "outputs": [],
   "source": [
    "import os"
   ]
  },
  {
   "cell_type": "code",
   "execution_count": 3,
   "metadata": {},
   "outputs": [],
   "source": [
    "import polars as pl\n",
    "import math\n",
    "import time\n",
    "\n",
    "def create_dataset_tf(df: pl.DataFrame, ds_size, target_node, node_list):\n",
    "    start = time.time()\n",
    "    \n",
    "    df_ = df.drop(['type', 'code', 'type',\n",
    "        'cst_tree',\n",
    "        'file_name',\n",
    "        'modules',\n",
    "        'version',\n",
    "        'license',\n",
    "        'code_token_len',\n",
    "        'cst_tree_token_len',\n",
    "        'code_text-embedding-3-small_embedding',\n",
    "        'code_text-embedding-3-large_embedding',\n",
    "        'cst_tree_text-embedding-3-small_embedding'])\n",
    "    \n",
    "    print(f\"Time to drop columns: {time.time()-start}\")\n",
    "    second_start = time.time()\n",
    "    for column in df_.columns:\n",
    "        if isinstance(df_[column].dtype,pl.Int64) and column != 'index':\n",
    "            df_ = df_.with_columns((pl.col(column) > 0).alias(column))\n",
    "    print(f\"Time to change int64 to boolean: {time.time()-second_start}\")\n",
    "    fifty_percent = ds_size/2\n",
    "    third_start = time.time()\n",
    "    target_rows = df_.filter(pl.col(target_node)==True)\n",
    "    if target_rows.shape[0] >fifty_percent:\n",
    "        target_rows = target_rows.sample(fifty_percent)\n",
    "\n",
    "    other = df_.filter(pl.col(target_node)==False)\n",
    "    \n",
    "    node_list = node_list.filter(pl.col(\"column\") != target_node)\n",
    "    k_other = node_list.select(pl.col(\"column\")).unique()\n",
    "    print(f\"Time to filter target and other: {time.time()-third_start}\")\n",
    "    k = len(k_other)\n",
    "    per_sample = math.floor(fifty_percent/k)\n",
    "    fourth_start = time.time()\n",
    "    without = []\n",
    "    for o_node in k_other['column'].to_list():\n",
    "        temp = other.filter(pl.col(o_node)==True)\n",
    "        try:\n",
    "            temp = temp.sample(per_sample)\n",
    "            without.append(temp)\n",
    "        except:\n",
    "            without.append(temp)\n",
    "            continue\n",
    "    print(f\"Time to filter other nodes in for loop: {time.time()-fourth_start}\")\n",
    "    train = pl.concat([target_rows] + without)\n",
    "    test = df_.join(train, on=\"index\", how=\"anti\")\n",
    "    train_indexes = train['index'].to_list()\n",
    "    test_indexes = test['index'].to_list()\n",
    "    print(f\"Time to join train and test: {time.time()-fourth_start}\")\n",
    "    fifth_start = time.time()\n",
    "    train = df.filter(pl.col(\"index\").is_in(train_indexes))\n",
    "    test = df.filter(pl.col(\"index\").is_in(test_indexes))\n",
    "    print(f\"Time to filter train and test: {time.time()-fifth_start}\")\n",
    "    \n",
    "\n",
    "    return train, test"
   ]
  },
  {
   "cell_type": "code",
   "execution_count": 4,
   "metadata": {},
   "outputs": [],
   "source": [
    "data_url = r\"C:\\Users\\Tommaso\\Documents\\Dev\\PredCST\\python_3_12_1_standard_lib_all_with_counts.parquet\""
   ]
  },
  {
   "cell_type": "code",
   "execution_count": 5,
   "metadata": {},
   "outputs": [],
   "source": [
    "df = pl.read_parquet(data_url)\n",
    "df = df.with_row_index()\n"
   ]
  },
  {
   "cell_type": "code",
   "execution_count": 6,
   "metadata": {},
   "outputs": [],
   "source": [
    "node_cols = df.columns[13:]\n",
    "embeddings_col = [col for col in df.columns if \"embedding\" in col]\n",
    "index = df.columns[0]"
   ]
  },
  {
   "cell_type": "code",
   "execution_count": 7,
   "metadata": {},
   "outputs": [],
   "source": [
    "def booleanize_nodes(df: pl.DataFrame, node_columns : List[str]) -> pl.DataFrame:\n",
    "    expression= [pl.col(col) > 0 for col in node_columns]\n",
    "    return df.with_columns(expression)\n",
    "\n",
    "def divide_df_by_target(df: pl.DataFrame,target:str) -> Tuple[pl.DataFrame, pl.DataFrame]:\n",
    "    if target not in df.columns:\n",
    "        raise ValueError(f\"Target {target} not in columns\")\n",
    "    print(f\"Total rows: {df.shape[0]}\")\n",
    "    target_rows = df.filter(pl.col(target)==True)\n",
    "    other = df.filter(pl.col(target)==False)\n",
    "    print(f\"Target {target} rows: {target_rows.shape[0]}\")\n",
    "    print(f\"Other rows: {other.shape[0]}\")\n",
    "    return target_rows, other\n",
    "\n",
    "def remove_empty_nodes(df: pl.DataFrame, node_columns: List[str]) -> pl.DataFrame:\n",
    "    zero_cols = [col for col in node_columns if df[col].sum() == 0]\n",
    "    return df.drop(zero_cols), zero_cols\n",
    "\n",
    "def resample_dataset(df:pl.DataFrame,df_target: pl.DataFrame, df_other:pl.DataFrame, size: int = math.inf) -> pl.DataFrame:\n",
    "    size_target,size_other = [df_target.shape[0], df_other.shape[0]]\n",
    "    min_size = min(size_target, size_other,size)\n",
    "    df_index = sample_dataset_index(df_target, df_other, min_size)\n",
    "    # df_target.vstack(df_other).filter(pl.col(\"index\").is_in(df_index[\"index\"]))\n",
    "    return df.filter(pl.col(\"cv_index\").is_in(df_index[\"cv_index\"]))\n",
    "\n",
    "def sample_dataset_index(df_target: pl.DataFrame, df_other:pl.DataFrame, size: int = math.inf) -> pl.DataFrame:\n",
    "    size_target,size_other = [df_target.shape[0], df_other.shape[0]]\n",
    "    min_size = min(size_target, size_other,size)\n",
    "    return df_target.select(pl.col(\"cv_index\")).sample(min_size).vstack(df_other.select(pl.col(\"cv_index\")).sample(min_size))\n",
    "\n",
    "def prepare_boolean_dataset(df: pl.DataFrame, node_columns: List[str],type:str = \"function\") ->Tuple[pl.DataFrame, List[str]]:\n",
    "    if type not in [\"module\", \"class\", \"function\"]:\n",
    "        raise ValueError(f\"Type {type} not in ['module', 'class', 'function']\")\n",
    "    df_no_emb = df.drop(embeddings_col)\n",
    "    df_ = df_no_emb.filter(pl.col(\"type\") == type)\n",
    "    df_fb = booleanize_nodes(df_, node_cols)\n",
    "    df_f_ne, empty_cols = remove_empty_nodes(df_fb, node_cols)\n",
    "    return df_f_ne, empty_cols\n",
    "   \n",
    "def get_dataset_target(bool_ne_df: pl.DataFrame, target: str) -> pl.DataFrame: \n",
    "    df_target , df_other = divide_df_by_target(bool_ne_df, target)\n",
    "    return resample_dataset(bool_ne_df, df_target, df_other)\n",
    "\n",
    "def vanilla_resample_kfold(df:pl.DataFrame,target_group:List[str],k:int, size:int = math.inf):\n",
    "    target = target_group[0]\n",
    "    df =cf.check_add_cv_index(df)\n",
    "    df_only_target = df.select(pl.col([\"cv_index\",target]))\n",
    "    df_target, df_other = divide_df_by_target(df_only_target, target)\n",
    "    df_resampled = resample_dataset(df_only_target, df_target, df_other, size)\n",
    "    index_df =cf.stratified_kfold(df_resampled, target_group,k,pre_name=f\"resampled_by_{target}_\")\n",
    "    return index_df\n",
    "    \n",
    "\n",
    "\n",
    "    "
   ]
  },
  {
   "cell_type": "code",
   "execution_count": 8,
   "metadata": {},
   "outputs": [],
   "source": [
    "df_no_emb = df.drop(embeddings_col)"
   ]
  },
  {
   "cell_type": "code",
   "execution_count": 9,
   "metadata": {},
   "outputs": [],
   "source": [
    "df_m = df_no_emb.filter(pl.col(\"type\") == \"module\")\n",
    "df_c = df_no_emb.filter(pl.col(\"type\") == \"class\")\n",
    "df_f = df_no_emb.filter(pl.col(\"type\") == \"function\")\n"
   ]
  },
  {
   "cell_type": "code",
   "execution_count": 10,
   "metadata": {},
   "outputs": [
    {
     "data": {
      "text/plain": [
       "(64403, 63)"
      ]
     },
     "execution_count": 10,
     "metadata": {},
     "output_type": "execute_result"
    }
   ],
   "source": [
    "df_fb = booleanize_nodes(df_f, node_cols)\n",
    "df_f_ne, empty_cols = remove_empty_nodes(df_fb, node_cols)\n",
    "df_f_ne.shape"
   ]
  },
  {
   "cell_type": "code",
   "execution_count": 11,
   "metadata": {},
   "outputs": [
    {
     "name": "stdout",
     "output_type": "stream",
     "text": [
      "cv_type: resample\n",
      "cv_type: stratified\n",
      "Total rows: 64403\n",
      "Target If rows: 15654\n",
      "Other rows: 48749\n",
      "Total rows: 64403\n",
      "Target If rows: 15654\n",
      "Other rows: 48749\n",
      "Total rows: 64403\n",
      "Target If rows: 15654\n",
      "Other rows: 48749\n",
      "Total rows: 64403\n",
      "Target If rows: 15654\n",
      "Other rows: 48749\n",
      "Total rows: 64403\n",
      "Target If rows: 15654\n",
      "Other rows: 48749\n"
     ]
    }
   ],
   "source": [
    "out = cf.nested_cv(df_f_ne, (\"resample\",\"stratified\"),[\"If\"],5,[\"If\"],5,5,5)"
   ]
  },
  {
   "cell_type": "code",
   "execution_count": 12,
   "metadata": {},
   "outputs": [
    {
     "data": {
      "text/html": [
       "<div><style>\n",
       ".dataframe > thead > tr,\n",
       ".dataframe > tbody > tr {\n",
       "  text-align: right;\n",
       "  white-space: pre-wrap;\n",
       "}\n",
       "</style>\n",
       "<small>shape: (1, 652)</small><table border=\"1\" class=\"dataframe\"><thead><tr><th>cv_index</th><th>If</th><th>outer_resample_If_replica_0_fold_0</th><th>outer_resample_If_replica_0_fold_1</th><th>outer_resample_If_replica_0_fold_2</th><th>outer_resample_If_replica_0_fold_3</th><th>outer_resample_If_replica_0_fold_4</th><th>outer_resample_If_replica_0_fold_0_inner_stratified_If_replica_0_fold_0</th><th>outer_resample_If_replica_0_fold_0_inner_stratified_If_replica_0_fold_1</th><th>outer_resample_If_replica_0_fold_0_inner_stratified_If_replica_0_fold_2</th><th>outer_resample_If_replica_0_fold_0_inner_stratified_If_replica_0_fold_3</th><th>outer_resample_If_replica_0_fold_0_inner_stratified_If_replica_0_fold_4</th><th>outer_resample_If_replica_0_fold_0_inner_stratified_If_replica_1_fold_0</th><th>outer_resample_If_replica_0_fold_0_inner_stratified_If_replica_1_fold_1</th><th>outer_resample_If_replica_0_fold_0_inner_stratified_If_replica_1_fold_2</th><th>outer_resample_If_replica_0_fold_0_inner_stratified_If_replica_1_fold_3</th><th>outer_resample_If_replica_0_fold_0_inner_stratified_If_replica_1_fold_4</th><th>outer_resample_If_replica_0_fold_0_inner_stratified_If_replica_2_fold_0</th><th>outer_resample_If_replica_0_fold_0_inner_stratified_If_replica_2_fold_1</th><th>outer_resample_If_replica_0_fold_0_inner_stratified_If_replica_2_fold_2</th><th>outer_resample_If_replica_0_fold_0_inner_stratified_If_replica_2_fold_3</th><th>outer_resample_If_replica_0_fold_0_inner_stratified_If_replica_2_fold_4</th><th>outer_resample_If_replica_0_fold_0_inner_stratified_If_replica_3_fold_0</th><th>outer_resample_If_replica_0_fold_0_inner_stratified_If_replica_3_fold_1</th><th>outer_resample_If_replica_0_fold_0_inner_stratified_If_replica_3_fold_2</th><th>outer_resample_If_replica_0_fold_0_inner_stratified_If_replica_3_fold_3</th><th>outer_resample_If_replica_0_fold_0_inner_stratified_If_replica_3_fold_4</th><th>outer_resample_If_replica_0_fold_0_inner_stratified_If_replica_4_fold_0</th><th>outer_resample_If_replica_0_fold_0_inner_stratified_If_replica_4_fold_1</th><th>outer_resample_If_replica_0_fold_0_inner_stratified_If_replica_4_fold_2</th><th>outer_resample_If_replica_0_fold_0_inner_stratified_If_replica_4_fold_3</th><th>outer_resample_If_replica_0_fold_0_inner_stratified_If_replica_4_fold_4</th><th>outer_resample_If_replica_0_fold_1_inner_stratified_If_replica_0_fold_0</th><th>outer_resample_If_replica_0_fold_1_inner_stratified_If_replica_0_fold_1</th><th>outer_resample_If_replica_0_fold_1_inner_stratified_If_replica_0_fold_2</th><th>outer_resample_If_replica_0_fold_1_inner_stratified_If_replica_0_fold_3</th><th>outer_resample_If_replica_0_fold_1_inner_stratified_If_replica_0_fold_4</th><th>&hellip;</th><th>outer_resample_If_replica_4_fold_3_inner_stratified_If_replica_2_fold_3</th><th>outer_resample_If_replica_4_fold_3_inner_stratified_If_replica_2_fold_4</th><th>outer_resample_If_replica_4_fold_3_inner_stratified_If_replica_3_fold_0</th><th>outer_resample_If_replica_4_fold_3_inner_stratified_If_replica_3_fold_1</th><th>outer_resample_If_replica_4_fold_3_inner_stratified_If_replica_3_fold_2</th><th>outer_resample_If_replica_4_fold_3_inner_stratified_If_replica_3_fold_3</th><th>outer_resample_If_replica_4_fold_3_inner_stratified_If_replica_3_fold_4</th><th>outer_resample_If_replica_4_fold_3_inner_stratified_If_replica_4_fold_0</th><th>outer_resample_If_replica_4_fold_3_inner_stratified_If_replica_4_fold_1</th><th>outer_resample_If_replica_4_fold_3_inner_stratified_If_replica_4_fold_2</th><th>outer_resample_If_replica_4_fold_3_inner_stratified_If_replica_4_fold_3</th><th>outer_resample_If_replica_4_fold_3_inner_stratified_If_replica_4_fold_4</th><th>outer_resample_If_replica_4_fold_4_inner_stratified_If_replica_0_fold_0</th><th>outer_resample_If_replica_4_fold_4_inner_stratified_If_replica_0_fold_1</th><th>outer_resample_If_replica_4_fold_4_inner_stratified_If_replica_0_fold_2</th><th>outer_resample_If_replica_4_fold_4_inner_stratified_If_replica_0_fold_3</th><th>outer_resample_If_replica_4_fold_4_inner_stratified_If_replica_0_fold_4</th><th>outer_resample_If_replica_4_fold_4_inner_stratified_If_replica_1_fold_0</th><th>outer_resample_If_replica_4_fold_4_inner_stratified_If_replica_1_fold_1</th><th>outer_resample_If_replica_4_fold_4_inner_stratified_If_replica_1_fold_2</th><th>outer_resample_If_replica_4_fold_4_inner_stratified_If_replica_1_fold_3</th><th>outer_resample_If_replica_4_fold_4_inner_stratified_If_replica_1_fold_4</th><th>outer_resample_If_replica_4_fold_4_inner_stratified_If_replica_2_fold_0</th><th>outer_resample_If_replica_4_fold_4_inner_stratified_If_replica_2_fold_1</th><th>outer_resample_If_replica_4_fold_4_inner_stratified_If_replica_2_fold_2</th><th>outer_resample_If_replica_4_fold_4_inner_stratified_If_replica_2_fold_3</th><th>outer_resample_If_replica_4_fold_4_inner_stratified_If_replica_2_fold_4</th><th>outer_resample_If_replica_4_fold_4_inner_stratified_If_replica_3_fold_0</th><th>outer_resample_If_replica_4_fold_4_inner_stratified_If_replica_3_fold_1</th><th>outer_resample_If_replica_4_fold_4_inner_stratified_If_replica_3_fold_2</th><th>outer_resample_If_replica_4_fold_4_inner_stratified_If_replica_3_fold_3</th><th>outer_resample_If_replica_4_fold_4_inner_stratified_If_replica_3_fold_4</th><th>outer_resample_If_replica_4_fold_4_inner_stratified_If_replica_4_fold_0</th><th>outer_resample_If_replica_4_fold_4_inner_stratified_If_replica_4_fold_1</th><th>outer_resample_If_replica_4_fold_4_inner_stratified_If_replica_4_fold_2</th><th>outer_resample_If_replica_4_fold_4_inner_stratified_If_replica_4_fold_3</th><th>outer_resample_If_replica_4_fold_4_inner_stratified_If_replica_4_fold_4</th></tr><tr><td>u32</td><td>u32</td><td>u32</td><td>u32</td><td>u32</td><td>u32</td><td>u32</td><td>u32</td><td>u32</td><td>u32</td><td>u32</td><td>u32</td><td>u32</td><td>u32</td><td>u32</td><td>u32</td><td>u32</td><td>u32</td><td>u32</td><td>u32</td><td>u32</td><td>u32</td><td>u32</td><td>u32</td><td>u32</td><td>u32</td><td>u32</td><td>u32</td><td>u32</td><td>u32</td><td>u32</td><td>u32</td><td>u32</td><td>u32</td><td>u32</td><td>u32</td><td>u32</td><td>&hellip;</td><td>u32</td><td>u32</td><td>u32</td><td>u32</td><td>u32</td><td>u32</td><td>u32</td><td>u32</td><td>u32</td><td>u32</td><td>u32</td><td>u32</td><td>u32</td><td>u32</td><td>u32</td><td>u32</td><td>u32</td><td>u32</td><td>u32</td><td>u32</td><td>u32</td><td>u32</td><td>u32</td><td>u32</td><td>u32</td><td>u32</td><td>u32</td><td>u32</td><td>u32</td><td>u32</td><td>u32</td><td>u32</td><td>u32</td><td>u32</td><td>u32</td><td>u32</td><td>u32</td></tr></thead><tbody><tr><td>0</td><td>0</td><td>33095</td><td>33095</td><td>33095</td><td>33095</td><td>33095</td><td>33095</td><td>33095</td><td>33095</td><td>33095</td><td>33095</td><td>33095</td><td>33095</td><td>33095</td><td>33095</td><td>33095</td><td>33095</td><td>33095</td><td>33095</td><td>33095</td><td>33095</td><td>33095</td><td>33095</td><td>33095</td><td>33095</td><td>33095</td><td>33095</td><td>33095</td><td>33095</td><td>33095</td><td>33095</td><td>33095</td><td>33095</td><td>33095</td><td>33095</td><td>33095</td><td>&hellip;</td><td>33095</td><td>33095</td><td>33095</td><td>33095</td><td>33095</td><td>33095</td><td>33095</td><td>33095</td><td>33095</td><td>33095</td><td>33095</td><td>33095</td><td>33095</td><td>33095</td><td>33095</td><td>33095</td><td>33095</td><td>33095</td><td>33095</td><td>33095</td><td>33095</td><td>33095</td><td>33095</td><td>33095</td><td>33095</td><td>33095</td><td>33095</td><td>33095</td><td>33095</td><td>33095</td><td>33095</td><td>33095</td><td>33095</td><td>33095</td><td>33095</td><td>33095</td><td>33095</td></tr></tbody></table></div>"
      ],
      "text/plain": [
       "shape: (1, 652)\n",
       "┌──────────┬─────┬────────────┬────────────┬───┬────────────┬────────────┬────────────┬────────────┐\n",
       "│ cv_index ┆ If  ┆ outer_resa ┆ outer_resa ┆ … ┆ outer_resa ┆ outer_resa ┆ outer_resa ┆ outer_resa │\n",
       "│ ---      ┆ --- ┆ mple_If_re ┆ mple_If_re ┆   ┆ mple_If_re ┆ mple_If_re ┆ mple_If_re ┆ mple_If_re │\n",
       "│ u32      ┆ u32 ┆ plica_0_fo ┆ plica_0_fo ┆   ┆ plica_4_fo ┆ plica_4_fo ┆ plica_4_fo ┆ plica_4_fo │\n",
       "│          ┆     ┆ ld…        ┆ ld…        ┆   ┆ ld…        ┆ ld…        ┆ ld…        ┆ ld…        │\n",
       "│          ┆     ┆ ---        ┆ ---        ┆   ┆ ---        ┆ ---        ┆ ---        ┆ ---        │\n",
       "│          ┆     ┆ u32        ┆ u32        ┆   ┆ u32        ┆ u32        ┆ u32        ┆ u32        │\n",
       "╞══════════╪═════╪════════════╪════════════╪═══╪════════════╪════════════╪════════════╪════════════╡\n",
       "│ 0        ┆ 0   ┆ 33095      ┆ 33095      ┆ … ┆ 33095      ┆ 33095      ┆ 33095      ┆ 33095      │\n",
       "└──────────┴─────┴────────────┴────────────┴───┴────────────┴────────────┴────────────┴────────────┘"
      ]
     },
     "execution_count": 12,
     "metadata": {},
     "output_type": "execute_result"
    }
   ],
   "source": [
    "out.null_count()"
   ]
  },
  {
   "cell_type": "code",
   "execution_count": 13,
   "metadata": {},
   "outputs": [
    {
     "data": {
      "text/html": [
       "<div><style>\n",
       ".dataframe > thead > tr,\n",
       ".dataframe > tbody > tr {\n",
       "  text-align: right;\n",
       "  white-space: pre-wrap;\n",
       "}\n",
       "</style>\n",
       "<small>shape: (1, 652)</small><table border=\"1\" class=\"dataframe\"><thead><tr><th>cv_index</th><th>If</th><th>outer_resample_If_replica_0_fold_0</th><th>outer_resample_If_replica_0_fold_1</th><th>outer_resample_If_replica_0_fold_2</th><th>outer_resample_If_replica_0_fold_3</th><th>outer_resample_If_replica_0_fold_4</th><th>outer_resample_If_replica_0_fold_0_inner_stratified_If_replica_0_fold_0</th><th>outer_resample_If_replica_0_fold_0_inner_stratified_If_replica_0_fold_1</th><th>outer_resample_If_replica_0_fold_0_inner_stratified_If_replica_0_fold_2</th><th>outer_resample_If_replica_0_fold_0_inner_stratified_If_replica_0_fold_3</th><th>outer_resample_If_replica_0_fold_0_inner_stratified_If_replica_0_fold_4</th><th>outer_resample_If_replica_0_fold_0_inner_stratified_If_replica_1_fold_0</th><th>outer_resample_If_replica_0_fold_0_inner_stratified_If_replica_1_fold_1</th><th>outer_resample_If_replica_0_fold_0_inner_stratified_If_replica_1_fold_2</th><th>outer_resample_If_replica_0_fold_0_inner_stratified_If_replica_1_fold_3</th><th>outer_resample_If_replica_0_fold_0_inner_stratified_If_replica_1_fold_4</th><th>outer_resample_If_replica_0_fold_0_inner_stratified_If_replica_2_fold_0</th><th>outer_resample_If_replica_0_fold_0_inner_stratified_If_replica_2_fold_1</th><th>outer_resample_If_replica_0_fold_0_inner_stratified_If_replica_2_fold_2</th><th>outer_resample_If_replica_0_fold_0_inner_stratified_If_replica_2_fold_3</th><th>outer_resample_If_replica_0_fold_0_inner_stratified_If_replica_2_fold_4</th><th>outer_resample_If_replica_0_fold_0_inner_stratified_If_replica_3_fold_0</th><th>outer_resample_If_replica_0_fold_0_inner_stratified_If_replica_3_fold_1</th><th>outer_resample_If_replica_0_fold_0_inner_stratified_If_replica_3_fold_2</th><th>outer_resample_If_replica_0_fold_0_inner_stratified_If_replica_3_fold_3</th><th>outer_resample_If_replica_0_fold_0_inner_stratified_If_replica_3_fold_4</th><th>outer_resample_If_replica_0_fold_0_inner_stratified_If_replica_4_fold_0</th><th>outer_resample_If_replica_0_fold_0_inner_stratified_If_replica_4_fold_1</th><th>outer_resample_If_replica_0_fold_0_inner_stratified_If_replica_4_fold_2</th><th>outer_resample_If_replica_0_fold_0_inner_stratified_If_replica_4_fold_3</th><th>outer_resample_If_replica_0_fold_0_inner_stratified_If_replica_4_fold_4</th><th>outer_resample_If_replica_0_fold_1_inner_stratified_If_replica_0_fold_0</th><th>outer_resample_If_replica_0_fold_1_inner_stratified_If_replica_0_fold_1</th><th>outer_resample_If_replica_0_fold_1_inner_stratified_If_replica_0_fold_2</th><th>outer_resample_If_replica_0_fold_1_inner_stratified_If_replica_0_fold_3</th><th>outer_resample_If_replica_0_fold_1_inner_stratified_If_replica_0_fold_4</th><th>&hellip;</th><th>outer_resample_If_replica_4_fold_3_inner_stratified_If_replica_2_fold_3</th><th>outer_resample_If_replica_4_fold_3_inner_stratified_If_replica_2_fold_4</th><th>outer_resample_If_replica_4_fold_3_inner_stratified_If_replica_3_fold_0</th><th>outer_resample_If_replica_4_fold_3_inner_stratified_If_replica_3_fold_1</th><th>outer_resample_If_replica_4_fold_3_inner_stratified_If_replica_3_fold_2</th><th>outer_resample_If_replica_4_fold_3_inner_stratified_If_replica_3_fold_3</th><th>outer_resample_If_replica_4_fold_3_inner_stratified_If_replica_3_fold_4</th><th>outer_resample_If_replica_4_fold_3_inner_stratified_If_replica_4_fold_0</th><th>outer_resample_If_replica_4_fold_3_inner_stratified_If_replica_4_fold_1</th><th>outer_resample_If_replica_4_fold_3_inner_stratified_If_replica_4_fold_2</th><th>outer_resample_If_replica_4_fold_3_inner_stratified_If_replica_4_fold_3</th><th>outer_resample_If_replica_4_fold_3_inner_stratified_If_replica_4_fold_4</th><th>outer_resample_If_replica_4_fold_4_inner_stratified_If_replica_0_fold_0</th><th>outer_resample_If_replica_4_fold_4_inner_stratified_If_replica_0_fold_1</th><th>outer_resample_If_replica_4_fold_4_inner_stratified_If_replica_0_fold_2</th><th>outer_resample_If_replica_4_fold_4_inner_stratified_If_replica_0_fold_3</th><th>outer_resample_If_replica_4_fold_4_inner_stratified_If_replica_0_fold_4</th><th>outer_resample_If_replica_4_fold_4_inner_stratified_If_replica_1_fold_0</th><th>outer_resample_If_replica_4_fold_4_inner_stratified_If_replica_1_fold_1</th><th>outer_resample_If_replica_4_fold_4_inner_stratified_If_replica_1_fold_2</th><th>outer_resample_If_replica_4_fold_4_inner_stratified_If_replica_1_fold_3</th><th>outer_resample_If_replica_4_fold_4_inner_stratified_If_replica_1_fold_4</th><th>outer_resample_If_replica_4_fold_4_inner_stratified_If_replica_2_fold_0</th><th>outer_resample_If_replica_4_fold_4_inner_stratified_If_replica_2_fold_1</th><th>outer_resample_If_replica_4_fold_4_inner_stratified_If_replica_2_fold_2</th><th>outer_resample_If_replica_4_fold_4_inner_stratified_If_replica_2_fold_3</th><th>outer_resample_If_replica_4_fold_4_inner_stratified_If_replica_2_fold_4</th><th>outer_resample_If_replica_4_fold_4_inner_stratified_If_replica_3_fold_0</th><th>outer_resample_If_replica_4_fold_4_inner_stratified_If_replica_3_fold_1</th><th>outer_resample_If_replica_4_fold_4_inner_stratified_If_replica_3_fold_2</th><th>outer_resample_If_replica_4_fold_4_inner_stratified_If_replica_3_fold_3</th><th>outer_resample_If_replica_4_fold_4_inner_stratified_If_replica_3_fold_4</th><th>outer_resample_If_replica_4_fold_4_inner_stratified_If_replica_4_fold_0</th><th>outer_resample_If_replica_4_fold_4_inner_stratified_If_replica_4_fold_1</th><th>outer_resample_If_replica_4_fold_4_inner_stratified_If_replica_4_fold_2</th><th>outer_resample_If_replica_4_fold_4_inner_stratified_If_replica_4_fold_3</th><th>outer_resample_If_replica_4_fold_4_inner_stratified_If_replica_4_fold_4</th></tr><tr><td>u32</td><td>u32</td><td>u32</td><td>u32</td><td>u32</td><td>u32</td><td>u32</td><td>u32</td><td>u32</td><td>u32</td><td>u32</td><td>u32</td><td>u32</td><td>u32</td><td>u32</td><td>u32</td><td>u32</td><td>u32</td><td>u32</td><td>u32</td><td>u32</td><td>u32</td><td>u32</td><td>u32</td><td>u32</td><td>u32</td><td>u32</td><td>u32</td><td>u32</td><td>u32</td><td>u32</td><td>u32</td><td>u32</td><td>u32</td><td>u32</td><td>u32</td><td>u32</td><td>&hellip;</td><td>u32</td><td>u32</td><td>u32</td><td>u32</td><td>u32</td><td>u32</td><td>u32</td><td>u32</td><td>u32</td><td>u32</td><td>u32</td><td>u32</td><td>u32</td><td>u32</td><td>u32</td><td>u32</td><td>u32</td><td>u32</td><td>u32</td><td>u32</td><td>u32</td><td>u32</td><td>u32</td><td>u32</td><td>u32</td><td>u32</td><td>u32</td><td>u32</td><td>u32</td><td>u32</td><td>u32</td><td>u32</td><td>u32</td><td>u32</td><td>u32</td><td>u32</td><td>u32</td></tr></thead><tbody><tr><td>0</td><td>0</td><td>33095</td><td>33095</td><td>33095</td><td>33095</td><td>33095</td><td>33095</td><td>33095</td><td>33095</td><td>33095</td><td>33095</td><td>33095</td><td>33095</td><td>33095</td><td>33095</td><td>33095</td><td>33095</td><td>33095</td><td>33095</td><td>33095</td><td>33095</td><td>33095</td><td>33095</td><td>33095</td><td>33095</td><td>33095</td><td>33095</td><td>33095</td><td>33095</td><td>33095</td><td>33095</td><td>33095</td><td>33095</td><td>33095</td><td>33095</td><td>33095</td><td>&hellip;</td><td>33095</td><td>33095</td><td>33095</td><td>33095</td><td>33095</td><td>33095</td><td>33095</td><td>33095</td><td>33095</td><td>33095</td><td>33095</td><td>33095</td><td>33095</td><td>33095</td><td>33095</td><td>33095</td><td>33095</td><td>33095</td><td>33095</td><td>33095</td><td>33095</td><td>33095</td><td>33095</td><td>33095</td><td>33095</td><td>33095</td><td>33095</td><td>33095</td><td>33095</td><td>33095</td><td>33095</td><td>33095</td><td>33095</td><td>33095</td><td>33095</td><td>33095</td><td>33095</td></tr></tbody></table></div>"
      ],
      "text/plain": [
       "shape: (1, 652)\n",
       "┌──────────┬─────┬────────────┬────────────┬───┬────────────┬────────────┬────────────┬────────────┐\n",
       "│ cv_index ┆ If  ┆ outer_resa ┆ outer_resa ┆ … ┆ outer_resa ┆ outer_resa ┆ outer_resa ┆ outer_resa │\n",
       "│ ---      ┆ --- ┆ mple_If_re ┆ mple_If_re ┆   ┆ mple_If_re ┆ mple_If_re ┆ mple_If_re ┆ mple_If_re │\n",
       "│ u32      ┆ u32 ┆ plica_0_fo ┆ plica_0_fo ┆   ┆ plica_4_fo ┆ plica_4_fo ┆ plica_4_fo ┆ plica_4_fo │\n",
       "│          ┆     ┆ ld…        ┆ ld…        ┆   ┆ ld…        ┆ ld…        ┆ ld…        ┆ ld…        │\n",
       "│          ┆     ┆ ---        ┆ ---        ┆   ┆ ---        ┆ ---        ┆ ---        ┆ ---        │\n",
       "│          ┆     ┆ u32        ┆ u32        ┆   ┆ u32        ┆ u32        ┆ u32        ┆ u32        │\n",
       "╞══════════╪═════╪════════════╪════════════╪═══╪════════════╪════════════╪════════════╪════════════╡\n",
       "│ 0        ┆ 0   ┆ 33095      ┆ 33095      ┆ … ┆ 33095      ┆ 33095      ┆ 33095      ┆ 33095      │\n",
       "└──────────┴─────┴────────────┴────────────┴───┴────────────┴────────────┴────────────┴────────────┘"
      ]
     },
     "execution_count": 13,
     "metadata": {},
     "output_type": "execute_result"
    }
   ],
   "source": [
    "out.null_count()"
   ]
  },
  {
   "cell_type": "code",
   "execution_count": 14,
   "metadata": {},
   "outputs": [
    {
     "data": {
      "text/html": [
       "<div><style>\n",
       ".dataframe > thead > tr,\n",
       ".dataframe > tbody > tr {\n",
       "  text-align: right;\n",
       "  white-space: pre-wrap;\n",
       "}\n",
       "</style>\n",
       "<small>shape: (3, 2)</small><table border=\"1\" class=\"dataframe\"><thead><tr><th>outer_resample_If_replica_0_fold_0</th><th>count</th></tr><tr><td>str</td><td>u32</td></tr></thead><tbody><tr><td>null</td><td>33095</td></tr><tr><td>&quot;dev&quot;</td><td>25048</td></tr><tr><td>&quot;test&quot;</td><td>6260</td></tr></tbody></table></div>"
      ],
      "text/plain": [
       "shape: (3, 2)\n",
       "┌───────────────────────────────────┬───────┐\n",
       "│ outer_resample_If_replica_0_fold… ┆ count │\n",
       "│ ---                               ┆ ---   │\n",
       "│ str                               ┆ u32   │\n",
       "╞═══════════════════════════════════╪═══════╡\n",
       "│ null                              ┆ 33095 │\n",
       "│ dev                               ┆ 25048 │\n",
       "│ test                              ┆ 6260  │\n",
       "└───────────────────────────────────┴───────┘"
      ]
     },
     "execution_count": 14,
     "metadata": {},
     "output_type": "execute_result"
    }
   ],
   "source": [
    "out[\"outer_resample_If_replica_0_fold_0\"].value_counts()"
   ]
  },
  {
   "cell_type": "code",
   "execution_count": 15,
   "metadata": {},
   "outputs": [
    {
     "data": {
      "text/html": [
       "<div><style>\n",
       ".dataframe > thead > tr,\n",
       ".dataframe > tbody > tr {\n",
       "  text-align: right;\n",
       "  white-space: pre-wrap;\n",
       "}\n",
       "</style>\n",
       "<small>shape: (1, 652)</small><table border=\"1\" class=\"dataframe\"><thead><tr><th>cv_index</th><th>If</th><th>outer_resample_If_replica_0_fold_0</th><th>outer_resample_If_replica_0_fold_1</th><th>outer_resample_If_replica_0_fold_2</th><th>outer_resample_If_replica_0_fold_3</th><th>outer_resample_If_replica_0_fold_4</th><th>outer_resample_If_replica_0_fold_0_inner_stratified_If_replica_0_fold_0</th><th>outer_resample_If_replica_0_fold_0_inner_stratified_If_replica_0_fold_1</th><th>outer_resample_If_replica_0_fold_0_inner_stratified_If_replica_0_fold_2</th><th>outer_resample_If_replica_0_fold_0_inner_stratified_If_replica_0_fold_3</th><th>outer_resample_If_replica_0_fold_0_inner_stratified_If_replica_0_fold_4</th><th>outer_resample_If_replica_0_fold_0_inner_stratified_If_replica_1_fold_0</th><th>outer_resample_If_replica_0_fold_0_inner_stratified_If_replica_1_fold_1</th><th>outer_resample_If_replica_0_fold_0_inner_stratified_If_replica_1_fold_2</th><th>outer_resample_If_replica_0_fold_0_inner_stratified_If_replica_1_fold_3</th><th>outer_resample_If_replica_0_fold_0_inner_stratified_If_replica_1_fold_4</th><th>outer_resample_If_replica_0_fold_0_inner_stratified_If_replica_2_fold_0</th><th>outer_resample_If_replica_0_fold_0_inner_stratified_If_replica_2_fold_1</th><th>outer_resample_If_replica_0_fold_0_inner_stratified_If_replica_2_fold_2</th><th>outer_resample_If_replica_0_fold_0_inner_stratified_If_replica_2_fold_3</th><th>outer_resample_If_replica_0_fold_0_inner_stratified_If_replica_2_fold_4</th><th>outer_resample_If_replica_0_fold_0_inner_stratified_If_replica_3_fold_0</th><th>outer_resample_If_replica_0_fold_0_inner_stratified_If_replica_3_fold_1</th><th>outer_resample_If_replica_0_fold_0_inner_stratified_If_replica_3_fold_2</th><th>outer_resample_If_replica_0_fold_0_inner_stratified_If_replica_3_fold_3</th><th>outer_resample_If_replica_0_fold_0_inner_stratified_If_replica_3_fold_4</th><th>outer_resample_If_replica_0_fold_0_inner_stratified_If_replica_4_fold_0</th><th>outer_resample_If_replica_0_fold_0_inner_stratified_If_replica_4_fold_1</th><th>outer_resample_If_replica_0_fold_0_inner_stratified_If_replica_4_fold_2</th><th>outer_resample_If_replica_0_fold_0_inner_stratified_If_replica_4_fold_3</th><th>outer_resample_If_replica_0_fold_0_inner_stratified_If_replica_4_fold_4</th><th>outer_resample_If_replica_0_fold_1_inner_stratified_If_replica_0_fold_0</th><th>outer_resample_If_replica_0_fold_1_inner_stratified_If_replica_0_fold_1</th><th>outer_resample_If_replica_0_fold_1_inner_stratified_If_replica_0_fold_2</th><th>outer_resample_If_replica_0_fold_1_inner_stratified_If_replica_0_fold_3</th><th>outer_resample_If_replica_0_fold_1_inner_stratified_If_replica_0_fold_4</th><th>&hellip;</th><th>outer_resample_If_replica_4_fold_3_inner_stratified_If_replica_2_fold_3</th><th>outer_resample_If_replica_4_fold_3_inner_stratified_If_replica_2_fold_4</th><th>outer_resample_If_replica_4_fold_3_inner_stratified_If_replica_3_fold_0</th><th>outer_resample_If_replica_4_fold_3_inner_stratified_If_replica_3_fold_1</th><th>outer_resample_If_replica_4_fold_3_inner_stratified_If_replica_3_fold_2</th><th>outer_resample_If_replica_4_fold_3_inner_stratified_If_replica_3_fold_3</th><th>outer_resample_If_replica_4_fold_3_inner_stratified_If_replica_3_fold_4</th><th>outer_resample_If_replica_4_fold_3_inner_stratified_If_replica_4_fold_0</th><th>outer_resample_If_replica_4_fold_3_inner_stratified_If_replica_4_fold_1</th><th>outer_resample_If_replica_4_fold_3_inner_stratified_If_replica_4_fold_2</th><th>outer_resample_If_replica_4_fold_3_inner_stratified_If_replica_4_fold_3</th><th>outer_resample_If_replica_4_fold_3_inner_stratified_If_replica_4_fold_4</th><th>outer_resample_If_replica_4_fold_4_inner_stratified_If_replica_0_fold_0</th><th>outer_resample_If_replica_4_fold_4_inner_stratified_If_replica_0_fold_1</th><th>outer_resample_If_replica_4_fold_4_inner_stratified_If_replica_0_fold_2</th><th>outer_resample_If_replica_4_fold_4_inner_stratified_If_replica_0_fold_3</th><th>outer_resample_If_replica_4_fold_4_inner_stratified_If_replica_0_fold_4</th><th>outer_resample_If_replica_4_fold_4_inner_stratified_If_replica_1_fold_0</th><th>outer_resample_If_replica_4_fold_4_inner_stratified_If_replica_1_fold_1</th><th>outer_resample_If_replica_4_fold_4_inner_stratified_If_replica_1_fold_2</th><th>outer_resample_If_replica_4_fold_4_inner_stratified_If_replica_1_fold_3</th><th>outer_resample_If_replica_4_fold_4_inner_stratified_If_replica_1_fold_4</th><th>outer_resample_If_replica_4_fold_4_inner_stratified_If_replica_2_fold_0</th><th>outer_resample_If_replica_4_fold_4_inner_stratified_If_replica_2_fold_1</th><th>outer_resample_If_replica_4_fold_4_inner_stratified_If_replica_2_fold_2</th><th>outer_resample_If_replica_4_fold_4_inner_stratified_If_replica_2_fold_3</th><th>outer_resample_If_replica_4_fold_4_inner_stratified_If_replica_2_fold_4</th><th>outer_resample_If_replica_4_fold_4_inner_stratified_If_replica_3_fold_0</th><th>outer_resample_If_replica_4_fold_4_inner_stratified_If_replica_3_fold_1</th><th>outer_resample_If_replica_4_fold_4_inner_stratified_If_replica_3_fold_2</th><th>outer_resample_If_replica_4_fold_4_inner_stratified_If_replica_3_fold_3</th><th>outer_resample_If_replica_4_fold_4_inner_stratified_If_replica_3_fold_4</th><th>outer_resample_If_replica_4_fold_4_inner_stratified_If_replica_4_fold_0</th><th>outer_resample_If_replica_4_fold_4_inner_stratified_If_replica_4_fold_1</th><th>outer_resample_If_replica_4_fold_4_inner_stratified_If_replica_4_fold_2</th><th>outer_resample_If_replica_4_fold_4_inner_stratified_If_replica_4_fold_3</th><th>outer_resample_If_replica_4_fold_4_inner_stratified_If_replica_4_fold_4</th></tr><tr><td>u32</td><td>u32</td><td>u32</td><td>u32</td><td>u32</td><td>u32</td><td>u32</td><td>u32</td><td>u32</td><td>u32</td><td>u32</td><td>u32</td><td>u32</td><td>u32</td><td>u32</td><td>u32</td><td>u32</td><td>u32</td><td>u32</td><td>u32</td><td>u32</td><td>u32</td><td>u32</td><td>u32</td><td>u32</td><td>u32</td><td>u32</td><td>u32</td><td>u32</td><td>u32</td><td>u32</td><td>u32</td><td>u32</td><td>u32</td><td>u32</td><td>u32</td><td>u32</td><td>&hellip;</td><td>u32</td><td>u32</td><td>u32</td><td>u32</td><td>u32</td><td>u32</td><td>u32</td><td>u32</td><td>u32</td><td>u32</td><td>u32</td><td>u32</td><td>u32</td><td>u32</td><td>u32</td><td>u32</td><td>u32</td><td>u32</td><td>u32</td><td>u32</td><td>u32</td><td>u32</td><td>u32</td><td>u32</td><td>u32</td><td>u32</td><td>u32</td><td>u32</td><td>u32</td><td>u32</td><td>u32</td><td>u32</td><td>u32</td><td>u32</td><td>u32</td><td>u32</td><td>u32</td></tr></thead><tbody><tr><td>0</td><td>0</td><td>33095</td><td>33095</td><td>33095</td><td>33095</td><td>33095</td><td>33095</td><td>33095</td><td>33095</td><td>33095</td><td>33095</td><td>33095</td><td>33095</td><td>33095</td><td>33095</td><td>33095</td><td>33095</td><td>33095</td><td>33095</td><td>33095</td><td>33095</td><td>33095</td><td>33095</td><td>33095</td><td>33095</td><td>33095</td><td>33095</td><td>33095</td><td>33095</td><td>33095</td><td>33095</td><td>33095</td><td>33095</td><td>33095</td><td>33095</td><td>33095</td><td>&hellip;</td><td>33095</td><td>33095</td><td>33095</td><td>33095</td><td>33095</td><td>33095</td><td>33095</td><td>33095</td><td>33095</td><td>33095</td><td>33095</td><td>33095</td><td>33095</td><td>33095</td><td>33095</td><td>33095</td><td>33095</td><td>33095</td><td>33095</td><td>33095</td><td>33095</td><td>33095</td><td>33095</td><td>33095</td><td>33095</td><td>33095</td><td>33095</td><td>33095</td><td>33095</td><td>33095</td><td>33095</td><td>33095</td><td>33095</td><td>33095</td><td>33095</td><td>33095</td><td>33095</td></tr></tbody></table></div>"
      ],
      "text/plain": [
       "shape: (1, 652)\n",
       "┌──────────┬─────┬────────────┬────────────┬───┬────────────┬────────────┬────────────┬────────────┐\n",
       "│ cv_index ┆ If  ┆ outer_resa ┆ outer_resa ┆ … ┆ outer_resa ┆ outer_resa ┆ outer_resa ┆ outer_resa │\n",
       "│ ---      ┆ --- ┆ mple_If_re ┆ mple_If_re ┆   ┆ mple_If_re ┆ mple_If_re ┆ mple_If_re ┆ mple_If_re │\n",
       "│ u32      ┆ u32 ┆ plica_0_fo ┆ plica_0_fo ┆   ┆ plica_4_fo ┆ plica_4_fo ┆ plica_4_fo ┆ plica_4_fo │\n",
       "│          ┆     ┆ ld…        ┆ ld…        ┆   ┆ ld…        ┆ ld…        ┆ ld…        ┆ ld…        │\n",
       "│          ┆     ┆ ---        ┆ ---        ┆   ┆ ---        ┆ ---        ┆ ---        ┆ ---        │\n",
       "│          ┆     ┆ u32        ┆ u32        ┆   ┆ u32        ┆ u32        ┆ u32        ┆ u32        │\n",
       "╞══════════╪═════╪════════════╪════════════╪═══╪════════════╪════════════╪════════════╪════════════╡\n",
       "│ 0        ┆ 0   ┆ 33095      ┆ 33095      ┆ … ┆ 33095      ┆ 33095      ┆ 33095      ┆ 33095      │\n",
       "└──────────┴─────┴────────────┴────────────┴───┴────────────┴────────────┴────────────┴────────────┘"
      ]
     },
     "execution_count": 15,
     "metadata": {},
     "output_type": "execute_result"
    }
   ],
   "source": [
    "out.null_count()"
   ]
  },
  {
   "cell_type": "code",
   "execution_count": 16,
   "metadata": {},
   "outputs": [
    {
     "name": "stdout",
     "output_type": "stream",
     "text": [
      "Total rows: 64403\n",
      "Target If rows: 15654\n",
      "Other rows: 48749\n"
     ]
    },
    {
     "data": {
      "text/html": [
       "<div><style>\n",
       ".dataframe > thead > tr,\n",
       ".dataframe > tbody > tr {\n",
       "  text-align: right;\n",
       "  white-space: pre-wrap;\n",
       "}\n",
       "</style>\n",
       "<small>shape: (31_308, 6)</small><table border=\"1\" class=\"dataframe\"><thead><tr><th>cv_index</th><th>resampled_by_If_fold_0</th><th>resampled_by_If_fold_1</th><th>resampled_by_If_fold_2</th><th>resampled_by_If_fold_3</th><th>resampled_by_If_fold_4</th></tr><tr><td>u32</td><td>str</td><td>str</td><td>str</td><td>str</td><td>str</td></tr></thead><tbody><tr><td>0</td><td>&quot;train&quot;</td><td>&quot;train&quot;</td><td>&quot;train&quot;</td><td>&quot;test&quot;</td><td>&quot;train&quot;</td></tr><tr><td>1</td><td>&quot;train&quot;</td><td>&quot;test&quot;</td><td>&quot;train&quot;</td><td>&quot;train&quot;</td><td>&quot;train&quot;</td></tr><tr><td>2</td><td>&quot;train&quot;</td><td>&quot;train&quot;</td><td>&quot;train&quot;</td><td>&quot;train&quot;</td><td>&quot;test&quot;</td></tr><tr><td>4</td><td>&quot;train&quot;</td><td>&quot;train&quot;</td><td>&quot;test&quot;</td><td>&quot;train&quot;</td><td>&quot;train&quot;</td></tr><tr><td>5</td><td>&quot;test&quot;</td><td>&quot;train&quot;</td><td>&quot;train&quot;</td><td>&quot;train&quot;</td><td>&quot;train&quot;</td></tr><tr><td>&hellip;</td><td>&hellip;</td><td>&hellip;</td><td>&hellip;</td><td>&hellip;</td><td>&hellip;</td></tr><tr><td>64397</td><td>&quot;test&quot;</td><td>&quot;train&quot;</td><td>&quot;train&quot;</td><td>&quot;train&quot;</td><td>&quot;train&quot;</td></tr><tr><td>64399</td><td>&quot;test&quot;</td><td>&quot;train&quot;</td><td>&quot;train&quot;</td><td>&quot;train&quot;</td><td>&quot;train&quot;</td></tr><tr><td>64400</td><td>&quot;test&quot;</td><td>&quot;train&quot;</td><td>&quot;train&quot;</td><td>&quot;train&quot;</td><td>&quot;train&quot;</td></tr><tr><td>64401</td><td>&quot;train&quot;</td><td>&quot;test&quot;</td><td>&quot;train&quot;</td><td>&quot;train&quot;</td><td>&quot;train&quot;</td></tr><tr><td>64402</td><td>&quot;train&quot;</td><td>&quot;train&quot;</td><td>&quot;train&quot;</td><td>&quot;test&quot;</td><td>&quot;train&quot;</td></tr></tbody></table></div>"
      ],
      "text/plain": [
       "shape: (31_308, 6)\n",
       "┌──────────┬─────────────────┬─────────────────┬─────────────────┬────────────────┬────────────────┐\n",
       "│ cv_index ┆ resampled_by_If ┆ resampled_by_If ┆ resampled_by_If ┆ resampled_by_I ┆ resampled_by_I │\n",
       "│ ---      ┆ _fold_0         ┆ _fold_1         ┆ _fold_2         ┆ f_fold_3       ┆ f_fold_4       │\n",
       "│ u32      ┆ ---             ┆ ---             ┆ ---             ┆ ---            ┆ ---            │\n",
       "│          ┆ str             ┆ str             ┆ str             ┆ str            ┆ str            │\n",
       "╞══════════╪═════════════════╪═════════════════╪═════════════════╪════════════════╪════════════════╡\n",
       "│ 0        ┆ train           ┆ train           ┆ train           ┆ test           ┆ train          │\n",
       "│ 1        ┆ train           ┆ test            ┆ train           ┆ train          ┆ train          │\n",
       "│ 2        ┆ train           ┆ train           ┆ train           ┆ train          ┆ test           │\n",
       "│ 4        ┆ train           ┆ train           ┆ test            ┆ train          ┆ train          │\n",
       "│ 5        ┆ test            ┆ train           ┆ train           ┆ train          ┆ train          │\n",
       "│ …        ┆ …               ┆ …               ┆ …               ┆ …              ┆ …              │\n",
       "│ 64397    ┆ test            ┆ train           ┆ train           ┆ train          ┆ train          │\n",
       "│ 64399    ┆ test            ┆ train           ┆ train           ┆ train          ┆ train          │\n",
       "│ 64400    ┆ test            ┆ train           ┆ train           ┆ train          ┆ train          │\n",
       "│ 64401    ┆ train           ┆ test            ┆ train           ┆ train          ┆ train          │\n",
       "│ 64402    ┆ train           ┆ train           ┆ train           ┆ test           ┆ train          │\n",
       "└──────────┴─────────────────┴─────────────────┴─────────────────┴────────────────┴────────────────┘"
      ]
     },
     "execution_count": 16,
     "metadata": {},
     "output_type": "execute_result"
    }
   ],
   "source": [
    "vanilla_resample_kfold(df_f_ne,[\"If\"],5)"
   ]
  },
  {
   "cell_type": "code",
   "execution_count": 17,
   "metadata": {},
   "outputs": [
    {
     "name": "stdout",
     "output_type": "stream",
     "text": [
      "Total rows: 64403\n",
      "Target If rows: 15654\n",
      "Other rows: 48749\n"
     ]
    }
   ],
   "source": [
    "df_fb = booleanize_nodes(df_f, node_cols)\n",
    "df_f_ne, empty_cols = remove_empty_nodes(df_fb, node_cols)\n",
    "new_node_cols = list(set(node_cols) - set(empty_cols))\n",
    "df_target , df_other = divide_df_by_target(df_f_ne, \"If\")"
   ]
  },
  {
   "cell_type": "code",
   "execution_count": 18,
   "metadata": {},
   "outputs": [
    {
     "ename": "NameError",
     "evalue": "name 'sample_dataset' is not defined",
     "output_type": "error",
     "traceback": [
      "\u001b[1;31m---------------------------------------------------------------------------\u001b[0m",
      "\u001b[1;31mNameError\u001b[0m                                 Traceback (most recent call last)",
      "Cell \u001b[1;32mIn[18], line 2\u001b[0m\n\u001b[0;32m      1\u001b[0m times \u001b[38;5;241m=\u001b[39m time\u001b[38;5;241m.\u001b[39mtime()\n\u001b[1;32m----> 2\u001b[0m df_out_one \u001b[38;5;241m=\u001b[39m \u001b[43msample_dataset\u001b[49m(df_f_ne,df_target, df_other)\n\u001b[0;32m      3\u001b[0m \u001b[38;5;28mprint\u001b[39m(\u001b[38;5;124mf\u001b[39m\u001b[38;5;124m\"\u001b[39m\u001b[38;5;124mTime to sample: \u001b[39m\u001b[38;5;132;01m{\u001b[39;00mtime\u001b[38;5;241m.\u001b[39mtime()\u001b[38;5;241m-\u001b[39mtimes\u001b[38;5;132;01m}\u001b[39;00m\u001b[38;5;124m\"\u001b[39m)\n\u001b[0;32m      4\u001b[0m times \u001b[38;5;241m=\u001b[39m time\u001b[38;5;241m.\u001b[39mtime()\n",
      "\u001b[1;31mNameError\u001b[0m: name 'sample_dataset' is not defined"
     ]
    }
   ],
   "source": [
    "times = time.time()\n",
    "df_out_one = sample_dataset(df_f_ne,df_target, df_other)\n",
    "print(f\"Time to sample: {time.time()-times}\")\n",
    "times = time.time()\n",
    "# out_index = sample_dataset_two(df_target, df_other)\n",
    "# df_out_two = df_f_ne.filter(pl.col(\"index\").is_in(out_index[\"index\"]))\n",
    "# print(f\"Time to sample two: {time.time()-times}\")"
   ]
  },
  {
   "cell_type": "code",
   "execution_count": null,
   "metadata": {},
   "outputs": [
    {
     "ename": "NameError",
     "evalue": "name 'df_out_two' is not defined",
     "output_type": "error",
     "traceback": [
      "\u001b[1;31m---------------------------------------------------------------------------\u001b[0m",
      "\u001b[1;31mNameError\u001b[0m                                 Traceback (most recent call last)",
      "Cell \u001b[1;32mIn[12], line 1\u001b[0m\n\u001b[1;32m----> 1\u001b[0m df_out_one\u001b[38;5;241m.\u001b[39mshape, \u001b[43mdf_out_two\u001b[49m\u001b[38;5;241m.\u001b[39mshape\n",
      "\u001b[1;31mNameError\u001b[0m: name 'df_out_two' is not defined"
     ]
    }
   ],
   "source": [
    "df_out_one.shape, df_out_two.shape"
   ]
  },
  {
   "cell_type": "code",
   "execution_count": null,
   "metadata": {},
   "outputs": [
    {
     "data": {
      "text/html": [
       "<div><style>\n",
       ".dataframe > thead > tr,\n",
       ".dataframe > tbody > tr {\n",
       "  text-align: right;\n",
       "  white-space: pre-wrap;\n",
       "}\n",
       "</style>\n",
       "<small>shape: (31_308, 1)</small><table border=\"1\" class=\"dataframe\"><thead><tr><th>index</th></tr><tr><td>u32</td></tr></thead><tbody><tr><td>3385</td></tr><tr><td>3387</td></tr><tr><td>3388</td></tr><tr><td>3389</td></tr><tr><td>3391</td></tr><tr><td>&hellip;</td></tr><tr><td>9544</td></tr><tr><td>66766</td></tr><tr><td>45319</td></tr><tr><td>31474</td></tr><tr><td>9376</td></tr></tbody></table></div>"
      ],
      "text/plain": [
       "shape: (31_308, 1)\n",
       "┌───────┐\n",
       "│ index │\n",
       "│ ---   │\n",
       "│ u32   │\n",
       "╞═══════╡\n",
       "│ 3385  │\n",
       "│ 3387  │\n",
       "│ 3388  │\n",
       "│ 3389  │\n",
       "│ 3391  │\n",
       "│ …     │\n",
       "│ 9544  │\n",
       "│ 66766 │\n",
       "│ 45319 │\n",
       "│ 31474 │\n",
       "│ 9376  │\n",
       "└───────┘"
      ]
     },
     "execution_count": 73,
     "metadata": {},
     "output_type": "execute_result"
    }
   ],
   "source": [
    "out_index"
   ]
  },
  {
   "cell_type": "code",
   "execution_count": null,
   "metadata": {},
   "outputs": [
    {
     "data": {
      "text/plain": [
       "'index'"
      ]
     },
     "execution_count": 70,
     "metadata": {},
     "output_type": "execute_result"
    }
   ],
   "source": [
    "index"
   ]
  },
  {
   "cell_type": "code",
   "execution_count": null,
   "metadata": {},
   "outputs": [
    {
     "ename": "TypeError",
     "evalue": "string indices must be integers",
     "output_type": "error",
     "traceback": [
      "\u001b[1;31m---------------------------------------------------------------------------\u001b[0m",
      "\u001b[1;31mTypeError\u001b[0m                                 Traceback (most recent call last)",
      "Cell \u001b[1;32mIn[69], line 1\u001b[0m\n\u001b[1;32m----> 1\u001b[0m \u001b[43mindex\u001b[49m\u001b[43m[\u001b[49m\u001b[38;5;124;43m\"\u001b[39;49m\u001b[38;5;124;43mindex\u001b[39;49m\u001b[38;5;124;43m\"\u001b[39;49m\u001b[43m]\u001b[49m\n",
      "\u001b[1;31mTypeError\u001b[0m: string indices must be integers"
     ]
    }
   ],
   "source": [
    "index[\"index\"]"
   ]
  },
  {
   "cell_type": "code",
   "execution_count": null,
   "metadata": {},
   "outputs": [
    {
     "ename": "TypeError",
     "evalue": "string indices must be integers",
     "output_type": "error",
     "traceback": [
      "\u001b[1;31m---------------------------------------------------------------------------\u001b[0m",
      "\u001b[1;31mTypeError\u001b[0m                                 Traceback (most recent call last)",
      "Cell \u001b[1;32mIn[68], line 1\u001b[0m\n\u001b[1;32m----> 1\u001b[0m df_f_ne\u001b[38;5;241m.\u001b[39mfilter(pl\u001b[38;5;241m.\u001b[39mcol(\u001b[38;5;124m\"\u001b[39m\u001b[38;5;124mindex\u001b[39m\u001b[38;5;124m\"\u001b[39m)\u001b[38;5;241m.\u001b[39mis_in(\u001b[43mindex\u001b[49m\u001b[43m[\u001b[49m\u001b[38;5;124;43m\"\u001b[39;49m\u001b[38;5;124;43mindex\u001b[39;49m\u001b[38;5;124;43m\"\u001b[39;49m\u001b[43m]\u001b[49m))\n",
      "\u001b[1;31mTypeError\u001b[0m: string indices must be integers"
     ]
    }
   ],
   "source": [
    "df_f_ne.filter(pl.col(\"index\").is_in(index[\"index\"]))"
   ]
  },
  {
   "cell_type": "code",
   "execution_count": null,
   "metadata": {},
   "outputs": [
    {
     "data": {
      "text/html": [
       "<div><style>\n",
       ".dataframe > thead > tr,\n",
       ".dataframe > tbody > tr {\n",
       "  text-align: right;\n",
       "  white-space: pre-wrap;\n",
       "}\n",
       "</style>\n",
       "<small>shape: (15_654, 63)</small><table border=\"1\" class=\"dataframe\"><thead><tr><th>index</th><th>type</th><th>code</th><th>cst_tree</th><th>file_name</th><th>modules</th><th>version</th><th>license</th><th>code_token_len</th><th>cst_tree_token_len</th><th>FunctionCall</th><th>Argument</th><th>Import</th><th>If</th><th>For</th><th>While</th><th>Try</th><th>With</th><th>Lambda</th><th>Global</th><th>Nonlocal</th><th>ListComprehension</th><th>DictComprehension</th><th>SetComprehension</th><th>GeneratorExpression</th><th>Yield</th><th>Await</th><th>Return</th><th>Break</th><th>Continue</th><th>Raise</th><th>Assert</th><th>Pass</th><th>BitInvert</th><th>Not</th><th>And</th><th>Or</th><th>Add</th><th>BitAnd</th><th>BitOr</th><th>BitXor</th><th>Divide</th><th>FloorDivide</th><th>LeftShift</th><th>MatrixMultiply</th><th>Modulo</th><th>Multiply</th><th>Power</th><th>RightShift</th><th>Subtract</th><th>Equal</th><th>GreaterThan</th><th>GreaterThanEqual</th><th>In</th><th>Is</th><th>LessThan</th><th>LessThanEqual</th><th>NotEqual</th><th>IsNot</th><th>NotIn</th><th>Colon</th><th>Comma</th><th>Dot</th></tr><tr><td>u32</td><td>str</td><td>str</td><td>str</td><td>str</td><td>str</td><td>str</td><td>str</td><td>i64</td><td>i64</td><td>bool</td><td>bool</td><td>bool</td><td>bool</td><td>bool</td><td>bool</td><td>bool</td><td>bool</td><td>bool</td><td>bool</td><td>bool</td><td>bool</td><td>bool</td><td>bool</td><td>bool</td><td>bool</td><td>bool</td><td>bool</td><td>bool</td><td>bool</td><td>bool</td><td>bool</td><td>bool</td><td>bool</td><td>bool</td><td>bool</td><td>bool</td><td>bool</td><td>bool</td><td>bool</td><td>bool</td><td>bool</td><td>bool</td><td>bool</td><td>bool</td><td>bool</td><td>bool</td><td>bool</td><td>bool</td><td>bool</td><td>bool</td><td>bool</td><td>bool</td><td>bool</td><td>bool</td><td>bool</td><td>bool</td><td>bool</td><td>bool</td><td>bool</td><td>bool</td><td>bool</td><td>bool</td></tr></thead><tbody><tr><td>3385</td><td>&quot;function&quot;</td><td>&quot;\n",
       "\n",
       "def _runtest…</td><td>&quot;FunctionDef(\n",
       " …</td><td>&quot;./repo_list/st…</td><td>&quot;test/libregrte…</td><td>&quot;3.12.1&quot;</td><td>&quot;Python Softwar…</td><td>435</td><td>11549</td><td>true</td><td>true</td><td>true</td><td>true</td><td>false</td><td>false</td><td>true</td><td>false</td><td>false</td><td>false</td><td>false</td><td>true</td><td>false</td><td>false</td><td>false</td><td>false</td><td>false</td><td>false</td><td>false</td><td>false</td><td>false</td><td>false</td><td>false</td><td>false</td><td>true</td><td>true</td><td>false</td><td>false</td><td>false</td><td>false</td><td>false</td><td>false</td><td>false</td><td>false</td><td>false</td><td>false</td><td>false</td><td>false</td><td>false</td><td>false</td><td>false</td><td>false</td><td>false</td><td>false</td><td>false</td><td>false</td><td>false</td><td>true</td><td>true</td><td>false</td><td>false</td><td>true</td><td>true</td></tr><tr><td>3387</td><td>&quot;function&quot;</td><td>&quot;\n",
       "def show_wind…</td><td>&quot;FunctionDef(\n",
       " …</td><td>&quot;./repo_list/st…</td><td>&quot;idlelib/autoco…</td><td>&quot;3.12.1&quot;</td><td>&quot;Python Softwar…</td><td>767</td><td>22098</td><td>true</td><td>true</td><td>false</td><td>true</td><td>true</td><td>false</td><td>true</td><td>false</td><td>false</td><td>false</td><td>false</td><td>false</td><td>false</td><td>false</td><td>false</td><td>false</td><td>false</td><td>true</td><td>false</td><td>false</td><td>false</td><td>false</td><td>true</td><td>false</td><td>false</td><td>true</td><td>true</td><td>true</td><td>false</td><td>false</td><td>false</td><td>false</td><td>false</td><td>false</td><td>false</td><td>false</td><td>false</td><td>false</td><td>false</td><td>true</td><td>true</td><td>false</td><td>false</td><td>false</td><td>false</td><td>false</td><td>false</td><td>true</td><td>false</td><td>false</td><td>true</td><td>true</td><td>true</td></tr><tr><td>3388</td><td>&quot;function&quot;</td><td>&quot;\n",
       "#\n",
       "# User visi…</td><td>&quot;FunctionDef(\n",
       " …</td><td>&quot;./repo_list/st…</td><td>&quot;aifc.py&quot;</td><td>&quot;3.12.1&quot;</td><td>&quot;Python Softwar…</td><td>43</td><td>1138</td><td>true</td><td>true</td><td>false</td><td>true</td><td>false</td><td>false</td><td>false</td><td>false</td><td>false</td><td>false</td><td>false</td><td>false</td><td>false</td><td>false</td><td>false</td><td>false</td><td>false</td><td>false</td><td>false</td><td>false</td><td>true</td><td>false</td><td>false</td><td>false</td><td>false</td><td>false</td><td>false</td><td>false</td><td>false</td><td>false</td><td>false</td><td>false</td><td>false</td><td>false</td><td>false</td><td>false</td><td>false</td><td>false</td><td>false</td><td>false</td><td>false</td><td>false</td><td>false</td><td>false</td><td>false</td><td>false</td><td>false</td><td>false</td><td>false</td><td>false</td><td>false</td><td>false</td><td>true</td></tr><tr><td>3389</td><td>&quot;function&quot;</td><td>&quot;\n",
       "def testGetSe…</td><td>&quot;FunctionDef(\n",
       " …</td><td>&quot;./repo_list/st…</td><td>&quot;test/test_sock…</td><td>&quot;3.12.1&quot;</td><td>&quot;Python Softwar…</td><td>447</td><td>10100</td><td>true</td><td>true</td><td>false</td><td>true</td><td>true</td><td>false</td><td>true</td><td>false</td><td>false</td><td>false</td><td>false</td><td>false</td><td>false</td><td>false</td><td>false</td><td>false</td><td>false</td><td>false</td><td>true</td><td>false</td><td>true</td><td>false</td><td>true</td><td>false</td><td>true</td><td>false</td><td>true</td><td>false</td><td>false</td><td>false</td><td>false</td><td>false</td><td>false</td><td>false</td><td>false</td><td>false</td><td>false</td><td>false</td><td>false</td><td>false</td><td>false</td><td>false</td><td>true</td><td>true</td><td>false</td><td>false</td><td>false</td><td>false</td><td>true</td><td>false</td><td>false</td><td>true</td><td>true</td></tr><tr><td>3391</td><td>&quot;function&quot;</td><td>&quot;\n",
       "def test_noni…</td><td>&quot;FunctionDef(\n",
       " …</td><td>&quot;./repo_list/st…</td><td>&quot;test/test_grp.…</td><td>&quot;3.12.1&quot;</td><td>&quot;Python Softwar…</td><td>74</td><td>2904</td><td>true</td><td>true</td><td>false</td><td>true</td><td>false</td><td>false</td><td>false</td><td>false</td><td>false</td><td>false</td><td>false</td><td>false</td><td>false</td><td>false</td><td>false</td><td>false</td><td>false</td><td>false</td><td>false</td><td>false</td><td>false</td><td>false</td><td>false</td><td>false</td><td>true</td><td>false</td><td>false</td><td>false</td><td>false</td><td>false</td><td>false</td><td>false</td><td>false</td><td>false</td><td>false</td><td>false</td><td>false</td><td>false</td><td>false</td><td>false</td><td>false</td><td>false</td><td>false</td><td>false</td><td>false</td><td>false</td><td>false</td><td>false</td><td>false</td><td>false</td><td>false</td><td>true</td><td>true</td></tr><tr><td>&hellip;</td><td>&hellip;</td><td>&hellip;</td><td>&hellip;</td><td>&hellip;</td><td>&hellip;</td><td>&hellip;</td><td>&hellip;</td><td>&hellip;</td><td>&hellip;</td><td>&hellip;</td><td>&hellip;</td><td>&hellip;</td><td>&hellip;</td><td>&hellip;</td><td>&hellip;</td><td>&hellip;</td><td>&hellip;</td><td>&hellip;</td><td>&hellip;</td><td>&hellip;</td><td>&hellip;</td><td>&hellip;</td><td>&hellip;</td><td>&hellip;</td><td>&hellip;</td><td>&hellip;</td><td>&hellip;</td><td>&hellip;</td><td>&hellip;</td><td>&hellip;</td><td>&hellip;</td><td>&hellip;</td><td>&hellip;</td><td>&hellip;</td><td>&hellip;</td><td>&hellip;</td><td>&hellip;</td><td>&hellip;</td><td>&hellip;</td><td>&hellip;</td><td>&hellip;</td><td>&hellip;</td><td>&hellip;</td><td>&hellip;</td><td>&hellip;</td><td>&hellip;</td><td>&hellip;</td><td>&hellip;</td><td>&hellip;</td><td>&hellip;</td><td>&hellip;</td><td>&hellip;</td><td>&hellip;</td><td>&hellip;</td><td>&hellip;</td><td>&hellip;</td><td>&hellip;</td><td>&hellip;</td><td>&hellip;</td><td>&hellip;</td><td>&hellip;</td><td>&hellip;</td></tr><tr><td>67779</td><td>&quot;function&quot;</td><td>&quot;\n",
       "\n",
       "def display_…</td><td>&quot;FunctionDef(\n",
       " …</td><td>&quot;./repo_list/st…</td><td>&quot;test/libregrte…</td><td>&quot;3.12.1&quot;</td><td>&quot;Python Softwar…</td><td>614</td><td>18610</td><td>true</td><td>true</td><td>false</td><td>true</td><td>true</td><td>false</td><td>false</td><td>false</td><td>false</td><td>false</td><td>false</td><td>false</td><td>false</td><td>false</td><td>false</td><td>false</td><td>false</td><td>false</td><td>false</td><td>false</td><td>false</td><td>false</td><td>false</td><td>false</td><td>false</td><td>true</td><td>false</td><td>false</td><td>false</td><td>true</td><td>false</td><td>false</td><td>false</td><td>false</td><td>false</td><td>true</td><td>false</td><td>false</td><td>false</td><td>false</td><td>false</td><td>false</td><td>false</td><td>false</td><td>false</td><td>false</td><td>false</td><td>true</td><td>true</td><td>false</td><td>false</td><td>true</td><td>true</td></tr><tr><td>67780</td><td>&quot;function&quot;</td><td>&quot;\n",
       "def find(self…</td><td>&quot;FunctionDef(\n",
       " …</td><td>&quot;./repo_list/st…</td><td>&quot;site-packages/…</td><td>&quot;3.12.1&quot;</td><td>&quot;Python Softwar…</td><td>983</td><td>24087</td><td>true</td><td>true</td><td>false</td><td>true</td><td>true</td><td>true</td><td>false</td><td>false</td><td>false</td><td>false</td><td>false</td><td>false</td><td>false</td><td>false</td><td>false</td><td>false</td><td>false</td><td>true</td><td>false</td><td>false</td><td>true</td><td>false</td><td>false</td><td>false</td><td>true</td><td>true</td><td>true</td><td>false</td><td>false</td><td>true</td><td>false</td><td>false</td><td>false</td><td>false</td><td>false</td><td>true</td><td>false</td><td>false</td><td>false</td><td>false</td><td>false</td><td>false</td><td>false</td><td>true</td><td>true</td><td>false</td><td>false</td><td>true</td><td>false</td><td>true</td><td>false</td><td>true</td><td>true</td></tr><tr><td>67783</td><td>&quot;function&quot;</td><td>&quot;\n",
       "def _add_to_c…</td><td>&quot;FunctionDef(\n",
       " …</td><td>&quot;./repo_list/st…</td><td>&quot;site-packages/…</td><td>&quot;3.12.1&quot;</td><td>&quot;Python Softwar…</td><td>241</td><td>9085</td><td>true</td><td>true</td><td>false</td><td>true</td><td>false</td><td>false</td><td>false</td><td>false</td><td>false</td><td>false</td><td>false</td><td>false</td><td>false</td><td>false</td><td>false</td><td>false</td><td>false</td><td>false</td><td>false</td><td>false</td><td>true</td><td>false</td><td>false</td><td>false</td><td>true</td><td>false</td><td>false</td><td>false</td><td>false</td><td>false</td><td>false</td><td>false</td><td>false</td><td>false</td><td>false</td><td>false</td><td>false</td><td>false</td><td>false</td><td>false</td><td>false</td><td>false</td><td>false</td><td>false</td><td>false</td><td>false</td><td>false</td><td>false</td><td>false</td><td>false</td><td>false</td><td>true</td><td>true</td></tr><tr><td>67784</td><td>&quot;function&quot;</td><td>&quot;\n",
       "def test_pare…</td><td>&quot;FunctionDef(\n",
       " …</td><td>&quot;./repo_list/st…</td><td>&quot;idlelib/idle_t…</td><td>&quot;3.12.1&quot;</td><td>&quot;Python Softwar…</td><td>342</td><td>10686</td><td>true</td><td>true</td><td>false</td><td>true</td><td>true</td><td>false</td><td>false</td><td>true</td><td>false</td><td>false</td><td>false</td><td>false</td><td>false</td><td>false</td><td>false</td><td>false</td><td>false</td><td>false</td><td>false</td><td>false</td><td>false</td><td>false</td><td>false</td><td>false</td><td>false</td><td>false</td><td>false</td><td>false</td><td>false</td><td>false</td><td>false</td><td>false</td><td>false</td><td>false</td><td>false</td><td>false</td><td>false</td><td>false</td><td>false</td><td>false</td><td>true</td><td>false</td><td>false</td><td>false</td><td>false</td><td>false</td><td>false</td><td>false</td><td>false</td><td>false</td><td>false</td><td>true</td><td>true</td></tr><tr><td>67785</td><td>&quot;function&quot;</td><td>&quot;\n",
       "\n",
       "def get_msg_…</td><td>&quot;FunctionDef(\n",
       " …</td><td>&quot;./repo_list/st…</td><td>&quot;email/_header_…</td><td>&quot;3.12.1&quot;</td><td>&quot;Python Softwar…</td><td>638</td><td>17332</td><td>true</td><td>true</td><td>false</td><td>true</td><td>false</td><td>false</td><td>true</td><td>false</td><td>false</td><td>false</td><td>false</td><td>false</td><td>false</td><td>false</td><td>false</td><td>false</td><td>false</td><td>true</td><td>false</td><td>false</td><td>true</td><td>false</td><td>false</td><td>false</td><td>true</td><td>true</td><td>true</td><td>false</td><td>false</td><td>false</td><td>false</td><td>false</td><td>false</td><td>false</td><td>false</td><td>false</td><td>false</td><td>false</td><td>false</td><td>false</td><td>true</td><td>false</td><td>false</td><td>true</td><td>false</td><td>false</td><td>false</td><td>true</td><td>false</td><td>false</td><td>true</td><td>true</td><td>true</td></tr></tbody></table></div>"
      ],
      "text/plain": [
       "shape: (15_654, 63)\n",
       "┌───────┬──────────┬───────────────────────────┬────────────────┬───┬───────┬───────┬───────┬──────┐\n",
       "│ index ┆ type     ┆ code                      ┆ cst_tree       ┆ … ┆ NotIn ┆ Colon ┆ Comma ┆ Dot  │\n",
       "│ ---   ┆ ---      ┆ ---                       ┆ ---            ┆   ┆ ---   ┆ ---   ┆ ---   ┆ ---  │\n",
       "│ u32   ┆ str      ┆ str                       ┆ str            ┆   ┆ bool  ┆ bool  ┆ bool  ┆ bool │\n",
       "╞═══════╪══════════╪═══════════════════════════╪════════════════╪═══╪═══════╪═══════╪═══════╪══════╡\n",
       "│ 3385  ┆ function ┆                           ┆ FunctionDef(   ┆ … ┆ false ┆ false ┆ true  ┆ true │\n",
       "│       ┆          ┆                           ┆     name=Name( ┆   ┆       ┆       ┆       ┆      │\n",
       "│       ┆          ┆ def _runtest(result:      ┆     …          ┆   ┆       ┆       ┆       ┆      │\n",
       "│       ┆          ┆ TestResul…                ┆                ┆   ┆       ┆       ┆       ┆      │\n",
       "│ 3387  ┆ function ┆                           ┆ FunctionDef(   ┆ … ┆ false ┆ true  ┆ true  ┆ true │\n",
       "│       ┆          ┆ def show_window(self,     ┆     name=Name( ┆   ┆       ┆       ┆       ┆      │\n",
       "│       ┆          ┆ comp_list…                ┆     …          ┆   ┆       ┆       ┆       ┆      │\n",
       "│ 3388  ┆ function ┆                           ┆ FunctionDef(   ┆ … ┆ false ┆ false ┆ false ┆ true │\n",
       "│       ┆          ┆ #                         ┆     name=Name( ┆   ┆       ┆       ┆       ┆      │\n",
       "│       ┆          ┆ # User visible methods.   ┆     …          ┆   ┆       ┆       ┆       ┆      │\n",
       "│       ┆          ┆ #                         ┆                ┆   ┆       ┆       ┆       ┆      │\n",
       "│       ┆          ┆ def…                      ┆                ┆   ┆       ┆       ┆       ┆      │\n",
       "│ 3389  ┆ function ┆                           ┆ FunctionDef(   ┆ … ┆ false ┆ false ┆ true  ┆ true │\n",
       "│       ┆          ┆ def testGetServBy(self):  ┆     name=Name( ┆   ┆       ┆       ┆       ┆      │\n",
       "│       ┆          ┆     eq…                   ┆     …          ┆   ┆       ┆       ┆       ┆      │\n",
       "│ 3391  ┆ function ┆                           ┆ FunctionDef(   ┆ … ┆ false ┆ false ┆ true  ┆ true │\n",
       "│       ┆          ┆ def test_noninteger_gid(s ┆     name=Name( ┆   ┆       ┆       ┆       ┆      │\n",
       "│       ┆          ┆ elf):                     ┆     …          ┆   ┆       ┆       ┆       ┆      │\n",
       "│       ┆          ┆ …                         ┆                ┆   ┆       ┆       ┆       ┆      │\n",
       "│ …     ┆ …        ┆ …                         ┆ …              ┆ … ┆ …     ┆ …     ┆ …     ┆ …    │\n",
       "│ 67779 ┆ function ┆                           ┆ FunctionDef(   ┆ … ┆ false ┆ false ┆ true  ┆ true │\n",
       "│       ┆          ┆                           ┆     name=Name( ┆   ┆       ┆       ┆       ┆      │\n",
       "│       ┆          ┆ def display_header(use_re ┆     …          ┆   ┆       ┆       ┆       ┆      │\n",
       "│       ┆          ┆ sourc…                    ┆                ┆   ┆       ┆       ┆       ┆      │\n",
       "│ 67780 ┆ function ┆                           ┆ FunctionDef(   ┆ … ┆ true  ┆ false ┆ true  ┆ true │\n",
       "│       ┆          ┆ def find(self,            ┆     name=Name( ┆   ┆       ┆       ┆       ┆      │\n",
       "│       ┆          ┆ requirement, met…         ┆     …          ┆   ┆       ┆       ┆       ┆      │\n",
       "│ 67783 ┆ function ┆                           ┆ FunctionDef(   ┆ … ┆ false ┆ false ┆ true  ┆ true │\n",
       "│       ┆          ┆ def                       ┆     name=Name( ┆   ┆       ┆       ┆       ┆      │\n",
       "│       ┆          ┆ _add_to_criteria(self,    ┆     …          ┆   ┆       ┆       ┆       ┆      │\n",
       "│       ┆          ┆ crit…                     ┆                ┆   ┆       ┆       ┆       ┆      │\n",
       "│ 67784 ┆ function ┆                           ┆ FunctionDef(   ┆ … ┆ false ┆ false ┆ true  ┆ true │\n",
       "│       ┆          ┆ def                       ┆     name=Name( ┆   ┆       ┆       ┆       ┆      │\n",
       "│       ┆          ┆ test_paren_styles(self):  ┆     …          ┆   ┆       ┆       ┆       ┆      │\n",
       "│       ┆          ┆   …                       ┆                ┆   ┆       ┆       ┆       ┆      │\n",
       "│ 67785 ┆ function ┆                           ┆ FunctionDef(   ┆ … ┆ false ┆ true  ┆ true  ┆ true │\n",
       "│       ┆          ┆                           ┆     name=Name( ┆   ┆       ┆       ┆       ┆      │\n",
       "│       ┆          ┆ def get_msg_id(value):    ┆     …          ┆   ┆       ┆       ┆       ┆      │\n",
       "│       ┆          ┆     \"\"\"…                  ┆                ┆   ┆       ┆       ┆       ┆      │\n",
       "└───────┴──────────┴───────────────────────────┴────────────────┴───┴───────┴───────┴───────┴──────┘"
      ]
     },
     "execution_count": 53,
     "metadata": {},
     "output_type": "execute_result"
    }
   ],
   "source": [
    "df_target"
   ]
  },
  {
   "cell_type": "code",
   "execution_count": null,
   "metadata": {},
   "outputs": [
    {
     "data": {
      "text/html": [
       "<div><style>\n",
       ".dataframe > thead > tr,\n",
       ".dataframe > tbody > tr {\n",
       "  text-align: right;\n",
       "  white-space: pre-wrap;\n",
       "}\n",
       "</style>\n",
       "<small>shape: (1, 53)</small><table border=\"1\" class=\"dataframe\"><thead><tr><th>Not</th><th>FloorDivide</th><th>DictComprehension</th><th>Return</th><th>RightShift</th><th>GeneratorExpression</th><th>MatrixMultiply</th><th>LessThan</th><th>If</th><th>While</th><th>Argument</th><th>Equal</th><th>Global</th><th>Power</th><th>Continue</th><th>Lambda</th><th>Add</th><th>LessThanEqual</th><th>Subtract</th><th>Multiply</th><th>Dot</th><th>Pass</th><th>NotEqual</th><th>Or</th><th>SetComprehension</th><th>Import</th><th>Divide</th><th>In</th><th>Nonlocal</th><th>BitAnd</th><th>Assert</th><th>GreaterThan</th><th>ListComprehension</th><th>With</th><th>Break</th><th>BitOr</th><th>BitXor</th><th>NotIn</th><th>Try</th><th>And</th><th>Modulo</th><th>Await</th><th>GreaterThanEqual</th><th>For</th><th>Raise</th><th>LeftShift</th><th>Comma</th><th>IsNot</th><th>Colon</th><th>BitInvert</th><th>Yield</th><th>FunctionCall</th><th>Is</th></tr><tr><td>u32</td><td>u32</td><td>u32</td><td>u32</td><td>u32</td><td>u32</td><td>u32</td><td>u32</td><td>u32</td><td>u32</td><td>u32</td><td>u32</td><td>u32</td><td>u32</td><td>u32</td><td>u32</td><td>u32</td><td>u32</td><td>u32</td><td>u32</td><td>u32</td><td>u32</td><td>u32</td><td>u32</td><td>u32</td><td>u32</td><td>u32</td><td>u32</td><td>u32</td><td>u32</td><td>u32</td><td>u32</td><td>u32</td><td>u32</td><td>u32</td><td>u32</td><td>u32</td><td>u32</td><td>u32</td><td>u32</td><td>u32</td><td>u32</td><td>u32</td><td>u32</td><td>u32</td><td>u32</td><td>u32</td><td>u32</td><td>u32</td><td>u32</td><td>u32</td><td>u32</td><td>u32</td></tr></thead><tbody><tr><td>370</td><td>207</td><td>80</td><td>12585</td><td>54</td><td>502</td><td>9</td><td>283</td><td>0</td><td>358</td><td>45993</td><td>1002</td><td>110</td><td>436</td><td>49</td><td>1031</td><td>3696</td><td>178</td><td>1007</td><td>2044</td><td>42476</td><td>3380</td><td>249</td><td>418</td><td>75</td><td>971</td><td>789</td><td>443</td><td>432</td><td>183</td><td>490</td><td>294</td><td>906</td><td>7577</td><td>63</td><td>421</td><td>63</td><td>84</td><td>2975</td><td>375</td><td>1751</td><td>1014</td><td>225</td><td>4866</td><td>2037</td><td>215</td><td>38145</td><td>180</td><td>2290</td><td>39</td><td>1073</td><td>41793</td><td>457</td></tr></tbody></table></div>"
      ],
      "text/plain": [
       "shape: (1, 53)\n",
       "┌─────┬─────────────┬───────────────────┬────────┬───┬───────────┬───────┬──────────────┬─────┐\n",
       "│ Not ┆ FloorDivide ┆ DictComprehension ┆ Return ┆ … ┆ BitInvert ┆ Yield ┆ FunctionCall ┆ Is  │\n",
       "│ --- ┆ ---         ┆ ---               ┆ ---    ┆   ┆ ---       ┆ ---   ┆ ---          ┆ --- │\n",
       "│ u32 ┆ u32         ┆ u32               ┆ u32    ┆   ┆ u32       ┆ u32   ┆ u32          ┆ u32 │\n",
       "╞═════╪═════════════╪═══════════════════╪════════╪═══╪═══════════╪═══════╪══════════════╪═════╡\n",
       "│ 370 ┆ 207         ┆ 80                ┆ 12585  ┆ … ┆ 39        ┆ 1073  ┆ 41793        ┆ 457 │\n",
       "└─────┴─────────────┴───────────────────┴────────┴───┴───────────┴───────┴──────────────┴─────┘"
      ]
     },
     "execution_count": 51,
     "metadata": {},
     "output_type": "execute_result"
    }
   ],
   "source": [
    "df_other.select(pl.col(new_node_cols).sum())"
   ]
  },
  {
   "cell_type": "code",
   "execution_count": null,
   "metadata": {},
   "outputs": [
    {
     "data": {
      "text/html": [
       "<div><style>\n",
       ".dataframe > thead > tr,\n",
       ".dataframe > tbody > tr {\n",
       "  text-align: right;\n",
       "  white-space: pre-wrap;\n",
       "}\n",
       "</style>\n",
       "<small>shape: (1, 53)</small><table border=\"1\" class=\"dataframe\"><thead><tr><th>Not</th><th>FloorDivide</th><th>DictComprehension</th><th>Return</th><th>RightShift</th><th>GeneratorExpression</th><th>MatrixMultiply</th><th>LessThan</th><th>If</th><th>While</th><th>Argument</th><th>Equal</th><th>Global</th><th>Power</th><th>Continue</th><th>Lambda</th><th>Add</th><th>LessThanEqual</th><th>Subtract</th><th>Multiply</th><th>Dot</th><th>Pass</th><th>NotEqual</th><th>Or</th><th>SetComprehension</th><th>Import</th><th>Divide</th><th>In</th><th>Nonlocal</th><th>BitAnd</th><th>Assert</th><th>GreaterThan</th><th>ListComprehension</th><th>With</th><th>Break</th><th>BitOr</th><th>BitXor</th><th>NotIn</th><th>Try</th><th>And</th><th>Modulo</th><th>Await</th><th>GreaterThanEqual</th><th>For</th><th>Raise</th><th>LeftShift</th><th>Comma</th><th>IsNot</th><th>Colon</th><th>BitInvert</th><th>Yield</th><th>FunctionCall</th><th>Is</th></tr><tr><td>u32</td><td>u32</td><td>u32</td><td>u32</td><td>u32</td><td>u32</td><td>u32</td><td>u32</td><td>u32</td><td>u32</td><td>u32</td><td>u32</td><td>u32</td><td>u32</td><td>u32</td><td>u32</td><td>u32</td><td>u32</td><td>u32</td><td>u32</td><td>u32</td><td>u32</td><td>u32</td><td>u32</td><td>u32</td><td>u32</td><td>u32</td><td>u32</td><td>u32</td><td>u32</td><td>u32</td><td>u32</td><td>u32</td><td>u32</td><td>u32</td><td>u32</td><td>u32</td><td>u32</td><td>u32</td><td>u32</td><td>u32</td><td>u32</td><td>u32</td><td>u32</td><td>u32</td><td>u32</td><td>u32</td><td>u32</td><td>u32</td><td>u32</td><td>u32</td><td>u32</td><td>u32</td></tr></thead><tbody><tr><td>4886</td><td>290</td><td>114</td><td>9179</td><td>86</td><td>621</td><td>0</td><td>1330</td><td>15654</td><td>1263</td><td>15180</td><td>4758</td><td>159</td><td>232</td><td>948</td><td>386</td><td>3488</td><td>652</td><td>1518</td><td>1155</td><td>14925</td><td>1081</td><td>1920</td><td>2155</td><td>41</td><td>740</td><td>288</td><td>2340</td><td>159</td><td>323</td><td>751</td><td>1346</td><td>779</td><td>1738</td><td>1065</td><td>298</td><td>41</td><td>1130</td><td>3625</td><td>3348</td><td>2435</td><td>251</td><td>792</td><td>4643</td><td>4170</td><td>138</td><td>14165</td><td>2751</td><td>2458</td><td>59</td><td>616</td><td>15165</td><td>3462</td></tr></tbody></table></div>"
      ],
      "text/plain": [
       "shape: (1, 53)\n",
       "┌──────┬─────────────┬───────────────────┬────────┬───┬───────────┬───────┬──────────────┬──────┐\n",
       "│ Not  ┆ FloorDivide ┆ DictComprehension ┆ Return ┆ … ┆ BitInvert ┆ Yield ┆ FunctionCall ┆ Is   │\n",
       "│ ---  ┆ ---         ┆ ---               ┆ ---    ┆   ┆ ---       ┆ ---   ┆ ---          ┆ ---  │\n",
       "│ u32  ┆ u32         ┆ u32               ┆ u32    ┆   ┆ u32       ┆ u32   ┆ u32          ┆ u32  │\n",
       "╞══════╪═════════════╪═══════════════════╪════════╪═══╪═══════════╪═══════╪══════════════╪══════╡\n",
       "│ 4886 ┆ 290         ┆ 114               ┆ 9179   ┆ … ┆ 59        ┆ 616   ┆ 15165        ┆ 3462 │\n",
       "└──────┴─────────────┴───────────────────┴────────┴───┴───────────┴───────┴──────────────┴──────┘"
      ]
     },
     "execution_count": 52,
     "metadata": {},
     "output_type": "execute_result"
    }
   ],
   "source": [
    "df_target.select(pl.col(new_node_cols).sum())"
   ]
  },
  {
   "cell_type": "markdown",
   "metadata": {},
   "source": [
    "The algorithm should work:\n",
    "\n",
    "1) Filter two frame with and without target\n",
    "2) populate a new without target frame with a stratified representation of the other nodes"
   ]
  },
  {
   "cell_type": "code",
   "execution_count": null,
   "metadata": {},
   "outputs": [
    {
     "data": {
      "text/plain": [
       "['FunctionCall',\n",
       " 'Argument',\n",
       " 'Import',\n",
       " 'If',\n",
       " 'BaseCompoundStatement',\n",
       " 'For',\n",
       " 'While',\n",
       " 'Try',\n",
       " 'With',\n",
       " 'Lambda',\n",
       " 'Global',\n",
       " 'Nonlocal',\n",
       " 'ListComprehension',\n",
       " 'DictComprehension',\n",
       " 'SetComprehension',\n",
       " 'GeneratorExpression',\n",
       " 'Yield',\n",
       " 'Await',\n",
       " 'Return',\n",
       " 'Break',\n",
       " 'Continue',\n",
       " 'Raise',\n",
       " 'Assert',\n",
       " 'Pass',\n",
       " 'BitInvert',\n",
       " 'UnaryMinus',\n",
       " 'Not',\n",
       " 'UnaryPlus',\n",
       " 'And',\n",
       " 'Or',\n",
       " 'Add',\n",
       " 'BitAnd',\n",
       " 'BitOr',\n",
       " 'BitXor',\n",
       " 'Divide',\n",
       " 'FloorDivide',\n",
       " 'LeftShift',\n",
       " 'MatrixMultiply',\n",
       " 'Modulo',\n",
       " 'Multiply',\n",
       " 'Power',\n",
       " 'RightShift',\n",
       " 'Subtract',\n",
       " 'Equal',\n",
       " 'GreaterThan',\n",
       " 'GreaterThanEqual',\n",
       " 'In',\n",
       " 'Is',\n",
       " 'LessThan',\n",
       " 'LessThanEqual',\n",
       " 'NotEqual',\n",
       " 'IsNot',\n",
       " 'NotIn',\n",
       " 'AddAssign',\n",
       " 'SubtractAssign',\n",
       " 'MultiplyAssign',\n",
       " 'DivideAssign',\n",
       " 'ModuloAssign',\n",
       " 'AndAssign',\n",
       " 'OrAssign',\n",
       " 'XorAssign',\n",
       " 'LeftShiftAssign',\n",
       " 'RightShiftAssign',\n",
       " 'PowerAssign',\n",
       " 'FloorDivideAssign',\n",
       " 'MatrixMultiplyAssign',\n",
       " 'Colon',\n",
       " 'Comma',\n",
       " 'Dot']"
      ]
     },
     "execution_count": 15,
     "metadata": {},
     "output_type": "execute_result"
    }
   ],
   "source": []
  },
  {
   "cell_type": "code",
   "execution_count": null,
   "metadata": {},
   "outputs": [
    {
     "data": {
      "text/html": [
       "<div><style>\n",
       ".dataframe > thead > tr,\n",
       ".dataframe > tbody > tr {\n",
       "  text-align: right;\n",
       "  white-space: pre-wrap;\n",
       "}\n",
       "</style>\n",
       "<small>shape: (69, 1)</small><table border=\"1\" class=\"dataframe\"><thead><tr><th>column</th></tr><tr><td>str</td></tr></thead><tbody><tr><td>&quot;FunctionCall&quot;</td></tr><tr><td>&quot;Argument&quot;</td></tr><tr><td>&quot;Import&quot;</td></tr><tr><td>&quot;If&quot;</td></tr><tr><td>&quot;BaseCompoundSt…</td></tr><tr><td>&hellip;</td></tr><tr><td>&quot;FloorDivideAss…</td></tr><tr><td>&quot;MatrixMultiply…</td></tr><tr><td>&quot;Colon&quot;</td></tr><tr><td>&quot;Comma&quot;</td></tr><tr><td>&quot;Dot&quot;</td></tr></tbody></table></div>"
      ],
      "text/plain": [
       "shape: (69, 1)\n",
       "┌───────────────────────┐\n",
       "│ column                │\n",
       "│ ---                   │\n",
       "│ str                   │\n",
       "╞═══════════════════════╡\n",
       "│ FunctionCall          │\n",
       "│ Argument              │\n",
       "│ Import                │\n",
       "│ If                    │\n",
       "│ BaseCompoundStatement │\n",
       "│ …                     │\n",
       "│ FloorDivideAssign     │\n",
       "│ MatrixMultiplyAssign  │\n",
       "│ Colon                 │\n",
       "│ Comma                 │\n",
       "│ Dot                   │\n",
       "└───────────────────────┘"
      ]
     },
     "execution_count": 12,
     "metadata": {},
     "output_type": "execute_result"
    }
   ],
   "source": [
    "node_list = pl.DataFrame({\"column\":df.columns[13:]})\n",
    "node_list"
   ]
  },
  {
   "cell_type": "code",
   "execution_count": null,
   "metadata": {},
   "outputs": [
    {
     "name": "stdout",
     "output_type": "stream",
     "text": [
      "Time to drop columns: 0.0010013580322265625\n",
      "Time to change int64 to boolean: 0.019043922424316406\n",
      "Time to filter target and other: 0.07357668876647949\n",
      "Time to filter other nodes in for loop: 0.022034168243408203\n",
      "Time to join train and test: 0.027542591094970703\n",
      "Time to filter train and test: 2.9780807495117188\n"
     ]
    }
   ],
   "source": [
    "out = create_dataset_tf(df, 1000, \"Break\", node_list)"
   ]
  },
  {
   "cell_type": "code",
   "execution_count": null,
   "metadata": {},
   "outputs": [],
   "source": []
  }
 ],
 "metadata": {
  "kernelspec": {
   "display_name": "Python 3",
   "language": "python",
   "name": "python3"
  },
  "language_info": {
   "codemirror_mode": {
    "name": "ipython",
    "version": 3
   },
   "file_extension": ".py",
   "mimetype": "text/x-python",
   "name": "python",
   "nbconvert_exporter": "python",
   "pygments_lexer": "ipython3",
   "version": "3.10.6"
  }
 },
 "nbformat": 4,
 "nbformat_minor": 2
}
